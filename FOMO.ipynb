{
 "cells": [
  {
   "cell_type": "code",
   "execution_count": 1,
   "metadata": {},
   "outputs": [],
   "source": [
    "# TODO adattare map alla distanza tra centri"
   ]
  },
  {
   "cell_type": "markdown",
   "metadata": {},
   "source": [
    "# Implement a tiny version of YOLO with DIOR dataset"
   ]
  },
  {
   "cell_type": "markdown",
   "metadata": {},
   "source": [
    "## Import libraries"
   ]
  },
  {
   "cell_type": "code",
   "execution_count": 2,
   "metadata": {},
   "outputs": [
    {
     "name": "stderr",
     "output_type": "stream",
     "text": [
      "/home/arch/ObjDct_Repo/.venv/lib/python3.11/site-packages/tqdm/auto.py:21: TqdmWarning: IProgress not found. Please update jupyter and ipywidgets. See https://ipywidgets.readthedocs.io/en/stable/user_install.html\n",
      "  from .autonotebook import tqdm as notebook_tqdm\n"
     ]
    }
   ],
   "source": [
    "import os\n",
    "import shutil\n",
    "import numpy as np\n",
    "from tqdm.auto import tqdm\n",
    "from collections import Counter\n",
    "import matplotlib.pyplot as plt\n",
    "import matplotlib.patches as patches\n",
    "import cv2\n",
    "import torch\n",
    "import torch.nn as nn\n",
    "from torch.utils.data import DataLoader\n",
    "import torchvision.transforms as transforms\n",
    "from PIL import Image\n",
    "import torch.optim as optim\n",
    "from torchinfo import summary\n",
    "import albumentations as A\n",
    "from albumentations.pytorch import ToTensorV2"
   ]
  },
  {
   "cell_type": "markdown",
   "metadata": {},
   "source": [
    "## Implement YOLO architecture"
   ]
  },
  {
   "cell_type": "code",
   "execution_count": 3,
   "metadata": {},
   "outputs": [
    {
     "data": {
      "text/plain": [
       "==========================================================================================\n",
       "Layer (type:depth-idx)                   Output Shape              Param #\n",
       "==========================================================================================\n",
       "TinyYOLOv1                               [1, 441]                  --\n",
       "├─Conv2d: 1-1                            [1, 8, 128, 128]          224\n",
       "├─SquareActivation: 1-2                  [1, 8, 128, 128]          --\n",
       "├─BatchNorm2d: 1-3                       [1, 8, 128, 128]          16\n",
       "├─AvgPool2d: 1-4                         [1, 8, 64, 64]            --\n",
       "├─Conv2d: 1-5                            [1, 16, 32, 32]           1,168\n",
       "├─SquareActivation: 1-6                  [1, 16, 32, 32]           --\n",
       "├─BatchNorm2d: 1-7                       [1, 16, 32, 32]           32\n",
       "├─AvgPool2d: 1-8                         [1, 16, 16, 16]           --\n",
       "├─Flatten: 1-9                           [1, 4096]                 --\n",
       "├─Linear: 1-10                           [1, 2048]                 8,390,656\n",
       "├─SquareActivation: 1-11                 [1, 2048]                 --\n",
       "├─Linear: 1-12                           [1, 441]                  903,609\n",
       "==========================================================================================\n",
       "Total params: 9,295,705\n",
       "Trainable params: 9,295,705\n",
       "Non-trainable params: 0\n",
       "Total mult-adds (Units.MEGABYTES): 14.16\n",
       "==========================================================================================\n",
       "Input size (MB): 0.79\n",
       "Forward/backward pass size (MB): 2.38\n",
       "Params size (MB): 37.18\n",
       "Estimated Total Size (MB): 40.35\n",
       "=========================================================================================="
      ]
     },
     "execution_count": 3,
     "metadata": {},
     "output_type": "execute_result"
    }
   ],
   "source": [
    "class TinyYOLOv1(nn.Module):\n",
    "    def __init__(self, B=2, num_classes=3):\n",
    "        super(TinyYOLOv1, self).__init__()\n",
    "        S = 7  # grid size\n",
    "        self.conv1 = nn.Conv2d(3, 8, kernel_size=3, stride=2, padding=1)\n",
    "        self.square_activation1 = SquareActivation()\n",
    "        self.batch_norm1 = nn.BatchNorm2d(8)\n",
    "        self.avgpool1 = nn.AvgPool2d(kernel_size=2, stride=2)\n",
    "        \n",
    "        self.conv2 = nn.Conv2d(8, 16, kernel_size=3, stride=2, padding=1)\n",
    "        self.square_activation2 = SquareActivation()\n",
    "        self.batch_norm2 = nn.BatchNorm2d(16)\n",
    "        self.avgpool2 = nn.AvgPool2d(kernel_size=2, stride=2)\n",
    "        \n",
    "        \n",
    "        self.flatten = nn.Flatten()\n",
    "        self.fc1 = nn.Linear(4096, 2048)\n",
    "        self.square_activation_ft = SquareActivation()\n",
    "        self.fc2 = nn.Linear(2048, S * S * (B * 3 + num_classes))\n",
    "\n",
    "    def forward(self, x):\n",
    "        x = self.conv1(x)\n",
    "        x = self.square_activation1(x)\n",
    "        x = self.batch_norm1(x)\n",
    "        x = self.avgpool1(x)\n",
    "        \n",
    "        x = self.conv2(x)\n",
    "        x = self.square_activation2(x)\n",
    "        x = self.batch_norm2(x)\n",
    "        x = self.avgpool2(x)\n",
    "        \n",
    "        x = self.flatten(x)\n",
    "        x = self.fc1(x)\n",
    "        x = self.square_activation_ft(x)\n",
    "        x = self.fc2(x)\n",
    "        return x\n",
    "\n",
    "# Assuming the SquareActivation is defined somewhere else\n",
    "class SquareActivation(nn.Module):\n",
    "    def forward(self, x):\n",
    "        return x * x\n",
    "\n",
    "model = TinyYOLOv1()\n",
    "summary(model, input_size=(1, 3, 256, 256))"
   ]
  },
  {
   "cell_type": "markdown",
   "metadata": {},
   "source": [
    "## Utility Function"
   ]
  },
  {
   "cell_type": "markdown",
   "metadata": {},
   "source": [
    "### Distance between centers"
   ]
  },
  {
   "cell_type": "code",
   "execution_count": 4,
   "metadata": {},
   "outputs": [],
   "source": [
    "def euclidean_distance(center_preds, center_labels):\n",
    "    \"\"\"\n",
    "    Calculate euclidean distance\n",
    "    Parameters:\n",
    "        center_preds: predictions of centers (BATCH_SIZE, 2)\n",
    "        center_labels: target of centers of shape (BATCH_SIZE, 2)\n",
    "    Returns:\n",
    "        distance: euclidean distance for all examples\n",
    "    \"\"\"\n",
    "\n",
    "    x1 = center_preds[..., 0:1]\n",
    "    y1 = center_preds[..., 1:2]\n",
    "    x2 = center_labels[..., 0:1]\n",
    "    y2 = center_labels[..., 1:2]\n",
    "\n",
    "    distance = torch.sqrt((x2 - x1)**2 + (y2 - y1)**2)\n",
    "\n",
    "    return distance"
   ]
  },
  {
   "cell_type": "markdown",
   "metadata": {},
   "source": [
    "### Mean Average Distance"
   ]
  },
  {
   "cell_type": "code",
   "execution_count": 5,
   "metadata": {},
   "outputs": [],
   "source": [
    "\n",
    "def mean_average_distance(\n",
    "    pred_centers, true_centers, distance_threshold=0.1\n",
    "):\n",
    "    \"\"\"\n",
    "    Calculate mean average distance\n",
    "\n",
    "    Parameters:\n",
    "        pred_centers (list): Predictions of centers [train_idx, class_prediction, prob_score, x, y]\n",
    "        true_centers (list): Target of centers\n",
    "        distance_threshold (float): Threshold to consider a prediction correct\n",
    "\n",
    "    Returns:\n",
    "        float: Mean average distance for all examples\n",
    "    \"\"\"\n",
    "\n",
    "    total_true_centers = len(true_centers)\n",
    "\n",
    "    if total_true_centers == 0:\n",
    "        return 0\n",
    "\n",
    "    total_distances = 0\n",
    "\n",
    "    for true_center in true_centers:\n",
    "        nearest_distance = float('inf')\n",
    "\n",
    "        for pred_center in pred_centers:\n",
    "            # Check if the prediction belongs to the same object (train_idx)\n",
    "            if pred_center[0] == true_center[0]:\n",
    "                # Compute Euclidean distance between the predicted center and the ground truth center\n",
    "                distance = torch.dist(torch.tensor(true_center[3:]), torch.tensor(pred_center[3:]))\n",
    "                \n",
    "                # Update nearest distance if current distance is smaller\n",
    "                if distance < nearest_distance:\n",
    "                    nearest_distance = distance\n",
    "\n",
    "        # Add the nearest distance to the total if it's within the threshold\n",
    "        if nearest_distance <= distance_threshold:\n",
    "            total_distances += nearest_distance\n",
    "\n",
    "    # Calculate the mean average distance\n",
    "    mean_average_distance = total_distances / total_true_centers\n",
    "    \n",
    "    return mean_average_distance\n"
   ]
  },
  {
   "cell_type": "markdown",
   "metadata": {},
   "source": [
    "### Non Max Suppression\n"
   ]
  },
  {
   "cell_type": "code",
   "execution_count": 6,
   "metadata": {},
   "outputs": [],
   "source": [
    "def non_max_suppression(centers, threshold, distance_threshold):\n",
    "\n",
    "    assert type(centers) == list\n",
    "    centers = [center for center in centers if center[1]>threshold]\n",
    "    centers = sorted(centers, key=lambda x: x[1], reverse=True)\n",
    "    centers_after_nms = []\n",
    "\n",
    "    while centers:\n",
    "        current_center = centers.pop(0)\n",
    "\n",
    "        centers = [\n",
    "            center\n",
    "            for center in centers\n",
    "            if center[0] != current_center[0]\n",
    "            or euclidean_distance(\n",
    "                torch.tensor(current_center[2:]),\n",
    "                torch.tensor(center[2:])\n",
    "            )\n",
    "            < distance_threshold\n",
    "            \n",
    "        ]\n",
    "\n",
    "        centers_after_nms.append(current_center)\n",
    "    \n",
    "    return centers_after_nms\n"
   ]
  },
  {
   "cell_type": "markdown",
   "metadata": {},
   "source": [
    "### Get and convert centers"
   ]
  },
  {
   "cell_type": "code",
   "execution_count": 7,
   "metadata": {},
   "outputs": [],
   "source": [
    "def get_bboxes(\n",
    "    loader,\n",
    "    model,\n",
    "    device=\"cuda\",\n",
    "    threshold=0.5,\n",
    "    distance_threshold=0.1,\n",
    "):\n",
    "    all_pred_centers = []\n",
    "    all_true_centers = []\n",
    "\n",
    "    # make sure model is in eval before get bboxes\n",
    "    model.eval()\n",
    "    train_idx = 0\n",
    "\n",
    "    for batch_idx, (x, labels) in enumerate(loader):\n",
    "        x = x.to(device)\n",
    "        labels = labels.to(device)\n",
    "        \n",
    "        with torch.no_grad():\n",
    "            predictions = model(x)\n",
    "\n",
    "        batch_size = x.shape[0]\n",
    "        true_centers = cellcenters_to_centers(labels)\n",
    "        pred_centers = cellcenters_to_centers(predictions)\n",
    "        \n",
    "        for idx in range(batch_size):\n",
    "            nms_centers= non_max_suppression(\n",
    "                pred_centers[idx],\n",
    "                threshold=threshold,\n",
    "                distance_threshold=distance_threshold,\n",
    "            )\n",
    "\n",
    "            for center in nms_centers:\n",
    "                all_pred_centers.append([train_idx] + center)\n",
    "\n",
    "            for center in true_centers[idx]:\n",
    "                if center[1] > threshold:\n",
    "                    all_true_centers.append([train_idx] + center)\n",
    "\n",
    "            train_idx += 1\n",
    "\n",
    "    model.train()\n",
    "    return all_pred_centers, all_true_centers\n"
   ]
  },
  {
   "cell_type": "code",
   "execution_count": 8,
   "metadata": {},
   "outputs": [],
   "source": [
    "def convert_cellcenters(predictions, S=7, C=3):\n",
    "    \"\"\"\n",
    "    Converts predictions from the model to centers\n",
    "    \"\"\"\n",
    "    predictions = predictions.to(\"cpu\")\n",
    "    batch_size = predictions.shape[0]\n",
    "    predictions = predictions.reshape(batch_size, 7, 7, C + 6)\n",
    "\n",
    "    centers1 = predictions[..., C + 1:C + 3]\n",
    "    centers2 = predictions[..., C + 4:C + 6]\n",
    "    \n",
    "    scores = torch.cat(\n",
    "        (predictions[..., C].unsqueeze(0), predictions[..., C + 3].unsqueeze(0)), dim=0\n",
    "    )\n",
    "    best_center = scores.argmax(0).unsqueeze(-1)\n",
    "\n",
    "    best_centers = centers1 * (1 - best_center) + best_center * centers2\n",
    "\n",
    "    # This results in a tensor with shape (batch_size, 7, 7, 1) where each element represents the index of a grid cell.\n",
    "    cell_indices = torch.arange(7).repeat(batch_size, 7, 1).unsqueeze(-1)\n",
    "    x = 1 / S * (best_centers[..., :1] + cell_indices)\n",
    "    # Permute because is used here to swap these indices to match the (x, y) convention used in the best_boxes tensor.\n",
    "    # [0,1,2]->[0,0,0]\n",
    "    # [0,1,2]->[1,1,1]\n",
    "    # [0,1,2]->[2,2,2]\n",
    "    y = 1 / S * (best_centers[..., 1:2] + cell_indices.permute(0, 2, 1, 3))\n",
    "    converted_centers = torch.cat((x, y), dim=-1)\n",
    "    predicted_class = predictions[..., :C].argmax(-1).unsqueeze(-1)\n",
    "    best_confidence = torch.max(predictions[..., C], predictions[..., C + 3]).unsqueeze(\n",
    "        -1\n",
    "    )\n",
    "    \n",
    "    converted_preds = torch.cat(\n",
    "        (predicted_class, best_confidence, converted_centers), dim=-1\n",
    "    )\n",
    "\n",
    "    return converted_preds"
   ]
  },
  {
   "cell_type": "code",
   "execution_count": 9,
   "metadata": {},
   "outputs": [],
   "source": [
    "def cellcenters_to_centers(out, S=7):\n",
    "    converted_pred = convert_cellcenters(out).reshape(out.shape[0], S * S, -1)\n",
    "    converted_pred[..., 0] = converted_pred[..., 0].long()\n",
    "    all_centers = []\n",
    "\n",
    "    for ex_idx in range(out.shape[0]):\n",
    "        centers = []\n",
    "        for center_idx in range(S * S):\n",
    "            centers.append([x.item() for x in converted_pred[ex_idx, center_idx, :]])\n",
    "        all_centers.append(centers)\n",
    "        \n",
    "    return all_centers"
   ]
  },
  {
   "cell_type": "markdown",
   "metadata": {},
   "source": [
    "## Create Loader of Dataset"
   ]
  },
  {
   "cell_type": "code",
   "execution_count": 10,
   "metadata": {},
   "outputs": [],
   "source": [
    "class Compose(object):\n",
    "    def __init__(self, transforms):\n",
    "        self.transforms = transforms\n",
    "\n",
    "    def __call__(self, img, centers):\n",
    "        for t in self.transforms:\n",
    "            img, centers = t(img), centers\n",
    "\n",
    "        return img, centers\n",
    "\n",
    "\n",
    "transform = Compose([transforms.Resize((256, 256)), transforms.ToTensor()])"
   ]
  },
  {
   "cell_type": "code",
   "execution_count": 11,
   "metadata": {},
   "outputs": [],
   "source": [
    "class DiorDataset(torch.utils.data.Dataset):\n",
    "    def __init__(self, root_dir, S=7, B=2, C=3, transform=None, train=True):\n",
    "        self.root_dir = root_dir\n",
    "        self.transform = transform\n",
    "        self.S = S\n",
    "        self.B = B\n",
    "        self.C = C\n",
    "        self.train = train\n",
    "\n",
    "        # Determine the directory of the images and labels\n",
    "        if self.train:\n",
    "            self.img_dir = os.path.join(self.root_dir, 'images/train')\n",
    "            self.label_dir = os.path.join(self.root_dir, 'labels/train')\n",
    "        else:\n",
    "            self.img_dir = os.path.join(self.root_dir, 'images/test')\n",
    "            self.label_dir = os.path.join(self.root_dir, 'labels/test')\n",
    "\n",
    "        self.img_ids = os.listdir(self.img_dir)\n",
    "\n",
    "    def __len__(self):\n",
    "        return len(self.img_ids)\n",
    "\n",
    "    def __getitem__(self, index):\n",
    "        img_id = self.img_ids[index].split('.')[0]\n",
    "        centers = []\n",
    "        # Load image\n",
    "        img_path = os.path.join(self.img_dir, img_id + '.jpg')\n",
    "        image = Image.open(img_path)\n",
    "        # Load labels\n",
    "        label_path = os.path.join(self.label_dir, img_id + '.txt')\n",
    "        with open(label_path, 'r') as f:\n",
    "            for line in f.readlines():\n",
    "                class_label, x, y, width, height = map(float, line.strip().split())\n",
    "                centers.append([class_label, x, y])\n",
    "\n",
    "        centers = torch.tensor(centers)        \n",
    "        if self.transform:\n",
    "            image, centers = self.transform(image, centers)\n",
    "        # Convert To Cells\n",
    "        label_matrix = torch.zeros((self.S, self.S, self.C + 3 * self.B))\n",
    "        for center in centers:\n",
    "            class_label, x, y = center\n",
    "            class_label = int(class_label)\n",
    "            i, j = int(self.S * y), int(self.S * x)\n",
    "            x_cell, y_cell = self.S * x - j, self.S * y - i\n",
    "\n",
    "            if label_matrix[i, j, self.C] == 0:\n",
    "                label_matrix[i, j, self.C] = 1\n",
    "\n",
    "                center_coordinates = torch.tensor(\n",
    "                    [x_cell, y_cell]\n",
    "                )\n",
    "\n",
    "                label_matrix[i, j, self.C + 1:self.C + 3] = center_coordinates\n",
    "                label_matrix[i, j, class_label] = 1\n",
    "    \n",
    "        #print(f\"label_matrix shape: {label_matrix.shape}\")\n",
    "\n",
    "        return image, label_matrix"
   ]
  },
  {
   "cell_type": "markdown",
   "metadata": {},
   "source": [
    "## YOLO Loss"
   ]
  },
  {
   "cell_type": "markdown",
   "metadata": {},
   "source": [
    "From original paper: \n",
    ">   YOLO predicts multiple bounding boxes per grid cell. At training time we only want one bounding box predictor to be responsible for each object. We assign one predictor to be “responsible” for predicting an object based on which prediction has the highest current IOU with the ground truth. This leads to specialization between the bounding box predictors.\n",
    "Each predictor gets better at predicting certain sizes, aspect ratios, or classes of object, improving overall recall. \n",
    "\n",
    "$$\n",
    "\\begin{gathered}\n",
    "\\lambda_{\\text {coord }} \\sum_{i=0}^{S^2} \\sum_{j=0}^B \\mathbb{1}_{i j}^{\\text {obj }}\\left[\\left(x_i-\\hat{x}_i\\right)^2+\\left(y_i-\\hat{y}_i\\right)^2\\right] \\\\\n",
    "+\\lambda_{\\text {coord }} \\sum_{i=0}^{S^2} \\sum_{j=0}^B \\mathbb{1}_{i j}^{\\text {obj }}\\left[\\left(\\sqrt{w_i}-\\sqrt{\\hat{w}_i}\\right)^2+\\left(\\sqrt{h_i}-\\sqrt{\\hat{h}_i}\\right)^2\\right] \\\\\n",
    "+\\sum_{i=0}^{S^2} \\sum_{j=0}^B \\mathbb{1}_{i j}^{\\text {obj }}\\left(C_i-\\hat{C}_i\\right)^2 \\\\\n",
    "+\\lambda_{\\text {noobj }} \\sum_{i=0}^{S^2} \\sum_{j=0}^B \\mathbb{1}_{i j}^{\\text {noobj }}\\left(C_i-\\hat{C}_i\\right)^2 \\\\\n",
    "+\\sum_{i=0}^{S^2} \\mathbb{1}_i^{\\text {obj }} \\sum_{c \\in \\text { classes }}\\left(p_i(c)-\\hat{p}_i(c)\\right)^2\n",
    "\\end{gathered}\n",
    "$$\n",
    "\n",
    "During training we optimize the following, multi-part where $ 1_{obj}^i $ denotes if object appears in cell **i** and $1_{obj}^{ij}$ denotes that the **j**  bounding box predictor in cell i is “responsible” for that prediction.\n",
    "\n",
    "In every image many grid cells do not contain any object. This pushes the “confidence” scores of those cells towards zero, often overpowering the gradient from cells that do contain objects. This can lead to model instability, as the model may prioritize learning to predict empty cells rather than focusing on correctly detecting objects in cells containing them, causing training to diverge early on. To remedy this, we increase the loss from bounding box coordinate predictions and decrease the loss from confidence predictions for boxes that don’t contain objects. We use two parameters, $\\lambda_{coord}$ and $\\lambda_{noobj}$  to accomplish this.\n",
    "\n",
    "Note that the loss function only penalizes classification error if an object is present in that grid cell (hence the conditional class probability discussed earlier). It also only penalizes bounding box coordinate error if that predictor is “responsible” for the ground truth box (i.e. has the highest\n",
    "IOU of any predictor in that grid cell)."
   ]
  },
  {
   "cell_type": "code",
   "execution_count": 12,
   "metadata": {},
   "outputs": [],
   "source": [
    "class YoloLoss(nn.Module):\n",
    "    \"\"\"\n",
    "    Calculate the loss for yolo (v1) model\n",
    "    \"\"\"\n",
    "\n",
    "    def __init__(self, S=7, B=2, C=3):\n",
    "        super(YoloLoss, self).__init__()\n",
    "        self.mse = nn.MSELoss(reduction=\"sum\")\n",
    "\n",
    "        \"\"\"\n",
    "        S is split size of image (in paper 7),\n",
    "        B is number of boxes (in paper 2),\n",
    "        C is number of classes (in paper 20, in dataset 3),\n",
    "        \"\"\"\n",
    "        self.S = S\n",
    "        self.B = B\n",
    "        self.C = C\n",
    "\n",
    "        # These are from Yolo paper, signifying how much we should\n",
    "        # pay loss for no object (noobj) and the box coordinates (coord)\n",
    "        self.lambda_noobj = 0.5\n",
    "        self.lambda_coord = 5\n",
    "\n",
    "    def forward(self, predictions, target):\n",
    "        # predictions are shaped (BATCH_SIZE, S*S(C+B*3) when inputted\n",
    "        predictions = predictions.reshape(-1, self.S, self.S, self.C + self.B * 3)\n",
    "        # Calculate IoU for the two predicted bounding boxes with target bbox\n",
    "        iou_c1 = euclidean_distance(predictions[..., self.C + 1:self.C + 3], target[..., self.C + 1:self.C + 3])\n",
    "        iou_c2 = euclidean_distance(predictions[..., self.C + 4:self.C + 6], target[..., self.C + 1:self.C + 3])\n",
    "        ious = torch.cat([iou_c1.unsqueeze(0), iou_c2.unsqueeze(0)], dim=0)\n",
    "        # Take the box with highest IoU out of the two prediction\n",
    "        # Note that bestbox will be indices of 0, 1 for which bbox was best\n",
    "        iou_maxes, bestcenter = torch.max(ious, dim=0)\n",
    "        exists_center = target[..., self.C].unsqueeze(3)  # in paper this is Iobj_i\n",
    "        \n",
    "        # ======================== #\n",
    "        #   FOR CENTER COORDINATES #\n",
    "        # ======================== #\n",
    "\n",
    "        # Set boxes with no object in them to 0. We only take out one of the two \n",
    "        # predictions, which is the one with highest Iou calculated previously.\n",
    "\n",
    "        center_predictions = exists_center * (\n",
    "            (\n",
    "                bestcenter * predictions[..., self.C + 4:self.C + 6]\n",
    "                + (1 - bestcenter) * predictions[..., self.C + 1:self.C + 3]\n",
    "            )\n",
    "        )\n",
    "        center_targets = exists_center * target[..., self.C + 1:self.C + 3]\n",
    "\n",
    "        center_loss = self.mse(\n",
    "            torch.flatten(center_predictions, end_dim=-2),\n",
    "            torch.flatten(center_targets, end_dim=-2),\n",
    "        )\n",
    "\n",
    "        # ==================== #\n",
    "        #   FOR OBJECT LOSS    #\n",
    "        # ==================== #\n",
    "\n",
    "        # pred_box is the confidence score for the bbox with highest IoU\n",
    "        pred_center = (\n",
    "            bestcenter * predictions[..., self.C + 3:self.C + 4] + (1 - bestcenter) * predictions[..., self.C:self.C + 1]\n",
    "        )\n",
    "\n",
    "        object_loss = self.mse(\n",
    "            torch.flatten(exists_center * pred_center),\n",
    "            torch.flatten(exists_center * target[..., self.C:self.C + 1]),\n",
    "        )\n",
    "\n",
    "        # ======================= #\n",
    "        #   FOR NO OBJECT LOSS    #\n",
    "        # ======================= #\n",
    "\n",
    "        no_object_loss = self.mse(\n",
    "            torch.flatten((1 - exists_center) * predictions[..., self.C:self.C + 1], start_dim=1),\n",
    "            torch.flatten((1 - exists_center) * target[..., self.C:self.C + 1], start_dim=1),\n",
    "        )\n",
    "\n",
    "        no_object_loss += self.mse(\n",
    "            torch.flatten((1 - exists_center) * predictions[..., self.C + 3:self.C + 4], start_dim=1),\n",
    "            torch.flatten((1 - exists_center) * target[..., self.C:self.C + 1], start_dim=1)\n",
    "        )\n",
    "\n",
    "        # ================== #\n",
    "        #   FOR CLASS LOSS   #\n",
    "        # ================== #\n",
    "\n",
    "        class_loss = self.mse(\n",
    "            torch.flatten(exists_center * predictions[..., :self.C], end_dim=-2,),\n",
    "            torch.flatten(exists_center * target[..., :self.C], end_dim=-2,),\n",
    "        )\n",
    "\n",
    "        loss = (\n",
    "            self.lambda_coord * center_loss  # first two rows in paper\n",
    "            + object_loss  # third row in paper\n",
    "            + self.lambda_noobj * no_object_loss  # forth row\n",
    "            + class_loss  # fifth row\n",
    "        )\n",
    "\n",
    "        return loss"
   ]
  },
  {
   "cell_type": "markdown",
   "metadata": {},
   "source": [
    "## Training"
   ]
  },
  {
   "cell_type": "code",
   "execution_count": 13,
   "metadata": {},
   "outputs": [],
   "source": [
    "LEARNING_RATE = 2e-5\n",
    "DEVICE = \"cuda\" if torch.cuda.is_available() else \"cpu\"\n",
    "BATCH_SIZE = 32 # 64 in original paper but resource exhausted error otherwise.\n",
    "WEIGHT_DECAY = 0\n",
    "EPOCHS = 10\n",
    "LOAD_MODEL = False\n",
    "LOAD_MODEL_FILE = \"model.pth\""
   ]
  },
  {
   "cell_type": "code",
   "execution_count": 14,
   "metadata": {},
   "outputs": [],
   "source": [
    "def train_fn(train_loader, model, optimizer, loss_fn):\n",
    "    loop = tqdm(train_loader, leave=True)\n",
    "    mean_loss = []\n",
    "    \n",
    "    for batch_idx, (x, y) in enumerate(loop):\n",
    "        x = x.to(DEVICE)\n",
    "        y = y.to(DEVICE)\n",
    "        out = model(x)\n",
    "        loss = loss_fn(out, y)\n",
    "        mean_loss.append(loss.item())\n",
    "        optimizer.zero_grad()\n",
    "        loss.backward()\n",
    "        optimizer.step()\n",
    "        \n",
    "        loop.set_postfix(loss = loss.item())\n",
    "        \n",
    "    print(f\"Mean loss was {sum(mean_loss) / len(mean_loss)}\")"
   ]
  },
  {
   "cell_type": "markdown",
   "metadata": {},
   "source": [
    "### Combine all"
   ]
  },
  {
   "cell_type": "code",
   "execution_count": 15,
   "metadata": {},
   "outputs": [],
   "source": [
    "files_dir = 'three_class_dataset'\n",
    "model = TinyYOLOv1().to(DEVICE)\n",
    "optimizer = optim.Adam(\n",
    "    model.parameters(), lr=LEARNING_RATE, weight_decay=WEIGHT_DECAY\n",
    ")\n",
    "loss_fn = YoloLoss()\n",
    "\n",
    "\n",
    "train_dataset = DiorDataset(\n",
    "    root_dir=files_dir,\n",
    "    transform=transform,\n",
    ")\n",
    "\n",
    "\n",
    "train_loader = DataLoader(\n",
    "    dataset=train_dataset,\n",
    "    batch_size=BATCH_SIZE,\n",
    "    shuffle=True,\n",
    "    drop_last=False,\n",
    ")\n"
   ]
  },
  {
   "cell_type": "code",
   "execution_count": 16,
   "metadata": {},
   "outputs": [
    {
     "name": "stdout",
     "output_type": "stream",
     "text": [
      "Epoch 1/10\n"
     ]
    },
    {
     "name": "stderr",
     "output_type": "stream",
     "text": [
      "100%|██████████| 57/57 [00:25<00:00,  2.23it/s, loss=235]\n"
     ]
    },
    {
     "name": "stdout",
     "output_type": "stream",
     "text": [
      "Mean loss was 457.9810239557634\n",
      "Train Mean Distance: 0.0\n",
      "Epoch 2/10\n"
     ]
    },
    {
     "name": "stderr",
     "output_type": "stream",
     "text": [
      "100%|██████████| 57/57 [00:21<00:00,  2.66it/s, loss=167]    \n"
     ]
    },
    {
     "name": "stdout",
     "output_type": "stream",
     "text": [
      "Mean loss was 363.74681894402755\n",
      "Train Mean Distance: 0.0011096203234046698\n",
      "Epoch 3/10\n"
     ]
    },
    {
     "name": "stderr",
     "output_type": "stream",
     "text": [
      "100%|██████████| 57/57 [00:21<00:00,  2.68it/s, loss=145]    \n"
     ]
    },
    {
     "name": "stdout",
     "output_type": "stream",
     "text": [
      "Mean loss was 309.83639606676604\n",
      "Train Mean Distance: 0.0018012153450399637\n",
      "Epoch 4/10\n"
     ]
    },
    {
     "name": "stderr",
     "output_type": "stream",
     "text": [
      "100%|██████████| 57/57 [00:21<00:00,  2.67it/s, loss=158]\n"
     ]
    },
    {
     "name": "stdout",
     "output_type": "stream",
     "text": [
      "Mean loss was 246.32236199629935\n",
      "Train Mean Distance: 0.0015661404468119144\n",
      "Epoch 5/10\n"
     ]
    },
    {
     "name": "stderr",
     "output_type": "stream",
     "text": [
      "100%|██████████| 57/57 [00:21<00:00,  2.68it/s, loss=122]\n"
     ]
    },
    {
     "name": "stdout",
     "output_type": "stream",
     "text": [
      "Mean loss was 223.87683908562911\n",
      "Train Mean Distance: 0.0023154744412750006\n",
      "Epoch 6/10\n"
     ]
    },
    {
     "name": "stderr",
     "output_type": "stream",
     "text": [
      "100%|██████████| 57/57 [00:21<00:00,  2.68it/s, loss=119]\n"
     ]
    },
    {
     "name": "stdout",
     "output_type": "stream",
     "text": [
      "Mean loss was 220.96102035254762\n",
      "Train Mean Distance: 0.002638288540765643\n",
      "Epoch 7/10\n"
     ]
    },
    {
     "name": "stderr",
     "output_type": "stream",
     "text": [
      "100%|██████████| 57/57 [00:21<00:00,  2.67it/s, loss=114]    \n"
     ]
    },
    {
     "name": "stdout",
     "output_type": "stream",
     "text": [
      "Mean loss was 235.3623321265505\n",
      "Train Mean Distance: 0.0022531638387590647\n",
      "Epoch 8/10\n"
     ]
    },
    {
     "name": "stderr",
     "output_type": "stream",
     "text": [
      "100%|██████████| 57/57 [00:21<00:00,  2.67it/s, loss=146]    \n"
     ]
    },
    {
     "name": "stdout",
     "output_type": "stream",
     "text": [
      "Mean loss was 215.0234393738864\n",
      "Train Mean Distance: 0.002589092357084155\n",
      "Epoch 9/10\n"
     ]
    },
    {
     "name": "stderr",
     "output_type": "stream",
     "text": [
      "100%|██████████| 57/57 [00:21<00:00,  2.67it/s, loss=79] \n"
     ]
    },
    {
     "name": "stdout",
     "output_type": "stream",
     "text": [
      "Mean loss was 176.67724836918345\n",
      "Train Mean Distance: 0.0029534627683460712\n",
      "Epoch 10/10\n"
     ]
    },
    {
     "name": "stderr",
     "output_type": "stream",
     "text": [
      "100%|██████████| 57/57 [00:21<00:00,  2.66it/s, loss=85.3]\n"
     ]
    },
    {
     "name": "stdout",
     "output_type": "stream",
     "text": [
      "Mean loss was 160.40181370785362\n",
      "Train Mean Distance: 0.002198038389906287\n"
     ]
    }
   ],
   "source": [
    "\n",
    "for epoch in range(EPOCHS):\n",
    "    print(f\"Epoch {epoch + 1}/{EPOCHS}\")\n",
    "    train_fn(train_loader, model, optimizer, loss_fn)\n",
    "    pred_boxes, target_boxes = get_bboxes(\n",
    "        train_loader, model\n",
    "    )\n",
    "    mean_dist = mean_average_distance(pred_boxes, target_boxes)\n",
    "    print(f\"Train Mean Distance: {mean_dist}\")"
   ]
  },
  {
   "cell_type": "code",
   "execution_count": 17,
   "metadata": {},
   "outputs": [],
   "source": [
    "torch.save(model.state_dict(), \"fomo.pth\")"
   ]
  },
  {
   "cell_type": "markdown",
   "metadata": {},
   "source": [
    "## Testing"
   ]
  },
  {
   "cell_type": "markdown",
   "metadata": {},
   "source": [
    "### Load test set"
   ]
  },
  {
   "cell_type": "code",
   "execution_count": 18,
   "metadata": {},
   "outputs": [],
   "source": [
    "files_dir='three_class_dataset'\n",
    "    \n",
    "test_dataset = DiorDataset( \n",
    "    root_dir=files_dir,\n",
    "    transform=transform,\n",
    "    train=False\n",
    ")\n",
    "\n",
    "test_loader = DataLoader(\n",
    "    dataset=test_dataset,\n",
    "    batch_size=BATCH_SIZE,\n",
    "    shuffle=True,\n",
    "    drop_last=False,\n",
    ")"
   ]
  },
  {
   "cell_type": "markdown",
   "metadata": {},
   "source": [
    "### Load model and make inference"
   ]
  },
  {
   "cell_type": "code",
   "execution_count": 19,
   "metadata": {},
   "outputs": [
    {
     "data": {
      "text/plain": [
       "TinyYOLOv1(\n",
       "  (conv1): Conv2d(3, 8, kernel_size=(3, 3), stride=(2, 2), padding=(1, 1))\n",
       "  (square_activation1): SquareActivation()\n",
       "  (batch_norm1): BatchNorm2d(8, eps=1e-05, momentum=0.1, affine=True, track_running_stats=True)\n",
       "  (avgpool1): AvgPool2d(kernel_size=2, stride=2, padding=0)\n",
       "  (conv2): Conv2d(8, 16, kernel_size=(3, 3), stride=(2, 2), padding=(1, 1))\n",
       "  (square_activation2): SquareActivation()\n",
       "  (batch_norm2): BatchNorm2d(16, eps=1e-05, momentum=0.1, affine=True, track_running_stats=True)\n",
       "  (avgpool2): AvgPool2d(kernel_size=2, stride=2, padding=0)\n",
       "  (flatten): Flatten(start_dim=1, end_dim=-1)\n",
       "  (fc1): Linear(in_features=4096, out_features=2048, bias=True)\n",
       "  (square_activation_ft): SquareActivation()\n",
       "  (fc2): Linear(in_features=2048, out_features=441, bias=True)\n",
       ")"
      ]
     },
     "execution_count": 19,
     "metadata": {},
     "output_type": "execute_result"
    }
   ],
   "source": [
    "\n",
    "checkpoint = torch.load(\"fomo.pth\")\n",
    "# Load the state dictionary from the .pth file\n",
    "\n",
    "# Load the state dictionary into the model\n",
    "model.load_state_dict(checkpoint)\n",
    "\n",
    "# Ensure the model is in evaluation mode\n",
    "model.eval()\n"
   ]
  },
  {
   "cell_type": "code",
   "execution_count": 20,
   "metadata": {},
   "outputs": [
    {
     "name": "stdout",
     "output_type": "stream",
     "text": [
      "Train Mean Distance: 0.0008869997691363096\n"
     ]
    }
   ],
   "source": [
    "model.eval()\n",
    "\n",
    "with torch.no_grad():\n",
    "    pred_boxes, target_boxes = get_bboxes(\n",
    "        test_loader, model\n",
    "    )\n",
    "    mean_dist = mean_average_distance(pred_boxes, target_boxes)\n",
    "    print(f\"Test Mean Distance: {mean_dist}\")\n",
    "\n",
    "    "
   ]
  },
  {
   "cell_type": "code",
   "execution_count": 54,
   "metadata": {},
   "outputs": [
    {
     "data": {
      "text/plain": [
       "[[31, 2.0, 0.6392709612846375, 0.3397187292575836, 0.5044563412666321],\n",
       " [34, 2.0, 0.8916366100311279, 0.544130802154541, 0.7437917590141296],\n",
       " [34, 1.0, 0.7890441417694092, 0.6467192769050598, 0.5767902135848999],\n",
       " [34, 0.0, 0.6874716877937317, 0.5788894891738892, 0.351017028093338],\n",
       " [46, 2.0, 0.6319264769554138, 0.516065239906311, 0.5615307092666626],\n",
       " [48, 0.0, 0.7646008729934692, 0.4649045467376709, 0.6475321054458618],\n",
       " [48, 2.0, 0.6609471440315247, 0.900277853012085, 0.8470628261566162],\n",
       " [48, 1.0, 0.5662679672241211, 0.5147574543952942, 0.34791821241378784],\n",
       " [52, 2.0, 2.0840377807617188, 0.7056227922439575, 0.7657802104949951],\n",
       " [52, 0.0, 1.0982691049575806, 0.5912721157073975, 0.4494544565677643],\n",
       " [52, 1.0, 0.9180576801300049, 1.0057427883148193, 0.6898561716079712],\n",
       " [52, 2.0, 0.6126500368118286, 0.7218635678291321, 0.7095605731010437],\n",
       " [54, 2.0, 0.5159038305282593, 0.7798850536346436, 0.9201045036315918],\n",
       " [88, 2.0, 1.2012726068496704, 0.6312723159790039, 0.5428694486618042],\n",
       " [88, 0.0, 0.7308932542800903, 0.6478623151779175, 0.7413275837898254],\n",
       " [89, 2.0, 0.6256874203681946, 0.6457943320274353, 0.6792029142379761],\n",
       " [91, 2.0, 0.9790179133415222, 0.8361435532569885, 0.5729315280914307],\n",
       " [117, 2.0, 1.9743750095367432, 1.0949534177780151, 0.7155538201332092],\n",
       " [117, 0.0, 1.7249245643615723, 0.6298092603683472, 1.0996242761611938],\n",
       " [117, 1.0, 1.0478571653366089, 0.7644705176353455, 0.16864587366580963],\n",
       " [117, 2.0, 0.9901024699211121, 1.139068841934204, 0.7137219905853271],\n",
       " [128, 2.0, 0.5811207890510559, 0.04560227319598198, 0.6109701991081238],\n",
       " [134, 2.0, 0.8466216921806335, 0.12708936631679535, 0.30115145444869995],\n",
       " [135, 2.0, 1.201329231262207, 0.6694444417953491, 0.888440728187561],\n",
       " [146, 2.0, 0.9204252362251282, 0.31385692954063416, 0.9177630543708801],\n",
       " [149, 2.0, 1.8593032360076904, 0.25493866205215454, 0.6111514568328857],\n",
       " [149, 0.0, 0.9875420928001404, 0.361216276884079, 0.4895781874656677],\n",
       " [149, 1.0, 0.904143214225769, 0.7930089831352234, 0.5586403608322144],\n",
       " [149, 2.0, 0.7561611533164978, 0.226108118891716, 0.6796850562095642],\n",
       " [154, 2.0, 0.9031179547309875, 0.5357105135917664, 0.45705828070640564],\n",
       " [168, 2.0, 0.6969722509384155, 0.8341690897941589, 0.8733879327774048],\n",
       " [175, 1.0, 0.5215018391609192, 0.5450445413589478, 0.49781087040901184],\n",
       " [178, 0.0, 0.7568385601043701, 0.3941448926925659, 0.7185612320899963],\n",
       " [178, 2.0, 0.7103469967842102, 0.7320821285247803, 0.5157149434089661],\n",
       " [178, 2.0, 0.6335004568099976, 0.8041859269142151, 0.5257726311683655],\n",
       " [186, 2.0, 1.113146185874939, 0.8099604249000549, 0.349680632352829],\n",
       " [186, 0.0, 0.7058665752410889, 0.3914872407913208, 0.6464473605155945],\n",
       " [186, 1.0, 0.502757728099823, 0.12042709439992905, 0.1852717250585556],\n",
       " [190, 2.0, 0.9128236174583435, 0.4996558427810669, 0.6555922627449036],\n",
       " [199, 2.0, 0.8514933586120605, 0.9541165232658386, 0.27662360668182373],\n",
       " [202, 2.0, 0.8787318468093872, 0.19773514568805695, 0.7131378650665283],\n",
       " [209, 2.0, 2.187429428100586, 0.778676450252533, 1.0682815313339233],\n",
       " [209, 0.0, 1.7677152156829834, 0.9280152320861816, 0.7514220476150513],\n",
       " [229, 2.0, 2.4496686458587646, 0.34804093837738037, 0.6564759016036987],\n",
       " [238, 2.0, 0.6460482478141785, 0.6405367851257324, 0.6165882349014282],\n",
       " [240, 2.0, 0.5304272770881653, 0.597156286239624, 0.4854295551776886],\n",
       " [274, 2.0, 0.6468300819396973, 0.09891555458307266, 0.9155233502388],\n",
       " [275, 2.0, 1.5493206977844238, 0.5963847041130066, 0.3403695225715637],\n",
       " [275, 1.0, 0.7472145557403564, 0.3761981725692749, 0.6133049726486206],\n",
       " [276, 2.0, 0.6485967040061951, 0.14427092671394348, 0.74020916223526],\n",
       " [285, 0.0, 0.6352115273475647, 0.37657052278518677, 0.5011207461357117],\n",
       " [285, 2.0, 0.5385552644729614, 0.3389526307582855, 0.777055025100708],\n",
       " [288, 0.0, 1.2297911643981934, 0.5142076015472412, 0.6775334477424622],\n",
       " [288, 2.0, 0.8083316087722778, 0.1482182741165161, 0.3444211781024933],\n",
       " [300, 2.0, 1.5002084970474243, 0.6170571446418762, 0.5900059938430786],\n",
       " [300, 1.0, 0.973544180393219, 0.4421288073062897, 0.9919840693473816],\n",
       " [300, 0.0, 0.8299894332885742, 0.6562432646751404, 0.528422474861145],\n",
       " [300, 2.0, 0.5914739966392517, 0.6982672214508057, 0.5981435179710388],\n",
       " [304, 2.0, 0.5749934315681458, 0.49475160241127014, 0.4698503911495209],\n",
       " [322, 0.0, 0.6556799411773682, 0.49027642607688904, 0.8186337947845459],\n",
       " [322, 2.0, 0.5093398094177246, 0.792460560798645, 0.9311664700508118],\n",
       " [323, 2.0, 0.5836095213890076, 0.2358575314283371, 0.1276644766330719],\n",
       " [326, 2.0, 0.5269380807876587, 0.6922299861907959, 0.7809458374977112],\n",
       " [327, 2.0, 0.6500983238220215, 0.46129730343818665, 0.6380642056465149],\n",
       " [329, 2.0, 1.3120439052581787, 1.0238417387008667, 0.5780616998672485],\n",
       " [329, 0.0, 1.0320258140563965, 0.5732358694076538, 0.6705381274223328],\n",
       " [329, 1.0, 0.8641915917396545, 1.056278944015503, 0.07296991348266602],\n",
       " [329, 0.0, 0.7240379452705383, 0.6004249453544617, 0.6789687275886536],\n",
       " [333, 2.0, 0.6132184267044067, 0.8395805954933167, 0.49379318952560425],\n",
       " [344, 2.0, 0.6415894627571106, 0.46824294328689575, 0.49510467052459717],\n",
       " [381, 0.0, 0.6272120475769043, 0.5875140428543091, 0.6434118151664734],\n",
       " [383, 2.0, 0.6434899568557739, 0.616734504699707, 0.5322242379188538],\n",
       " [388, 2.0, 0.6129148006439209, 0.25278276205062866, 0.5594683289527893],\n",
       " [388, 2.0, 0.5932267904281616, 0.3215765058994293, 0.5976826548576355],\n",
       " [390, 2.0, 0.5836982131004333, 0.6689597964286804, 0.8159011006355286],\n",
       " [390, 1.0, 0.5331597328186035, 0.9018162488937378, 0.2601597309112549],\n",
       " [395, 2.0, 0.5414443016052246, 0.7669793963432312, 0.5057990550994873],\n",
       " [400, 2.0, 1.468604326248169, 0.7400452494621277, 1.0427138805389404],\n",
       " [400, 0.0, 1.1538727283477783, 0.8107501864433289, 0.3065286874771118],\n",
       " [400, 1.0, 0.844536542892456, 1.0897140502929688, 0.964323878288269],\n",
       " [406, 2.0, 1.2244327068328857, 0.324253648519516, 0.5958752632141113],\n",
       " [406, 0.0, 0.5978721380233765, 0.44860613346099854, 0.8211629986763],\n",
       " [407, 2.0, 0.699874222278595, 0.2635008990764618, 0.5906617045402527],\n",
       " [421, 2.0, 0.9771468639373779, 0.6550536155700684, 0.5021680593490601],\n",
       " [421, 1.0, 0.7682228684425354, 0.6308156847953796, 0.8583243489265442],\n",
       " [421, 0.0, 0.5066544413566589, 0.5937961935997009, 0.4515332579612732],\n",
       " [436, 2.0, 0.6882593035697937, 0.4927675724029541, 0.4853988587856293],\n",
       " [436, 1.0, 0.5981876254081726, 0.8083354830741882, 0.1352965533733368],\n",
       " [445, 0.0, 1.9631168842315674, 0.5718175768852234, 0.6983247995376587],\n",
       " [445, 2.0, 1.473156452178955, 0.8837112188339233, 0.822432279586792],\n",
       " [445, 2.0, 0.8820581436157227, 0.9284184575080872, 0.7585358023643494],\n",
       " [457, 2.0, 0.7197986841201782, 0.249314546585083, 0.6852672100067139],\n",
       " [465, 2.0, 1.2723482847213745, 0.3486567437648773, 0.7859326601028442],\n",
       " [465, 0.0, 0.6252880096435547, 0.2154795080423355, 0.2619306743144989],\n",
       " [471, 2.0, 0.8662959337234497, 0.13252872228622437, 0.406852662563324],\n",
       " [471, 1.0, 0.6234411001205444, 0.09375455230474472, 0.5656722784042358],\n",
       " [481, 2.0, 2.5679352283477783, 0.6196593046188354, 0.8318572640419006],\n",
       " [481, 1.0, 2.2923245429992676, 0.8227827548980713, 0.6251407861709595],\n",
       " [481, 0.0, 1.117120623588562, 0.5723380446434021, 0.4669966995716095],\n",
       " [485, 2.0, 1.292616605758667, 0.5305268168449402, 0.9348602890968323],\n",
       " [485, 1.0, 0.9360219240188599, 0.21612098813056946, 0.232240691781044],\n",
       " [485, 0.0, 0.5687893629074097, 0.47778716683387756, 0.45096278190612793],\n",
       " [490, 2.0, 1.193761944770813, 0.5142695903778076, 0.7917917370796204],\n",
       " [490, 1.0, 0.540846049785614, 0.4755488336086273, 0.4085668921470642],\n",
       " [502, 0.0, 0.9573682546615601, 0.3426996171474457, 0.5517834424972534],\n",
       " [502, 2.0, 0.9122841358184814, 0.5670962333679199, 0.5476731657981873],\n",
       " [502, 1.0, 0.6847127676010132, 0.4877350330352783, 0.1292378008365631],\n",
       " [502, 0.0, 0.552559494972229, 0.3207196295261383, 0.5537608861923218],\n",
       " [511, 2.0, 0.7827935218811035, 0.3031119108200073, 0.8273160457611084],\n",
       " [511, 0.0, 0.7770701050758362, 0.3982480764389038, 0.2936054468154907],\n",
       " [511, 1.0, 0.6053215265274048, 0.1934385895729065, 0.966448962688446],\n",
       " [528, 2.0, 0.6234965324401855, 0.563886821269989, 0.4074534773826599],\n",
       " [530, 2.0, 0.7188518643379211, 0.4651094675064087, 0.6667985320091248],\n",
       " [534, 2.0, 0.7740899324417114, 0.5096105337142944, 0.891489565372467],\n",
       " [534, 2.0, 0.6405400037765503, 0.4894174635410309, 0.9290493130683899],\n",
       " [535, 2.0, 3.439729928970337, 0.567248523235321, 0.7785294651985168],\n",
       " [535, 0.0, 2.9537367820739746, 0.8269366025924683, 0.5500648617744446],\n",
       " [535, 0.0, 1.104358434677124, 0.7607351541519165, 0.6066545248031616],\n",
       " [535, 1.0, 1.0110177993774414, 0.7411132454872131, 0.708774983882904],\n",
       " [536, 0.0, 0.5060179233551025, 0.5272696614265442, 0.3392990827560425],\n",
       " [547, 2.0, 1.0480406284332275, 0.38952556252479553, 0.8957592844963074],\n",
       " [547, 0.0, 0.5573506355285645, 0.5299116373062134, 0.8994030952453613],\n",
       " [573, 0.0, 0.6015470623970032, 0.36339786648750305, 0.3991323709487915],\n",
       " [573, 2.0, 0.5722761154174805, 0.919503927230835, 0.7414162158966064],\n",
       " [586, 2.0, 0.677078902721405, 0.554692268371582, 0.6631934642791748],\n",
       " [586, 0.0, 0.6388145685195923, 0.5603383183479309, 0.8310696482658386],\n",
       " [595, 2.0, 0.7790526747703552, 0.553680419921875, 0.5312216281890869],\n",
       " [599, 1.0, 4.87636661529541, 1.5779486894607544, 0.5429683327674866],\n",
       " [599, 0.0, 3.9388439655303955, 1.068554162979126, 0.9060386419296265],\n",
       " [599, 2.0, 2.3785219192504883, 0.9320693016052246, 0.7176254987716675],\n",
       " [631, 0.0, 0.5070724487304688, 0.7036001086235046, 0.5074348449707031],\n",
       " [635, 1.0, 1.336617350578308, 0.6594476699829102, 0.8177860975265503],\n",
       " [635, 0.0, 1.1881146430969238, 0.7494949698448181, 0.3857930898666382],\n",
       " [635, 2.0, 0.7023568749427795, 0.3457576632499695, 0.501301646232605],\n",
       " [638, 2.0, 0.750339150428772, 0.6149733662605286, 0.6001698970794678],\n",
       " [638, 0.0, 0.547163724899292, 0.561643123626709, 0.7685108780860901],\n",
       " [644, 2.0, 1.0609580278396606, 0.6407940983772278, 0.26101982593536377],\n",
       " [652, 2.0, 0.6600857973098755, 0.3703598082065582, 0.6774881482124329],\n",
       " [656, 0.0, 0.7360479235649109, 0.6583645939826965, 0.3933698832988739],\n",
       " [656, 2.0, 0.6126656532287598, 0.4055674970149994, 0.12726537883281708],\n",
       " [657, 2.0, 0.6913540959358215, 0.7170856595039368, 0.08689757436513901],\n",
       " [657, 0.0, 0.5154452323913574, 0.3504698574542999, 0.450303852558136],\n",
       " [666, 2.0, 0.654112696647644, 0.3038465082645416, 0.37695029377937317],\n",
       " [666, 0.0, 0.5669835805892944, 0.7526570558547974, 0.1678556501865387],\n",
       " [672, 2.0, 0.9557887315750122, 0.424247145652771, 0.28017449378967285],\n",
       " [672, 0.0, 0.6021275520324707, 0.41897666454315186, 0.7187474966049194],\n",
       " [684, 2.0, 1.5076225996017456, 0.6001733541488647, 0.7529129385948181],\n",
       " [684, 0.0, 0.8808101415634155, 0.770465612411499, 0.5694686770439148],\n",
       " [693, 2.0, 0.6875989437103271, 0.47996845841407776, 0.46230626106262207],\n",
       " [698, 1.0, 0.6726906299591064, 0.5007723569869995, 0.4513632357120514],\n",
       " [704, 2.0, 1.5052757263183594, 0.8969784379005432, 0.40629157423973083],\n",
       " [704, 0.0, 1.3207464218139648, 0.6590446829795837, 0.4735557436943054],\n",
       " [704, 1.0, 0.5146177411079407, 0.576317548751831, 0.3277587294578552],\n",
       " [716, 2.0, 0.6672885417938232, 0.4028714895248413, 0.24699679017066956],\n",
       " [716, 0.0, 0.5215093493461609, 0.645523726940155, 0.3716844320297241],\n",
       " [721, 0.0, 0.9098640084266663, 0.6139050722122192, 0.5750220417976379],\n",
       " [721, 2.0, 0.8590302467346191, 0.6653965711593628, 0.5108477473258972],\n",
       " [723, 2.0, 1.1331573724746704, 0.8314788341522217, 0.7862309217453003],\n",
       " [723, 0.0, 1.1289981603622437, 0.7672868967056274, 0.6496081352233887],\n",
       " [728, 2.0, 0.6525393724441528, 0.46914082765579224, 0.32915201783180237],\n",
       " [731, 0.0, 0.5174435377120972, 0.4769183099269867, 0.32195013761520386],\n",
       " [747, 2.0, 1.8165907859802246, 1.1121476888656616, 1.1923938989639282],\n",
       " [747, 0.0, 1.719499945640564, 0.6078813076019287, 0.5124496817588806],\n",
       " [747, 1.0, 0.9943459630012512, 1.0006128549575806, 0.7414939403533936],\n",
       " [750, 2.0, 0.5829944610595703, 0.6364277005195618, 0.32218608260154724],\n",
       " [756, 0.0, 0.5169999599456787, 0.3492525517940521, 0.6417171359062195],\n",
       " [762, 2.0, 1.0735276937484741, 0.9471986293792725, -0.04641928896307945],\n",
       " [762, 0.0, 0.766147792339325, 0.7385967969894409, 0.5576049089431763],\n",
       " [762, 1.0, 0.6851814389228821, 0.5514630079269409, 0.48238763213157654],\n",
       " [776, 0.0, 0.84241783618927, 0.49845996499061584, 0.4005607068538666],\n",
       " [776, 2.0, 0.7600415349006653, 0.7429062724113464, 0.896423876285553],\n",
       " [778, 2.0, 1.820857286453247, 0.4442639946937561, 0.18570400774478912],\n",
       " [778, 1.0, 1.1159006357192993, 0.5793148279190063, 0.44573330879211426],\n",
       " [778, 0.0, 0.7760943174362183, 0.5797650814056396, 0.6465550661087036],\n",
       " [782, 2.0, 0.533574104309082, 0.6153667569160461, 0.5745315551757812],\n",
       " [786, 2.0, 0.7209563851356506, 0.2634676992893219, 0.6266736388206482],\n",
       " [788, 2.0, 0.6361932158470154, 0.5105591416358948, 0.6185587644577026],\n",
       " [788, 1.0, 0.5116990208625793, 0.4304466247558594, 0.929160475730896],\n",
       " [807, 0.0, 0.5324453115463257, 0.6475666761398315, 0.6256498694419861],\n",
       " [807, 2.0, 0.5026149749755859, 0.02412116341292858, 0.8786734342575073],\n",
       " [810, 2.0, 1.1908210515975952, 0.833145022392273, 0.5477664470672607],\n",
       " [810, 1.0, 0.6400290727615356, 0.7788756489753723, 0.8515393137931824],\n",
       " [810, 2.0, 0.5893691182136536, 0.773781955242157, 0.5945000648498535],\n",
       " [823, 2.0, 0.7273440957069397, 0.4927482008934021, 0.4054904282093048],\n",
       " [824, 2.0, 1.0608657598495483, 0.7200263142585754, 0.5159527659416199],\n",
       " [824, 0.0, 1.0313847064971924, 0.8103649616241455, 0.5850297212600708],\n",
       " [824, 2.0, 0.6256874203681946, 0.7391273379325867, 0.4577612280845642],\n",
       " [833, 2.0, 1.1712950468063354, 0.8910177946090698, 0.22390294075012207],\n",
       " [833, 0.0, 0.853198230266571, 0.6805729269981384, 0.5781237483024597],\n",
       " [833, 1.0, 0.6436123847961426, 0.605097234249115, 0.7488563060760498],\n",
       " [836, 2.0, 0.5406062006950378, 0.8872595429420471, 0.46759089827537537],\n",
       " [839, 2.0, 1.7344521284103394, 0.3108716607093811, 0.6809364557266235],\n",
       " [839, 0.0, 0.8759858012199402, 0.5796005129814148, 0.7619506120681763],\n",
       " [839, 1.0, 0.629420280456543, 0.2227412760257721, 0.3502684533596039],\n",
       " [851, 2.0, 1.1677374839782715, 0.36524203419685364, 0.8027690052986145],\n",
       " [851, 2.0, 0.7366437911987305, 0.3509032428264618, 0.8980756402015686],\n",
       " [851, 1.0, 0.7206795811653137, 0.5084304809570312, 0.69599449634552],\n",
       " [851, 0.0, 0.6947447657585144, 0.3442520499229431, 0.28583163022994995],\n",
       " [856, 0.0, 1.5034828186035156, 0.5698999762535095, 0.7566664814949036],\n",
       " [856, 2.0, 1.387415885925293, 0.7220227122306824, 0.7527715563774109],\n",
       " [856, 1.0, 0.983794629573822, 0.6053698062896729, 0.3182317614555359],\n",
       " [856, 2.0, 0.7433932423591614, 0.711635947227478, 0.740359365940094],\n",
       " [857, 0.0, 0.510811448097229, 0.4930712580680847, 0.4271349310874939],\n",
       " [863, 2.0, 1.718124508857727, 0.7684932947158813, 0.9558475017547607],\n",
       " [863, 0.0, 1.2423430681228638, 0.8378137350082397, 1.0491580963134766],\n",
       " [863, 2.0, 0.9166164398193359, 0.7507051825523376, 0.862751305103302],\n",
       " [872, 2.0, 0.5374144911766052, 0.1716189682483673, 0.6080577373504639],\n",
       " [887, 2.0, 0.9735702872276306, 0.28683480620384216, 0.19239221513271332],\n",
       " [887, 0.0, 0.637161374092102, 0.456302672624588, 0.30479711294174194],\n",
       " [899, 2.0, 0.6907680630683899, 0.8074538707733154, 0.9757506251335144],\n",
       " [900, 2.0, 0.555844247341156, 0.5158151388168335, 0.22436024248600006],\n",
       " [901, 0.0, 1.204888105392456, 0.5541156530380249, 0.4501536190509796],\n",
       " [901, 2.0, 0.8800488710403442, 0.4630323648452759, 0.7690335512161255],\n",
       " [902, 0.0, 0.6803653836250305, 0.556102991104126, 0.35522398352622986],\n",
       " [902, 2.0, 0.6119617223739624, 0.5423116087913513, 0.6760720014572144],\n",
       " [902, 1.0, 0.52863609790802, 0.8745718002319336, 0.13320739567279816],\n",
       " [910, 2.0, 0.73846435546875, 0.4011981189250946, 0.6868142485618591],\n",
       " [913, 2.0, 0.652904212474823, 0.20052407681941986, 0.3695431053638458],\n",
       " [913, 2.0, 0.5297771096229553, 0.24785131216049194, 0.4399982988834381],\n",
       " [917, 2.0, 0.7985475659370422, 0.15333418548107147, 0.545953631401062],\n",
       " [918, 2.0, 1.9795631170272827, 0.8450533747673035, 0.1408732831478119],\n",
       " [918, 0.0, 1.723952293395996, 0.6330999135971069, 0.5648621320724487],\n",
       " [918, 1.0, 1.4497565031051636, 0.48722437024116516, 0.8785799145698547],\n",
       " [926, 2.0, 0.9711574912071228, 0.3367520868778229, 0.544447124004364],\n",
       " [926, 0.0, 0.8073902726173401, 0.6666340231895447, 0.5823087692260742],\n",
       " [926, 1.0, 0.5897457599639893, 0.666963517665863, 0.4517304003238678],\n",
       " [926, 0.0, 0.5241355299949646, 0.6850197911262512, 0.5300299525260925],\n",
       " [930, 2.0, 0.9092693328857422, 0.1880328208208084, 0.2102089375257492],\n",
       " [930, 2.0, 0.5678702592849731, 0.16090984642505646, 0.2971140742301941],\n",
       " [955, 2.0, 0.7965100407600403, 0.10534165054559708, 0.41173022985458374],\n",
       " [955, 0.0, 0.5284862518310547, 0.724965512752533, 0.6331325769424438],\n",
       " [969, 2.0, 0.8385803699493408, 0.5177662968635559, 0.545860230922699],\n",
       " [969, 0.0, 0.6843036413192749, 0.5326616764068604, 0.37608009576797485],\n",
       " [974, 1.0, 0.6558588743209839, 0.556361734867096, 0.45045870542526245],\n",
       " [974, 2.0, 0.5682812333106995, 0.6691936254501343, 0.04597772657871246],\n",
       " [982, 2.0, 1.0122188329696655, 0.7861058712005615, 0.5025271773338318],\n",
       " [982, 2.0, 0.6182771325111389, 0.8660885095596313, 0.5128434896469116],\n",
       " [997, 2.0, 0.7594835162162781, 0.6721667647361755, 0.5414137244224548],\n",
       " [997, 0.0, 0.5572353005409241, 0.3998071849346161, 0.6242654919624329],\n",
       " [999, 2.0, 0.7324337363243103, 0.13426552712917328, 0.9732717275619507],\n",
       " [1007, 2.0, 1.2045892477035522, 0.6718044877052307, 0.5852071642875671],\n",
       " [1007, 0.0, 0.6567534804344177, 0.5235849022865295, 0.6866480112075806],\n",
       " [1007, 2.0, 0.577467679977417, 0.6449941992759705, 0.6674860119819641],\n",
       " [1024, 2.0, 0.7013693451881409, 0.559412956237793, 0.5181796550750732],\n",
       " [1040, 0.0, 0.574996292591095, 0.36088842153549194, 0.3622824251651764],\n",
       " [1049, 2.0, 0.6204595565795898, 0.6797459125518799, 0.6600601673126221],\n",
       " [1049, 0.0, 0.505224883556366, 0.3638566732406616, 0.5536823272705078],\n",
       " [1056, 2.0, 2.030524730682373, 0.31294432282447815, 0.3482150137424469],\n",
       " [1056, 0.0, 0.8521795272827148, 0.7361074686050415, 0.6014861464500427],\n",
       " [1056, 1.0, 0.6418744325637817, 0.7191866636276245, 0.09870388358831406],\n",
       " [1056, 2.0, 0.5872332453727722, 0.3055257201194763, 0.3755837678909302],\n",
       " [1063, 2.0, 0.6176883578300476, 0.9228282570838928, 0.5073714852333069],\n",
       " [1073, 2.0, 0.565415620803833, 0.35955530405044556, 0.8187074065208435],\n",
       " [1073, 0.0, 0.5190960168838501, 0.3819252550601959, 0.6488316655158997],\n",
       " [1097, 2.0, 0.6964771151542664, 0.6612319350242615, 0.17189010977745056],\n",
       " [1113, 1.0, 1.9392504692077637, 0.7011040449142456, 0.7372780442237854],\n",
       " [1113, 2.0, 1.8629285097122192, 0.2720625698566437, 0.2219974398612976],\n",
       " [1113, 0.0, 0.8946824073791504, 0.5628073215484619, 0.7757581472396851],\n",
       " [1114, 1.0, 0.7573195099830627, 0.4871490001678467, 0.10042586177587509],\n",
       " [1114, 2.0, 0.7257943153381348, 0.7622529864311218, 0.48680782318115234],\n",
       " [1114, 0.0, 0.7105420827865601, 0.689415693283081, 0.3650456666946411],\n",
       " [1139, 1.0, 0.5876582264900208, 0.18386773765087128, 0.8467639684677124],\n",
       " [1157, 2.0, 0.682887077331543, 0.615372896194458, 0.4890342652797699],\n",
       " [1157, 0.0, 0.6528714895248413, 0.7113627791404724, 0.27232420444488525],\n",
       " [1157, 1.0, 0.5888606309890747, 0.6584914326667786, 0.6350042223930359],\n",
       " [1164, 2.0, 0.7331783771514893, 0.4383169114589691, 0.6838072538375854],\n",
       " [1172, 2.0, 4.222222805023193, 0.2872644364833832, 0.875056803226471],\n",
       " [1172, 0.0, 2.8903074264526367, 1.1989139318466187, 1.285205602645874],\n",
       " [1172, 1.0, 1.2949161529541016, 0.768629252910614, 0.7051388025283813],\n",
       " [1178, 2.0, 0.5821577310562134, 0.6545723080635071, 0.48162561655044556],\n",
       " [1199, 2.0, 0.8682556748390198, 0.36154139041900635, 0.6185145378112793],\n",
       " [1199, 0.0, 0.5421833395957947, 0.6038803458213806, 0.6390930414199829],\n",
       " [1204, 0.0, 0.6241177320480347, 0.3548843264579773, 0.5823414325714111],\n",
       " [1204, 1.0, 0.5508363842964172, 0.08546473830938339, 0.11824044585227966],\n",
       " [1204, 2.0, 0.5268540978431702, 0.6646749377250671, 0.6817507147789001],\n",
       " [1207, 2.0, 0.8959463834762573, 0.07000073045492172, 0.7175895571708679],\n",
       " [1207, 0.0, 0.8953664898872375, 0.6291894912719727, 0.552052915096283],\n",
       " [1219, 1.0, 0.6913604140281677, 0.6131084561347961, 0.6412013173103333],\n",
       " [1219, 2.0, 0.673024594783783, 0.9107404947280884, 0.5533180236816406],\n",
       " [1219, 0.0, 0.6410802006721497, 0.6290290355682373, 0.43603062629699707],\n",
       " [1236, 2.0, 0.6859516501426697, 0.3973044753074646, 0.861392080783844],\n",
       " [1251, 2.0, 0.5254867076873779, 0.5154035687446594, 0.31700149178504944],\n",
       " [1253, 2.0, 0.5063858032226562, 0.6637635231018066, 0.8105162978172302],\n",
       " [1260, 2.0, 0.7818263173103333, 0.21487995982170105, 0.3397665321826935],\n",
       " [1260, 0.0, 0.7346183061599731, 0.42709842324256897, 0.6897407174110413],\n",
       " [1260, 1.0, 0.696972668170929, 0.22185960412025452, 0.9432094097137451],\n",
       " [1273, 2.0, 0.960716187953949, 0.8770425319671631, 0.37394416332244873],\n",
       " [1273, 0.0, 0.9133752584457397, 0.31445515155792236, 0.5006729960441589],\n",
       " [1274, 0.0, 0.5758259296417236, 0.3292469084262848, 0.4842601716518402],\n",
       " [1280, 2.0, 0.5527826547622681, 0.5218589901924133, 0.5350354909896851],\n",
       " [1292, 2.0, 0.5009505748748779, 0.6652374267578125, 0.5022870302200317],\n",
       " [1307, 1.0, 0.6213135123252869, 0.5436524748802185, 0.5236462354660034],\n",
       " [1307, 2.0, 0.5499760508537292, 0.4079367518424988, 0.5338255763053894],\n",
       " [1309, 2.0, 1.3172651529312134, 0.4169420003890991, 0.8016370534896851],\n",
       " [1309, 0.0, 0.54117351770401, 0.6186262369155884, 0.8978845477104187],\n",
       " [1314, 2.0, 0.7829912304878235, 0.5674031972885132, 0.8375427722930908],\n",
       " [1314, 0.0, 0.6176466941833496, 0.3424986004829407, 0.5806534290313721],\n",
       " [1315, 2.0, 1.067274570465088, 0.38361799716949463, 0.34660014510154724],\n",
       " [1315, 1.0, 0.8279140591621399, 0.7586202025413513, 0.5249150395393372],\n",
       " [1315, 0.0, 0.6609945297241211, 0.7802808284759521, 0.8378528952598572],\n",
       " [1330, 2.0, 1.9292340278625488, 0.7740801572799683, 0.9056908488273621],\n",
       " [1330, 0.0, 1.3877997398376465, 0.9012875556945801, 0.9735060334205627],\n",
       " [1330, 2.0, 1.214882493019104, 0.7504945993423462, 0.8578149080276489],\n",
       " [1330, 1.0, 1.0203783512115479, 1.075052261352539, 0.885972797870636],\n",
       " [1335, 0.0, 0.6672002077102661, 0.40286749601364136, 0.3690990209579468],\n",
       " [1335, 2.0, 0.5268057584762573, 0.17722341418266296, 0.465901255607605],\n",
       " [1337, 2.0, 0.5638892650604248, 0.843069314956665, 0.13333933055400848],\n",
       " [1339, 2.0, 1.5065524578094482, 0.7581607699394226, 0.6966779828071594],\n",
       " [1339, 1.0, 0.5287907123565674, 0.773469090461731, 0.17594723403453827],\n",
       " [1350, 2.0, 0.7477172613143921, 0.9054522514343262, 0.7395960688591003],\n",
       " [1353, 2.0, 0.5540619492530823, 0.863589346408844, 0.21724069118499756],\n",
       " [1360, 2.0, 0.7943941354751587, 0.38089805841445923, 0.528131902217865],\n",
       " [1383, 0.0, 0.6005505919456482, 0.4932314455509186, 0.6672046184539795],\n",
       " [1405, 0.0, 0.5942660570144653, 0.3853696286678314, 0.5068486332893372],\n",
       " [1413, 2.0, 0.5953835844993591, 0.5113248825073242, 0.21093325316905975],\n",
       " [1413, 0.0, 0.5132172703742981, 0.5974863171577454, 0.6390690803527832],\n",
       " [1414, 2.0, 0.8649834394454956, 0.23931646347045898, 0.2397308498620987],\n",
       " [1414, 0.0, 0.7057164907455444, 0.5651137828826904, 0.896541953086853],\n",
       " [1414, 1.0, 0.51581209897995, 1.0006749629974365, 0.8659471273422241],\n",
       " [1416, 2.0, 0.5474013090133667, 0.46951013803482056, 0.31704747676849365],\n",
       " [1417, 0.0, 0.7830586433410645, 0.6263556480407715, 0.2980620563030243],\n",
       " [1417, 2.0, 0.6311691999435425, 0.5208122730255127, 0.41792812943458557],\n",
       " [1418, 2.0, 1.2004071474075317, 0.9268604516983032, 0.20685309171676636],\n",
       " [1418, 0.0, 1.1696717739105225, 0.4019697904586792, 0.507125973701477],\n",
       " [1418, 1.0, 0.7148329019546509, 0.5852406620979309, 0.3719489276409149],\n",
       " [1427, 2.0, 0.9192510843276978, 0.5165398716926575, 0.5018806457519531],\n",
       " [1427, 0.0, 0.6331313252449036, 0.5757502317428589, 0.538311779499054],\n",
       " [1429, 2.0, 0.5061392784118652, 0.6422819495201111, 0.5491918325424194],\n",
       " [1431, 0.0, 1.360092043876648, 0.6265596151351929, 0.5752456784248352],\n",
       " [1431, 2.0, 0.8552809953689575, 0.11472508311271667, 0.72751784324646],\n",
       " [1431, 1.0, 0.7264765501022339, 0.6339066624641418, 0.5481284856796265],\n",
       " [1431, 2.0, 0.5145906209945679, 0.1694594770669937, 0.7882363796234131],\n",
       " [1444, 2.0, 0.6558839678764343, 0.41984644532203674, 0.6021949648857117],\n",
       " [1456, 2.0, 1.103532075881958, 0.10154333710670471, 0.32821378111839294],\n",
       " [1456, 0.0, 0.5923325419425964, 0.3362900912761688, 0.4347740113735199],\n",
       " [1457, 1.0, 1.5196484327316284, 1.0588657855987549, 1.1112908124923706],\n",
       " [1457, 2.0, 1.492038369178772, 0.8612826466560364, 0.5355148315429688],\n",
       " [1457, 2.0, 1.4550011157989502, 0.866807222366333, 0.520190417766571],\n",
       " [1457, 0.0, 1.0698975324630737, 1.1006358861923218, 0.9892551302909851],\n",
       " [1463, 0.0, 0.5472471117973328, 0.6687266230583191, 0.48789316415786743],\n",
       " [1463, 2.0, 0.5428799390792847, 0.35647693276405334, 0.7790154218673706],\n",
       " [1468, 2.0, 0.5262866020202637, 0.22226202487945557, 0.21715566515922546],\n",
       " [1476, 2.0, 0.5080070495605469, 0.6281003952026367, 0.6390671133995056],\n",
       " [1490, 2.0, 0.5449961423873901, 0.4574500322341919, 0.8683112263679504],\n",
       " [1495, 2.0, 0.6638930439949036, 0.5337099432945251, 0.704603910446167],\n",
       " [1495, 0.0, 0.5718145370483398, 0.34546515345573425, 0.642785370349884],\n",
       " [1495, 1.0, 0.5406314730644226, 0.5894371271133423, 0.5247708559036255],\n",
       " [1518, 1.0, 1.113379955291748, 0.2729467749595642, 0.37521669268608093],\n",
       " [1518, 2.0, 0.9472020268440247, 0.7333373427391052, 0.37898725271224976],\n",
       " [1520, 2.0, 2.1037485599517822, 0.8686122894287109, 0.6770775318145752],\n",
       " [1520, 0.0, 1.683356761932373, 0.3863045573234558, 0.48071274161338806],\n",
       " [1520, 2.0, 1.577662467956543, 0.9665753841400146, 0.6758120059967041],\n",
       " [1520, 1.0, 1.0359244346618652, 0.5394273996353149, 0.5779727697372437],\n",
       " [1530, 0.0, 0.7431845664978027, 0.6443660855293274, 0.4839542806148529],\n",
       " [1530, 2.0, 0.5433250665664673, 0.5129029750823975, 0.69245445728302],\n",
       " [1539, 2.0, 0.5963960886001587, 0.9756970405578613, 0.5847923755645752],\n",
       " [1539, 1.0, 0.5337472558021545, 0.9965016841888428, 0.8251787424087524],\n",
       " [1540, 2.0, 0.8563178777694702, 0.9112629890441895, 0.15577179193496704],\n",
       " [1545, 2.0, 0.8843526840209961, 0.3790084421634674, 0.2599407434463501],\n",
       " [1548, 2.0, 0.7731491923332214, 0.3009476363658905, 0.25587356090545654],\n",
       " [1548, 1.0, 0.6030279994010925, 0.7453606724739075, 0.244696706533432],\n",
       " [1552, 2.0, 0.5519295930862427, 0.6039652228355408, 0.6259921789169312],\n",
       " [1552, 2.0, 0.5187404751777649, 0.5708138942718506, 0.6825560331344604],\n",
       " [1553, 0.0, 1.3450685739517212, 0.3786989152431488, 0.5550310015678406],\n",
       " [1553, 2.0, 0.7375360131263733, 0.5753496885299683, 0.11083443462848663],\n",
       " [1554, 2.0, 0.9350433349609375, 0.7425981760025024, 0.5722722411155701],\n",
       " [1554, 2.0, 0.9145285487174988, 0.7381622791290283, 0.6331048011779785],\n",
       " [1554, 0.0, 0.8424025177955627, 0.6874215602874756, 0.6210691332817078],\n",
       " [1554, 1.0, 0.6369116306304932, 0.9547112584114075, 0.28950071334838867],\n",
       " [1574, 2.0, 1.8591563701629639, 0.494599848985672, 0.24192099273204803],\n",
       " [1574, 1.0, 0.7398795485496521, 0.6887711882591248, 0.3690114915370941],\n",
       " [1582, 2.0, 0.7102181315422058, 0.5788305401802063, 0.5036488771438599],\n",
       " [1584, 2.0, 0.6969871520996094, 0.49334415793418884, 0.7747872471809387],\n",
       " [1596, 2.0, 0.5945926904678345, 0.7564194202423096, 0.1956517994403839],\n",
       " [1598, 2.0, 1.7402188777923584, 0.727726399898529, 0.9177931547164917],\n",
       " [1598, 2.0, 1.4302936792373657, 0.650847315788269, 0.9001274108886719],\n",
       " [1598, 1.0, 0.9745234251022339, 0.9558321237564087, 0.8035559058189392],\n",
       " [1598, 0.0, 0.9651608467102051, 0.8644981980323792, 0.8660293221473694],\n",
       " [1610, 0.0, 1.556056261062622, 0.495517760515213, 0.5665291547775269],\n",
       " [1610, 2.0, 1.4747605323791504, 0.6765937209129333, 0.6133367419242859],\n",
       " [1610, 1.0, 0.605265736579895, 0.8981571197509766, 0.15526562929153442],\n",
       " [1614, 2.0, 1.5024654865264893, 0.5705595016479492, 0.8428146243095398],\n",
       " [1614, 0.0, 1.4848278760910034, 0.5399545431137085, 0.4430261254310608],\n",
       " [1614, 0.0, 1.0524574518203735, 0.6145294308662415, 0.43242207169532776],\n",
       " [1614, 2.0, 0.778744637966156, 0.5384078025817871, 0.8493980765342712],\n",
       " [1617, 0.0, 0.5683276653289795, 0.4837936460971832, 0.6703513264656067],\n",
       " [1621, 0.0, 0.5707533359527588, 0.6514742970466614, 0.4640965759754181],\n",
       " [1629, 2.0, 0.6961043477058411, 0.3608575165271759, 0.7904043793678284],\n",
       " [1630, 2.0, 0.6152873635292053, 0.5049276351928711, 0.4349064230918884],\n",
       " [1643, 2.0, 0.6870962977409363, 0.6379599571228027, 0.04618329182267189],\n",
       " [1651, 2.0, 0.7776839137077332, 0.7537978291511536, 0.3818243145942688],\n",
       " [1651, 0.0, 0.5868256688117981, 0.5097929835319519, 0.43091776967048645],\n",
       " [1653, 2.0, 1.709459900856018, 0.8624320030212402, 0.8192180395126343],\n",
       " [1653, 0.0, 0.8897743225097656, 1.0052173137664795, 0.8220663666725159],\n",
       " [1653, 1.0, 0.6487118601799011, 0.5038338899612427, 0.9541944265365601],\n",
       " [1656, 2.0, 0.5623740553855896, 0.22216059267520905, 0.9181243777275085],\n",
       " [1669, 1.0, 0.5419322848320007, 0.10363824665546417, 0.8547754883766174],\n",
       " [1669, 0.0, 0.5304531455039978, 0.4752669632434845, 0.3604448735713959],\n",
       " [1673, 2.0, 0.737993061542511, 0.9708857536315918, 0.9771870374679565],\n",
       " [1673, 0.0, 0.5682786107063293, 0.876548171043396, 0.7196220755577087],\n",
       " [1674, 2.0, 0.5636754631996155, 0.777424693107605, 0.5708351135253906],\n",
       " [1684, 2.0, 0.7096573710441589, 0.8008178472518921, 1.0560318231582642],\n",
       " [1687, 2.0, 0.872760534286499, 0.49518144130706787, 0.2225535362958908],\n",
       " [1687, 1.0, 0.6015665531158447, 0.8641055226325989, -0.021696384996175766],\n",
       " [1694, 2.0, 1.3177204132080078, 0.7626500725746155, 0.662835419178009],\n",
       " [1694, 0.0, 1.0435235500335693, 0.7655223608016968, 0.5972898006439209],\n",
       " [1694, 0.0, 0.6026110649108887, 0.6807780861854553, 0.5478979349136353],\n",
       " [1694, 1.0, 0.5103431344032288, 0.8103026747703552, 0.0664675310254097],\n",
       " [1696, 2.0, 0.5991681814193726, 0.3454202711582184, 0.2349482774734497],\n",
       " [1696, 1.0, 0.511396050453186, 0.6223606467247009, 0.5998994708061218],\n",
       " [1705, 1.0, 1.273882508277893, 0.7473984360694885, 0.30528712272644043],\n",
       " [1705, 2.0, 1.26195228099823, 0.7856181859970093, 0.46163037419319153],\n",
       " [1712, 2.0, 0.6476290225982666, 0.7844251990318298, 0.18540863692760468],\n",
       " [1714, 2.0, 1.6513340473175049, 0.714798629283905, 0.3913542628288269],\n",
       " [1714, 1.0, 1.6187196969985962, 0.776182234287262, 0.6268231868743896],\n",
       " [1714, 0.0, 0.9097459316253662, 0.7219926714897156, 0.6186701655387878],\n",
       " [1734, 1.0, 0.5160815119743347, 0.8981719017028809, 0.7480118870735168],\n",
       " [1737, 0.0, 1.0282659530639648, 0.5844935178756714, 0.45815232396125793],\n",
       " [1737, 2.0, 0.9547757506370544, 0.7263904213905334, 0.5777415037155151],\n",
       " [1737, 1.0, 0.504828155040741, 0.7641612887382507, 0.475404292345047],\n",
       " [1740, 0.0, 0.5076903700828552, 0.3503991961479187, 0.5175334215164185],\n",
       " [1749, 0.0, 0.6560776829719543, 0.2750312089920044, 0.2910604476928711],\n",
       " [1749, 2.0, 0.6214331388473511, 0.49803251028060913, 0.1682080179452896],\n",
       " [1751, 2.0, 1.7183319330215454, 0.713062047958374, 0.7389377951622009],\n",
       " [1751, 2.0, 1.6187522411346436, 0.6183146238327026, 0.7258582711219788],\n",
       " [1751, 0.0, 1.4439289569854736, 0.6855319142341614, 0.47373729944229126],\n",
       " [1751, 1.0, 1.236702561378479, 0.6189597249031067, 0.28227365016937256],\n",
       " [1760, 2.0, 0.5095002055168152, 0.5082249045372009, 0.48297786712646484],\n",
       " [1770, 2.0, 0.5649246573448181, 0.5067080855369568, 0.6342418193817139],\n",
       " [1771, 2.0, 0.6723393201828003, 0.2910621762275696, 0.07874517142772675],\n",
       " [1782, 2.0, 0.5002938508987427, 0.5286814570426941, 0.5205590724945068],\n",
       " [1786, 2.0, 1.3517574071884155, 0.5407281517982483, 0.5569444894790649],\n",
       " [1786, 0.0, 0.6162177324295044, 0.26353174448013306, 0.47662845253944397],\n",
       " [1798, 2.0, 0.5763569474220276, 0.5456406474113464, 0.6739085912704468],\n",
       " [1799, 2.0, 0.5363820195198059, 0.5014913082122803, 0.6646869778633118],\n",
       " [1801, 2.0, 0.5988258719444275, 0.6619576215744019, 0.3418508768081665],\n",
       " [1804, 2.0, 0.7006521821022034, 0.5170909762382507, 0.3362721800804138],\n",
       " [1806, 0.0, 0.9984725713729858, 0.8075433969497681, 0.5001566410064697],\n",
       " [1806, 2.0, 0.9929506182670593, 0.5176352858543396, 0.334262877702713],\n",
       " [1808, 2.0, 0.6252536773681641, 0.8605673313140869, 0.1868942677974701],\n",
       " [1808, 0.0, 0.5094446539878845, 0.6770271062850952, 0.46939903497695923],\n",
       " [1809, 2.0, 0.57807856798172, 0.8142983913421631, 0.2279309332370758],\n",
       " [1811, 2.0, 0.9476953148841858, 0.37943223118782043, 0.5858340263366699],\n",
       " [1811, 0.0, 0.8345074653625488, 0.580258846282959, 0.4958486557006836],\n",
       " [1811, 1.0, 0.7846020460128784, 0.522139847278595, 0.5963432788848877],\n",
       " [1813, 1.0, 0.5338387489318848, 0.3611595332622528, 0.6557757258415222],\n",
       " [1823, 2.0, 0.9695136547088623, 0.4911097288131714, 0.7873749136924744],\n",
       " [1823, 0.0, 0.7874438166618347, 0.7621681094169617, 0.6397266387939453],\n",
       " [1823, 2.0, 0.5427944660186768, 0.46264520287513733, 0.831203043460846],\n",
       " [1849, 2.0, 0.6237286925315857, 0.8083080053329468, 0.0449117012321949],\n",
       " [1849, 0.0, 0.6087146401405334, 0.5770785212516785, 0.6067818403244019],\n",
       " [1849, 1.0, 0.5020952820777893, 0.077163927257061, 0.45108872652053833]]"
      ]
     },
     "execution_count": 54,
     "metadata": {},
     "output_type": "execute_result"
    }
   ],
   "source": [
    "pred_boxes"
   ]
  },
  {
   "cell_type": "code",
   "execution_count": 56,
   "metadata": {},
   "outputs": [
    {
     "data": {
      "text/plain": [
       "torch.Size([3, 256, 256])"
      ]
     },
     "execution_count": 56,
     "metadata": {},
     "output_type": "execute_result"
    }
   ],
   "source": [
    "# Get the first image and its corresponding predicted and target boxes\n",
    "image,_ = test_dataset[31]\n",
    "image.shape"
   ]
  },
  {
   "cell_type": "code",
   "execution_count": 57,
   "metadata": {},
   "outputs": [],
   "source": [
    "def plot_centers(image, idx, pred_centers, target_centers):\n",
    "    image = image.permute(1, 2, 0).to(\"cpu\")\n",
    "    \n",
    "    image = np.array(image)\n",
    "    height, width, _ = image.shape\n",
    "    p_centers = []\n",
    "    t_centers = []\n",
    "    for center in pred_centers:\n",
    "        if center[0] == idx:\n",
    "            p_centers.append(center[1:])\n",
    "    \n",
    "    for center in target_centers:\n",
    "        if center[0] == idx:\n",
    "            t_centers.append(center[1:])\n",
    "\n",
    "    fig, ax = plt.subplots()\n",
    "    ax.imshow(image)\n",
    "    \n",
    "    for center in p_centers:\n",
    "        rect = patches.Rectangle(\n",
    "            (center[2] * width , center[3] * height),\n",
    "            1,\n",
    "            1,\n",
    "            linewidth=2,\n",
    "            edgecolor=\"r\",\n",
    "            facecolor=\"none\",\n",
    "        )\n",
    "        ax.add_patch(rect)\n",
    "\n",
    "    for center in t_centers:\n",
    "        rect = patches.Rectangle(\n",
    "            (center[2] * width, center[3] * height),\n",
    "            1,\n",
    "            1,\n",
    "            linewidth=2,\n",
    "            edgecolor=\"g\",\n",
    "            facecolor=\"none\",\n",
    "        )\n",
    "        ax.add_patch(rect)\n",
    "    \n",
    "    plt.show()\n"
   ]
  },
  {
   "cell_type": "code",
   "execution_count": 58,
   "metadata": {},
   "outputs": [
    {
     "data": {
      "image/png": "[encoded data removed]",
      "text/plain": [
       "<Figure size 640x480 with 1 Axes>"
      ]
     },
     "metadata": {},
     "output_type": "display_data"
    }
   ],
   "source": [
    "plot_centers(image, 31, pred_boxes, target_boxes)"
   ]
  },
  {
   "cell_type": "code",
   "execution_count": null,
   "metadata": {},
   "outputs": [],
   "source": [
    "# sample = torch.rand(1, 3, 256, 256)\n",
    "# model.eval()\n",
    "# output = model(sample)\n",
    "# print(output.shape)"
   ]
  },
  {
   "cell_type": "code",
   "execution_count": null,
   "metadata": {},
   "outputs": [],
   "source": [
    "\n",
    "# # Set the path to save the ONNX model\n",
    "# onnx_model_path = \"model.onnx\"\n",
    "\n",
    "# # Export the model to ONNX format\n",
    "# torch.onnx.export(model, sample, onnx_model_path)\n"
   ]
  },
  {
   "cell_type": "markdown",
   "metadata": {},
   "source": [
    "# PYHELAYERS"
   ]
  },
  {
   "cell_type": "markdown",
   "metadata": {},
   "source": [
    "## Select a subset of plain samples from test set"
   ]
  },
  {
   "cell_type": "code",
   "execution_count": null,
   "metadata": {},
   "outputs": [],
   "source": [
    "# test_img_list=[]\n",
    "# test_label_list=[]\n",
    "# for image,label in test_dataset:\n",
    "#     test_img_list.append(image)\n",
    "#     test_label_list.append(label)\n",
    "#     if len(test_img_list)==1:\n",
    "#         break\n",
    "\n",
    "# test_img_array = np.array(test_img_list)\n",
    "# test_label_array = np.array(test_label_list)\n",
    "# # test_img_array = test_img_array[:11728]\n",
    "# # test_label_array = test_label_array[:11728]\n",
    "# # test_img_array = test_img_array.reshape(733,16,3,64,64)\n",
    "# # test_label_array = test_label_array.reshape(733,16,7,7,30)\n",
    "# print(test_img_array.shape)\n",
    "# print(test_label_array.shape)"
   ]
  },
  {
   "cell_type": "markdown",
   "metadata": {},
   "source": [
    "## Initialize he scheme"
   ]
  },
  {
   "cell_type": "code",
   "execution_count": null,
   "metadata": {},
   "outputs": [],
   "source": [
    "# import pyhelayers\n",
    "# import utils\n",
    "\n",
    "# utils.verify_memory()\n",
    "\n",
    "# print('Misc. initalizations')"
   ]
  },
  {
   "cell_type": "code",
   "execution_count": null,
   "metadata": {},
   "outputs": [],
   "source": [
    "# context = pyhelayers.DefaultContext()\n",
    "# print('HE context ready')"
   ]
  },
  {
   "cell_type": "code",
   "execution_count": null,
   "metadata": {},
   "outputs": [],
   "source": [
    "\n",
    "# nnp = pyhelayers.NeuralNetPlain()"
   ]
  },
  {
   "cell_type": "code",
   "execution_count": null,
   "metadata": {},
   "outputs": [],
   "source": [
    "# hyper_params = pyhelayers.PlainModelHyperParams()\n",
    "# nnp.init_from_files(hyper_params, [\"model.onnx\"])\n"
   ]
  },
  {
   "cell_type": "code",
   "execution_count": null,
   "metadata": {},
   "outputs": [],
   "source": [
    "# he_run_req = pyhelayers.HeRunRequirements()\n",
    "# he_run_req.set_he_context_options([pyhelayers.DefaultContext()])\n",
    "# he_run_req.optimize_for_batch_size(1)\n",
    "\n",
    "# profile = pyhelayers.HeModel.compile(nnp, he_run_req)\n",
    "# batch_size = profile.get_optimal_batch_size()\n",
    "# print('Profile ready. Batch size=',batch_size)"
   ]
  },
  {
   "cell_type": "code",
   "execution_count": null,
   "metadata": {},
   "outputs": [],
   "source": [
    "# profile.get_he_config_requirement()"
   ]
  },
  {
   "cell_type": "code",
   "execution_count": null,
   "metadata": {},
   "outputs": [],
   "source": [
    "# context = pyhelayers.HeModel.create_context(profile)\n",
    "# print('HE context initalized')"
   ]
  },
  {
   "cell_type": "code",
   "execution_count": null,
   "metadata": {},
   "outputs": [],
   "source": [
    "# context.get_scheme_name()"
   ]
  },
  {
   "cell_type": "code",
   "execution_count": null,
   "metadata": {},
   "outputs": [],
   "source": [
    "# context.get_default_scale()"
   ]
  },
  {
   "cell_type": "code",
   "execution_count": null,
   "metadata": {},
   "outputs": [],
   "source": [
    "# context.get_library_name()"
   ]
  },
  {
   "cell_type": "code",
   "execution_count": null,
   "metadata": {},
   "outputs": [],
   "source": [
    "# context.has_secret_key()"
   ]
  },
  {
   "cell_type": "code",
   "execution_count": null,
   "metadata": {},
   "outputs": [],
   "source": [
    "# context.save_secret_key_to_file('secret_key.txt')"
   ]
  },
  {
   "cell_type": "code",
   "execution_count": null,
   "metadata": {},
   "outputs": [],
   "source": [
    "# nn = pyhelayers.NeuralNet(context)\n",
    "# nn.encode_encrypt(nnp, profile)\n",
    "# print('Encrypted network ready')"
   ]
  },
  {
   "cell_type": "code",
   "execution_count": null,
   "metadata": {},
   "outputs": [],
   "source": [
    "# plain_samples, labels = utils.extract_batch(test_img_array, test_label_array, batch_size, 0)\n",
    "\n",
    "# print('Batch of size',batch_size,'loaded')"
   ]
  },
  {
   "cell_type": "code",
   "execution_count": null,
   "metadata": {},
   "outputs": [],
   "source": [
    "# print(plain_samples.shape)\n",
    "# print(plain_samples.dtype)"
   ]
  },
  {
   "cell_type": "code",
   "execution_count": null,
   "metadata": {},
   "outputs": [],
   "source": [
    "# iop = nn.create_io_processor()\n",
    "# samples = pyhelayers.EncryptedData(context)\n",
    "# iop.encode_encrypt_inputs_for_predict(samples, [plain_samples])\n",
    "# print('Test data encrypted')"
   ]
  },
  {
   "cell_type": "markdown",
   "metadata": {},
   "source": [
    "## Make prediction on encrypted data"
   ]
  },
  {
   "cell_type": "code",
   "execution_count": null,
   "metadata": {},
   "outputs": [],
   "source": [
    "# utils.start_timer()\n",
    "\n",
    "# predictions = pyhelayers.EncryptedData(context)\n",
    "# nn.predict(predictions, samples)\n",
    "\n",
    "# duration=utils.end_timer('predict')\n",
    "# utils.report_duration('predict per sample',duration/batch_size)"
   ]
  },
  {
   "cell_type": "code",
   "execution_count": null,
   "metadata": {},
   "outputs": [],
   "source": [
    "# plain_predictions_aHE = iop.decrypt_decode_output(predictions)\n",
    "# print(f\"plain prediction shape after HE: {plain_predictions_aHE.shape}\")"
   ]
  },
  {
   "cell_type": "code",
   "execution_count": null,
   "metadata": {},
   "outputs": [],
   "source": [
    "# type(plain_predictions_aHE)"
   ]
  },
  {
   "cell_type": "code",
   "execution_count": null,
   "metadata": {},
   "outputs": [],
   "source": [
    "# ## In case I have test samples > batch size\n",
    "# plain_predictions_aHE = plain_predictions_aHE.reshape(,1470)"
   ]
  },
  {
   "cell_type": "markdown",
   "metadata": {},
   "source": [
    "## Evaluate prediction with HE"
   ]
  },
  {
   "cell_type": "code",
   "execution_count": null,
   "metadata": {},
   "outputs": [],
   "source": [
    "# plain_predictions_bHE=[]\n",
    "# for sample in test_img_array:\n",
    "#     tensor_sample = torch.tensor(sample).unsqueeze(0)\n",
    "#     output = model(tensor_sample)\n",
    "#     output = output.detach().numpy()\n",
    "#     plain_predictions_bHE.append(output)\n",
    "# plain_predictions_bHE = np.array(plain_predictions_bHE)\n",
    "# plain_predictions_bHE = plain_predictions_bHE.reshape(16, 1470)\n",
    "# print(f\"plain prediction shape before HE: {plain_predictions_bHE.shape}\")\n"
   ]
  },
  {
   "cell_type": "code",
   "execution_count": null,
   "metadata": {},
   "outputs": [],
   "source": [
    "\n",
    "# # Compute the absolute differences between plain prediction before and after HE\n",
    "# differences = np.abs(plain_predictions_bHE - plain_predictions_aHE)\n",
    "\n",
    "# # Compute relevant statistics\n",
    "# mean_difference = np.mean(differences)\n",
    "# max_difference = np.max(differences)\n",
    "# min_difference = np.min(differences)\n",
    "# std_difference = np.std(differences)\n",
    "\n",
    "# print(f\"Mean difference: {mean_difference}\")\n",
    "# print(f\"Max difference: {max_difference}\")\n",
    "# print(f\"Min difference: {min_difference}\")\n",
    "# print(f\"Std difference: {std_difference}\")\n"
   ]
  },
  {
   "cell_type": "markdown",
   "metadata": {},
   "source": [
    "### Convert prediction in bounding boxes"
   ]
  },
  {
   "cell_type": "code",
   "execution_count": null,
   "metadata": {},
   "outputs": [],
   "source": [
    "# def get_bboxes_from_prediction(\n",
    "#     predictions,\n",
    "#     test_image_array,\n",
    "#     iou_threshold,\n",
    "#     threshold,\n",
    "# ):\n",
    "#     all_pred_boxes = []\n",
    "\n",
    "    \n",
    "#     train_idx = 0\n",
    "\n",
    "#     bboxes = cellboxes_to_boxes(predictions)\n",
    "\n",
    "#     for idx in range(len(test_image_array)):\n",
    "#         image = test_image_array[idx]\n",
    "\n",
    "#         nms_boxes = non_max_suppression(\n",
    "#             bboxes[idx],\n",
    "#             iou_threshold=iou_threshold,\n",
    "#             threshold=threshold,\n",
    "#         )\n",
    "\n",
    "#         # Activate only for test\n",
    "#         if  idx == 0:\n",
    "#             plot_image(image.permute(1,2,0).to(\"cpu\"), nms_boxes)\n",
    "\n",
    "#         for nms_box in nms_boxes:\n",
    "#             all_pred_boxes.append([train_idx] + nms_box)\n",
    "\n",
    "        \n",
    "\n",
    "#         train_idx += 1\n",
    "\n",
    "#     return all_pred_boxes\n"
   ]
  },
  {
   "cell_type": "code",
   "execution_count": null,
   "metadata": {},
   "outputs": [],
   "source": [
    "# tensor_predaHE = torch.tensor(plain_predictions_aHE)\n",
    "# tensor_predbHE = torch.tensor(plain_predictions_bHE)\n",
    "# tensor_imgs = torch.tensor(test_img_array)\n",
    "\n",
    "# print(\"Prediction before HE\")\n",
    "# bboxes_aHE = get_bboxes_from_prediction(tensor_predbHE, tensor_imgs, iou_threshold=0.5, threshold=0.4)\n",
    "\n",
    "# print(\"Prediction after HE\")\n",
    "# bboxes_bHE = get_bboxes_from_prediction(tensor_predaHE, tensor_imgs, iou_threshold=0.5, threshold=0.4)"
   ]
  }
 ],
 "metadata": {
  "kernelspec": {
   "display_name": ".venv",
   "language": "python",
   "name": "python3"
  },
  "language_info": {
   "codemirror_mode": {
    "name": "ipython",
    "version": 3
   },
   "file_extension": ".py",
   "mimetype": "text/x-python",
   "name": "python",
   "nbconvert_exporter": "python",
   "pygments_lexer": "ipython3",
   "version": "3.11.8"
  }
 },
 "nbformat": 4,
 "nbformat_minor": 2
}
