{
 "cells": [
  {
   "cell_type": "code",
   "execution_count": 1,
   "metadata": {},
   "outputs": [
    {
     "name": "stdout",
     "output_type": "stream",
     "text": [
      "Files have been successfully moved to the respective subfolders.\n"
     ]
    }
   ],
   "source": [
    "import os\n",
    "import shutil\n",
    "import random\n",
    "\n",
    "# Define the path to your dataset folder\n",
    "dataset_folder = 'SAR-Ship-Dataset/ship_dataset_v0'\n",
    "target_folder = \"../data/ShipDataset\"\n",
    "images_folder = os.path.join(target_folder, 'images')\n",
    "labels_folder = os.path.join(target_folder, 'labels')\n",
    "\n",
    "# Create the subfolders if they don't exist\n",
    "os.makedirs(images_folder, exist_ok=True)\n",
    "os.makedirs(labels_folder, exist_ok=True)"
   ]
  },
  {
   "cell_type": "code",
   "execution_count": null,
   "metadata": {},
   "outputs": [],
   "source": [
    "# Create train and test subfolders inside images and labels folders\n",
    "train_images_folder = os.path.join(images_folder, 'train')\n",
    "test_images_folder = os.path.join(images_folder, 'test')\n",
    "train_labels_folder = os.path.join(labels_folder, 'train')\n",
    "test_labels_folder = os.path.join(labels_folder, 'test')\n",
    "\n",
    "os.makedirs(train_images_folder, exist_ok=True)\n",
    "os.makedirs(test_images_folder, exist_ok=True)\n",
    "os.makedirs(train_labels_folder, exist_ok=True)\n",
    "os.makedirs(test_labels_folder, exist_ok=True)"
   ]
  },
  {
   "cell_type": "code",
   "execution_count": null,
   "metadata": {},
   "outputs": [],
   "source": [
    "# List all files in the dataset folder\n",
    "all_files = os.listdir(dataset_folder)\n",
    "print(len(all_files))"
   ]
  },
  {
   "cell_type": "code",
   "execution_count": null,
   "metadata": {},
   "outputs": [],
   "source": [
    "# Filter image files and their corresponding label files\n",
    "image_files = [f for f in all_files if f.endswith('.jpg')]\n",
    "label_files = [f.replace('.jpg', '.txt') for f in image_files]\n",
    "\n",
    "# Ensure all labels have corresponding images\n",
    "image_label_pairs = [(img, lbl) for img, lbl in zip(image_files, label_files) if os.path.exists(os.path.join(dataset_folder, lbl))]\n",
    "\n",
    "# Split the image-label pairs into train and test sets\n",
    "def split_pairs(pairs, train_ratio=0.8):\n",
    "    \"\"\"Splits a list of image-label pairs into training and testing sets based on the given ratio.\"\"\"\n",
    "    random.shuffle(pairs)\n",
    "    split_idx = int(len(pairs) * train_ratio)\n",
    "    return pairs[:split_idx], pairs[split_idx:]\n",
    "\n",
    "train_pairs, test_pairs = split_pairs(image_label_pairs)\n"
   ]
  },
  {
   "cell_type": "code",
   "execution_count": null,
   "metadata": {},
   "outputs": [],
   "source": [
    "print(len(train_pairs))\n",
    "print(len(test_pairs))"
   ]
  },
  {
   "cell_type": "code",
   "execution_count": null,
   "metadata": {},
   "outputs": [],
   "source": [
    "# Function to move files to their respective directories\n",
    "def move_files(pairs, image_dest_folder, label_dest_folder):\n",
    "    for img_file, lbl_file in pairs:\n",
    "        img_source_path = os.path.join(dataset_folder, img_file)\n",
    "        lbl_source_path = os.path.join(dataset_folder, lbl_file)\n",
    "        img_dest_path = os.path.join(image_dest_folder, img_file)\n",
    "        lbl_dest_path = os.path.join(label_dest_folder, lbl_file)\n",
    "\n",
    "        try:\n",
    "            shutil.move(img_source_path, img_dest_path)\n",
    "            shutil.move(lbl_source_path, lbl_dest_path)\n",
    "            print(f'Moved image and label: {img_file}, {lbl_file}')\n",
    "        except Exception as e:\n",
    "            print(f'Error moving files {img_file} and {lbl_file}: {e}')\n"
   ]
  },
  {
   "cell_type": "code",
   "execution_count": null,
   "metadata": {},
   "outputs": [],
   "source": [
    "# Move train files\n",
    "move_files(train_pairs, train_images_folder, train_labels_folder)"
   ]
  },
  {
   "cell_type": "code",
   "execution_count": null,
   "metadata": {},
   "outputs": [],
   "source": [
    "# Move test files\n",
    "move_files(test_pairs, test_images_folder, test_labels_folder)"
   ]
  },
  {
   "cell_type": "code",
   "execution_count": null,
   "metadata": {},
   "outputs": [],
   "source": [
    "print('Files have been successfully moved to the respective train and test subfolders.')"
   ]
  }
 ],
 "metadata": {
  "kernelspec": {
   "display_name": ".venv",
   "language": "python",
   "name": "python3"
  },
  "language_info": {
   "codemirror_mode": {
    "name": "ipython",
    "version": 3
   },
   "file_extension": ".py",
   "mimetype": "text/x-python",
   "name": "python",
   "nbconvert_exporter": "python",
   "pygments_lexer": "ipython3",
   "version": "3.11.8"
  }
 },
 "nbformat": 4,
 "nbformat_minor": 2
}
