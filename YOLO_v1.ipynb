{
 "cells": [
  {
   "cell_type": "markdown",
   "metadata": {},
   "source": [
    "# Implement YOLO with DIOR dataset"
   ]
  },
  {
   "cell_type": "markdown",
   "metadata": {},
   "source": [
    "## Import libraries"
   ]
  },
  {
   "cell_type": "code",
   "execution_count": 20,
   "metadata": {},
   "outputs": [],
   "source": [
    "import os\n",
    "import shutil\n",
    "import gdown\n",
    "import random\n",
    "import numpy as np\n",
    "import pandas as pd\n",
    "from tqdm.auto import tqdm\n",
    "from collections import Counter\n",
    "import matplotlib.pyplot as plt\n",
    "import cv2\n",
    "import torch\n",
    "import torch.nn as nn\n",
    "import torch.optim as optim\n",
    "import torchvision\n",
    "from torchvision import transforms\n",
    "from torch.utils.data import Dataset, DataLoader\n",
    "from xml.etree import ElementTree\n"
   ]
  },
  {
   "cell_type": "markdown",
   "metadata": {},
   "source": [
    "## Import Data"
   ]
  },
  {
   "cell_type": "code",
   "execution_count": 3,
   "metadata": {},
   "outputs": [],
   "source": [
    "raw_data_path = \"raw_data\""
   ]
  },
  {
   "cell_type": "code",
   "execution_count": 13,
   "metadata": {},
   "outputs": [
    {
     "name": "stdout",
     "output_type": "stream",
     "text": [
      "[INFO] Raw data directory is been created.\n",
      "[INFO] Downloading data...\n",
      "\n"
     ]
    },
    {
     "name": "stderr",
     "output_type": "stream",
     "text": [
      "Downloading...\n",
      "From (original): https://drive.google.com/uc?id=1KoQzqR20qvIXDf1qsXCHGxD003IPmXMw\n",
      "From (redirected): https://drive.google.com/uc?id=1KoQzqR20qvIXDf1qsXCHGxD003IPmXMw&confirm=t&uuid=24e299d3-37dd-46fe-a16a-bc8094995417\n",
      "To: /home/ec2-user/ObjDct_Master_Thesis/raw_data/Annotations.zip\n",
      "100%|██████████| 32.1M/32.1M [00:00<00:00, 36.0MB/s]\n",
      "Downloading...\n",
      "From (original): https://drive.google.com/uc?id=1wq0FQCBsbrnf-sJfloi7IR9tBH87GGGS\n",
      "From (redirected): https://drive.google.com/uc?id=1wq0FQCBsbrnf-sJfloi7IR9tBH87GGGS&confirm=t&uuid=7e307aa4-40ad-4ab1-95a0-3aed29655028\n",
      "To: /home/ec2-user/ObjDct_Master_Thesis/raw_data/JPEGImages-test.zip\n",
      "100%|██████████| 3.52G/3.52G [00:47<00:00, 73.6MB/s]\n",
      "Downloading...\n",
      "From (original): https://drive.google.com/uc?id=1NVRSBm3RfpGGtZvgLJG5e_XD9uP4DZmI\n",
      "From (redirected): https://drive.google.com/uc?id=1NVRSBm3RfpGGtZvgLJG5e_XD9uP4DZmI&confirm=t&uuid=939c6988-38ef-4680-936d-ee3f8f64e001\n",
      "To: /home/ec2-user/ObjDct_Master_Thesis/raw_data/JPEGImages-trainval.zip\n",
      "100%|██████████| 3.88G/3.88G [00:55<00:00, 69.5MB/s]"
     ]
    },
    {
     "name": "stdout",
     "output_type": "stream",
     "text": [
      "[INFO] Data is been downloaded.\n"
     ]
    },
    {
     "name": "stderr",
     "output_type": "stream",
     "text": [
      "\n"
     ]
    }
   ],
   "source": [
    "if os.path.exists(raw_data_path):\n",
    "    print('[INFO] Raw data directory exists, skiping download.')\n",
    "else:\n",
    "    os.makedirs(raw_data_path)\n",
    "    print('[INFO] Raw data directory is been created.')\n",
    "    print('[INFO] Downloading data...\\n')\n",
    "    gdown.download('https://drive.google.com/uc?id=1KoQzqR20qvIXDf1qsXCHGxD003IPmXMw', output=os.path.join(raw_data_path, 'Annotations.zip'))\n",
    "    gdown.download('https://drive.google.com/file/d/1wq0FQCBsbrnf-sJfloi7IR9tBH87GGGS/view?usp=sharing', output=os.path.join(raw_data_path, 'JPEGImages-test.zip'),fuzzy=True)\n",
    "    gdown.download('https://drive.google.com/file/d/1NVRSBm3RfpGGtZvgLJG5e_XD9uP4DZmI/view?usp=sharing', output=os.path.join(raw_data_path, 'JPEGImages-trainval.zip'),fuzzy=True)\n",
    "    print('[INFO] Data is been downloaded.')"
   ]
  },
  {
   "cell_type": "code",
   "execution_count": 9,
   "metadata": {},
   "outputs": [],
   "source": [
    "dior_data_path = \"dior_data\""
   ]
  },
  {
   "cell_type": "code",
   "execution_count": 14,
   "metadata": {},
   "outputs": [
    {
     "name": "stdout",
     "output_type": "stream",
     "text": [
      "[INFO] File \"raw_data/Annotations.zip\" is been extracted to \"dior_data\".\n",
      "[INFO] File \"raw_data/JPEGImages-test.zip\" is been extracted to \"dior_data\".\n",
      "[INFO] File \"raw_data/JPEGImages-trainval.zip\" is been extracted to \"dior_data\".\n"
     ]
    }
   ],
   "source": [
    "# Extracting the zip data files\n",
    "if os.path.exists(dior_data_path):\n",
    "    print('[INFO] DIOR data directory exists, skiping extraction.')\n",
    "else:\n",
    "    os.makedirs(dior_data_path)\n",
    "    for i in os.listdir(raw_data_path):\n",
    "        filename = os.path.join(raw_data_path, i) \n",
    "        shutil.unpack_archive(filename=filename, extract_dir=dior_data_path)\n",
    "        print(f'[INFO] File \"{filename}\" is been extracted to \"{dior_data_path}\".')"
   ]
  },
  {
   "cell_type": "code",
   "execution_count": 15,
   "metadata": {},
   "outputs": [],
   "source": [
    "# Path for all the data\n",
    "annot_data_path = 'dior_data/Annotations/Horizontal Bounding Boxes'\n",
    "trainval_data_path = 'dior_data/JPEGImages-trainval'\n",
    "test_data_path = 'dior_data/JPEGImages-test'"
   ]
  },
  {
   "cell_type": "code",
   "execution_count": 16,
   "metadata": {},
   "outputs": [
    {
     "data": {
      "text/plain": [
       "(['dior_data/Annotations/Horizontal Bounding Boxes/00001.xml',\n",
       "  'dior_data/Annotations/Horizontal Bounding Boxes/00002.xml',\n",
       "  'dior_data/Annotations/Horizontal Bounding Boxes/00003.xml',\n",
       "  'dior_data/Annotations/Horizontal Bounding Boxes/00004.xml',\n",
       "  'dior_data/Annotations/Horizontal Bounding Boxes/00005.xml'],\n",
       " ['dior_data/Annotations/Horizontal Bounding Boxes/23459.xml',\n",
       "  'dior_data/Annotations/Horizontal Bounding Boxes/23460.xml',\n",
       "  'dior_data/Annotations/Horizontal Bounding Boxes/23461.xml',\n",
       "  'dior_data/Annotations/Horizontal Bounding Boxes/23462.xml',\n",
       "  'dior_data/Annotations/Horizontal Bounding Boxes/23463.xml'],\n",
       " 23463)"
      ]
     },
     "execution_count": 16,
     "metadata": {},
     "output_type": "execute_result"
    }
   ],
   "source": [
    "# Creating a list of annotation files\n",
    "annot_file_list = sorted([os.path.join(annot_data_path, i) for i in os.listdir(annot_data_path) if '.xml' in i])\n",
    "annot_file_list[:5], annot_file_list[-5:], len(annot_file_list)"
   ]
  },
  {
   "cell_type": "code",
   "execution_count": 17,
   "metadata": {},
   "outputs": [
    {
     "data": {
      "text/plain": [
       "(['dior_data/JPEGImages-trainval/00001.jpg',\n",
       "  'dior_data/JPEGImages-trainval/00002.jpg',\n",
       "  'dior_data/JPEGImages-trainval/00003.jpg',\n",
       "  'dior_data/JPEGImages-trainval/00004.jpg',\n",
       "  'dior_data/JPEGImages-trainval/00005.jpg'],\n",
       " ['dior_data/JPEGImages-trainval/11721.jpg',\n",
       "  'dior_data/JPEGImages-trainval/11722.jpg',\n",
       "  'dior_data/JPEGImages-trainval/11723.jpg',\n",
       "  'dior_data/JPEGImages-trainval/11724.jpg',\n",
       "  'dior_data/JPEGImages-trainval/11725.jpg'],\n",
       " 11725)"
      ]
     },
     "execution_count": 17,
     "metadata": {},
     "output_type": "execute_result"
    }
   ],
   "source": [
    "# Creating a list of training and validation images\n",
    "trainval_file_list = sorted([os.path.join(trainval_data_path, i) for i in os.listdir(trainval_data_path) if '.jpg' in i])\n",
    "trainval_file_list[:5], trainval_file_list[-5:], len(trainval_file_list)"
   ]
  },
  {
   "cell_type": "code",
   "execution_count": 18,
   "metadata": {},
   "outputs": [
    {
     "data": {
      "text/plain": [
       "(['dior_data/JPEGImages-test/11726.jpg',\n",
       "  'dior_data/JPEGImages-test/11727.jpg',\n",
       "  'dior_data/JPEGImages-test/11728.jpg',\n",
       "  'dior_data/JPEGImages-test/11729.jpg',\n",
       "  'dior_data/JPEGImages-test/11730.jpg'],\n",
       " ['dior_data/JPEGImages-test/23459.jpg',\n",
       "  'dior_data/JPEGImages-test/23460.jpg',\n",
       "  'dior_data/JPEGImages-test/23461.jpg',\n",
       "  'dior_data/JPEGImages-test/23462.jpg',\n",
       "  'dior_data/JPEGImages-test/23463.jpg'],\n",
       " 11738)"
      ]
     },
     "execution_count": 18,
     "metadata": {},
     "output_type": "execute_result"
    }
   ],
   "source": [
    "# Creating a list of testing images\n",
    "test_file_list = sorted([os.path.join(test_data_path, i) for i in os.listdir(test_data_path) if '.jpg' in i])\n",
    "test_file_list[:5], test_file_list[-5:], len(test_file_list)"
   ]
  },
  {
   "cell_type": "code",
   "execution_count": 19,
   "metadata": {},
   "outputs": [
    {
     "data": {
      "text/plain": [
       "(array(['dior_data/JPEGImages-trainval/00001.jpg',\n",
       "        'dior_data/JPEGImages-trainval/00002.jpg',\n",
       "        'dior_data/JPEGImages-trainval/00003.jpg',\n",
       "        'dior_data/JPEGImages-trainval/00004.jpg',\n",
       "        'dior_data/JPEGImages-trainval/00005.jpg'], dtype='<U39'),\n",
       " array(['dior_data/JPEGImages-test/23459.jpg',\n",
       "        'dior_data/JPEGImages-test/23460.jpg',\n",
       "        'dior_data/JPEGImages-test/23461.jpg',\n",
       "        'dior_data/JPEGImages-test/23462.jpg',\n",
       "        'dior_data/JPEGImages-test/23463.jpg'], dtype='<U39'),\n",
       " 23463)"
      ]
     },
     "execution_count": 19,
     "metadata": {},
     "output_type": "execute_result"
    }
   ],
   "source": [
    "# Combining all the images path in one list\n",
    "image_data_file_list = np.concatenate((trainval_file_list, test_file_list))\n",
    "image_data_file_list[:5], image_data_file_list[-5:], len(image_data_file_list)"
   ]
  },
  {
   "cell_type": "code",
   "execution_count": null,
   "metadata": {},
   "outputs": [],
   "source": []
  }
 ],
 "metadata": {
  "kernelspec": {
   "display_name": ".venv",
   "language": "python",
   "name": "python3"
  },
  "language_info": {
   "codemirror_mode": {
    "name": "ipython",
    "version": 3
   },
   "file_extension": ".py",
   "mimetype": "text/x-python",
   "name": "python",
   "nbconvert_exporter": "python",
   "pygments_lexer": "ipython3",
   "version": "3.9.16"
  }
 },
 "nbformat": 4,
 "nbformat_minor": 2
}
