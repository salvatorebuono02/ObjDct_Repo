{
 "cells": [
  {
   "cell_type": "code",
   "execution_count": 1,
   "metadata": {},
   "outputs": [
    {
     "name": "stdout",
     "output_type": "stream",
     "text": [
      "Total number of images with target classes: 1112\n"
     ]
    }
   ],
   "source": [
    "import os\n",
    "import shutil\n",
    "# Define the paths to your dataset folders\n",
    "dataset_folder = \"data\"\n",
    "images_folder = os.path.join(dataset_folder, \"images\")\n",
    "labels_folder = os.path.join(dataset_folder, \"labels\")\n",
    "\n",
    "# Define the class IDs you want to isolate\n",
    "target_class_ids = [0]\n",
    "\n",
    "# Create a new folder to store the isolated images and labels\n",
    "output_images_folder = \"one_class_data/images\"\n",
    "output_labels_folder = \"one_class_data/label\"\n",
    "os.makedirs(output_images_folder, exist_ok=True)\n",
    "os.makedirs(output_labels_folder, exist_ok=True)\n",
    "count = 0\n",
    "# Iterate through each label file in the labels folder\n",
    "for label_file in os.listdir(labels_folder):\n",
    "    label_path = os.path.join(labels_folder, label_file)\n",
    "    \n",
    "    # Open the label file and read its contents\n",
    "    with open(label_path, 'r') as f:\n",
    "        lines = f.readlines()\n",
    "    \n",
    "    # Filter lines based on the class IDs\n",
    "    filtered_lines = [line.strip().split(' ') for line in lines if int(line.strip().split(' ')[0]) in target_class_ids]\n",
    "    \n",
    "    # If there are any lines for the target class IDs, copy the corresponding image and label file\n",
    "    if filtered_lines:\n",
    "        count += 1\n",
    "        image_file = label_file.replace('.txt', '.jpg')  # Assuming image file extensions are jpg\n",
    "        image_path = os.path.join(images_folder, image_file)\n",
    "        \n",
    "        # Copy the image file to the output folder\n",
    "        shutil.copy(image_path, output_images_folder)\n",
    "        \n",
    "        # Write the modified label lines to a new label file in the output folder\n",
    "        output_label_path = os.path.join(output_labels_folder, label_file)\n",
    "        with open(output_label_path, 'w') as f:\n",
    "            for line in filtered_lines:\n",
    "                f.write(' '.join(line) + '\\n')\n",
    "print(f\"Total number of images with target classes: {count}\")"
   ]
  }
 ],
 "metadata": {
  "kernelspec": {
   "display_name": ".venv",
   "language": "python",
   "name": "python3"
  },
  "language_info": {
   "codemirror_mode": {
    "name": "ipython",
    "version": 3
   },
   "file_extension": ".py",
   "mimetype": "text/x-python",
   "name": "python",
   "nbconvert_exporter": "python",
   "pygments_lexer": "ipython3",
   "version": "3.11.8"
  }
 },
 "nbformat": 4,
 "nbformat_minor": 2
}
