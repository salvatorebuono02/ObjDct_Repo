{
 "cells": [
  {
   "cell_type": "code",
   "execution_count": 1,
   "metadata": {},
   "outputs": [
    {
     "name": "stdout",
     "output_type": "stream",
     "text": [
      "Files have been successfully moved to the respective subfolders.\n"
     ]
    }
   ],
   "source": [
    "import os\n",
    "import shutil\n",
    "\n",
    "# Define the path to your dataset folder\n",
    "dataset_folder = 'SAR-Ship-Dataset/ship_dataset_v0'\n",
    "images_folder = os.path.join(dataset_folder, 'images')\n",
    "labels_folder = os.path.join(dataset_folder, 'labels')\n",
    "\n",
    "# Create the subfolders if they don't exist\n",
    "os.makedirs(images_folder, exist_ok=True)\n",
    "os.makedirs(labels_folder, exist_ok=True)\n",
    "\n",
    "# List all files in the dataset folder\n",
    "all_files = os.listdir(dataset_folder)\n",
    "\n",
    "# Split the files into images and labels\n",
    "for file_name in all_files:\n",
    "    if file_name.endswith('.jpg'):\n",
    "        shutil.move(os.path.join(dataset_folder, file_name), os.path.join(images_folder, file_name))\n",
    "    elif file_name.endswith('.txt'):\n",
    "        shutil.move(os.path.join(dataset_folder, file_name), os.path.join(labels_folder, file_name))\n",
    "\n",
    "print('Files have been successfully moved to the respective subfolders.')\n"
   ]
  }
 ],
 "metadata": {
  "kernelspec": {
   "display_name": ".venv",
   "language": "python",
   "name": "python3"
  },
  "language_info": {
   "codemirror_mode": {
    "name": "ipython",
    "version": 3
   },
   "file_extension": ".py",
   "mimetype": "text/x-python",
   "name": "python",
   "nbconvert_exporter": "python",
   "pygments_lexer": "ipython3",
   "version": "3.11.8"
  }
 },
 "nbformat": 4,
 "nbformat_minor": 2
}
