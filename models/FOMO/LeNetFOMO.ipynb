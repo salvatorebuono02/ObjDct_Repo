{
 "cells": [
  {
   "cell_type": "code",
   "execution_count": 1,
   "metadata": {},
   "outputs": [
    {
     "name": "stderr",
     "output_type": "stream",
     "text": [
      "/home/buono/ObjDct_Repo/.venv/lib/python3.12/site-packages/tqdm/auto.py:21: TqdmWarning: IProgress not found. Please update jupyter and ipywidgets. See https://ipywidgets.readthedocs.io/en/stable/user_install.html\n",
      "  from .autonotebook import tqdm as notebook_tqdm\n"
     ]
    }
   ],
   "source": [
    "import os\n",
    "import shutil\n",
    "import numpy as np\n",
    "from tqdm.auto import tqdm\n",
    "from collections import Counter\n",
    "import matplotlib.pyplot as plt\n",
    "import matplotlib.patches as patches\n",
    "# import cv2\n",
    "import torch\n",
    "import torch.nn as nn\n",
    "from torch.utils.data import DataLoader\n",
    "import torchvision.transforms as transforms\n",
    "from PIL import Image\n",
    "import torch.optim as optim\n",
    "from torchinfo import summary\n"
   ]
  },
  {
   "cell_type": "markdown",
   "metadata": {},
   "source": [
    "# Implement YOLO architecture"
   ]
  },
  {
   "cell_type": "code",
   "execution_count": 2,
   "metadata": {},
   "outputs": [
    {
     "data": {
      "text/plain": [
       "==========================================================================================\n",
       "Layer (type:depth-idx)                   Output Shape              Param #\n",
       "==========================================================================================\n",
       "TinyissimoYOLO                           [1, 112]                  --\n",
       "├─Sequential: 1-1                        [1, 4, 21, 21]            --\n",
       "│    └─Conv2d: 2-1                       [1, 4, 42, 42]            104\n",
       "│    └─LinearActivation: 2-2             [1, 4, 42, 42]            --\n",
       "│    └─AvgPool2d: 2-3                    [1, 4, 21, 21]            --\n",
       "├─Sequential: 1-2                        [1, 12, 4, 4]             --\n",
       "│    └─Conv2d: 2-4                       [1, 12, 9, 9]             1,212\n",
       "│    └─LinearActivation: 2-5             [1, 12, 9, 9]             --\n",
       "│    └─AvgPool2d: 2-6                    [1, 12, 4, 4]             --\n",
       "├─Sequential: 1-3                        [1, 112]                  --\n",
       "│    └─Flatten: 2-7                      [1, 192]                  --\n",
       "│    └─Linear: 2-8                       [1, 256]                  49,408\n",
       "│    └─LinearActivation: 2-9             [1, 256]                  --\n",
       "│    └─Linear: 2-10                      [1, 112]                  28,784\n",
       "==========================================================================================\n",
       "Total params: 79,508\n",
       "Trainable params: 79,508\n",
       "Non-trainable params: 0\n",
       "Total mult-adds (Units.MEGABYTES): 0.36\n",
       "==========================================================================================\n",
       "Input size (MB): 0.03\n",
       "Forward/backward pass size (MB): 0.07\n",
       "Params size (MB): 0.32\n",
       "Estimated Total Size (MB): 0.42\n",
       "=========================================================================================="
      ]
     },
     "execution_count": 2,
     "metadata": {},
     "output_type": "execute_result"
    }
   ],
   "source": [
    "class LinearActivation(nn.Module):\n",
    "    def __init__(self):\n",
    "        super().__init__()\n",
    "\n",
    "    def forward(self, t):\n",
    "        return torch.pow(t, 1) + torch.pow(t,2)\n",
    "\n",
    "class TinyissimoYOLO(nn.Module):\n",
    "    def __init__(self, B=2, num_classes=1, S=4):\n",
    "        super(TinyissimoYOLO, self).__init__()\n",
    "\n",
    "        self.layer1 = nn.Sequential(\n",
    "            nn.Conv2d(1, 4, kernel_size=5, stride=2),\n",
    "            LinearActivation(),\n",
    "            nn.AvgPool2d(kernel_size=2, stride=2)\n",
    "        )\n",
    "\n",
    "        self.layer2 = nn.Sequential(\n",
    "            nn.Conv2d(4, 12, kernel_size=5, stride=2),\n",
    "            LinearActivation(),\n",
    "            nn.AvgPool2d(kernel_size=2, stride=2)\n",
    "        )\n",
    "\n",
    "        self.fclayers = nn.Sequential(\n",
    "            nn.Flatten(),\n",
    "            nn.Linear(12*4*4, 256),\n",
    "            LinearActivation(),\n",
    "            nn.Linear(256, S*S*(num_classes + 3 * B)),\n",
    "        )\n",
    "\n",
    "\n",
    "    def forward(self, x):\n",
    "        x = self.layer1(x)\n",
    "        x = self.layer2(x)\n",
    "        # print(x.shape)\n",
    "        x = self.fclayers(x)\n",
    "\n",
    "        return x\n",
    "\n",
    "\n",
    "model = TinyissimoYOLO()\n",
    "\n",
    "summary(model, input_size=(1, 1, 88, 88))"
   ]
  },
  {
   "cell_type": "markdown",
   "metadata": {},
   "source": [
    "# Utility Functions"
   ]
  },
  {
   "cell_type": "markdown",
   "metadata": {},
   "source": [
    "## Euclidean Distance between centers"
   ]
  },
  {
   "cell_type": "code",
   "execution_count": 3,
   "metadata": {},
   "outputs": [],
   "source": [
    "def euclidean_distance(center_preds, center_labels):\n",
    "    \"\"\"\n",
    "    Calculate euclidean distance\n",
    "    Parameters:\n",
    "        center_preds: predictions of centers (BATCH_SIZE, 2)\n",
    "        center_labels: target of centers of shape (BATCH_SIZE, 2)\n",
    "    Returns:\n",
    "        distance: euclidean distance for all examples\n",
    "    \"\"\"\n",
    "\n",
    "    x1 = center_preds[..., 0:1]\n",
    "    y1 = center_preds[..., 1:2]\n",
    "    x2 = center_labels[..., 0:1]\n",
    "    y2 = center_labels[..., 1:2]\n",
    "\n",
    "    distance = torch.sqrt((x2 - x1)**2 + (y2 - y1)**2)\n",
    "\n",
    "    return distance"
   ]
  },
  {
   "cell_type": "markdown",
   "metadata": {},
   "source": [
    "## mAP"
   ]
  },
  {
   "cell_type": "code",
   "execution_count": 4,
   "metadata": {},
   "outputs": [],
   "source": [
    "def is_center_inside_bbox(center, bbox):\n",
    "    \"\"\"\n",
    "    Check if a center (x, y) is inside a bounding box (x, y, w, h).\n",
    "    Parameters:\n",
    "        center (tuple): The (x, y) coordinates of the center.\n",
    "        bbox (tuple): The (x, y, w, h) coordinates of the bounding box.\n",
    "    Returns:\n",
    "        bool: True if the center is inside the bounding box, False otherwise.\n",
    "    \"\"\"\n",
    "    center_x, center_y = center\n",
    "    bbox_x, bbox_y, bbox_w, bbox_h = bbox\n",
    "\n",
    "    bbox_x_min = bbox_x - bbox_w / 2\n",
    "    bbox_x_max = bbox_x + bbox_w / 2\n",
    "    bbox_y_min = bbox_y - bbox_h / 2\n",
    "    bbox_y_max = bbox_y + bbox_h / 2\n",
    "\n",
    "    return bbox_x_min <= center_x <= bbox_x_max and bbox_y_min <= center_y <= bbox_y_max\n",
    "\n",
    "\n",
    "def mean_average_precision(\n",
    "    pred_boxes, true_boxes, num_classes=1\n",
    "):\n",
    "    \"\"\"\n",
    "    Calculates mean average precision\n",
    "    Parameters:\n",
    "        pred_boxes (list): list of lists containing all bboxes with each bbox\n",
    "        specified as [train_idx, class_prediction, prob_score, x_center, y_center]\n",
    "        true_boxes (list): Similar as pred_boxes except all the correct ones\n",
    "        specified as [train_idx, class_label, x, y, w, h]\n",
    "        num_classes (int): number of classes\n",
    "    Returns:\n",
    "        float: mAP value across all classes\n",
    "    \"\"\"\n",
    "    average_precisions = []\n",
    "    epsilon = 1e-6\n",
    "\n",
    "    for c in range(num_classes):\n",
    "        detections = []\n",
    "        ground_truths = []\n",
    "\n",
    "        for detection in pred_boxes:\n",
    "            if detection[1] == c:\n",
    "                detections.append(detection)\n",
    "\n",
    "        for true_box in true_boxes:\n",
    "            if true_box[1] == c:\n",
    "                ground_truths.append(true_box)\n",
    "\n",
    "        amount_bboxes = Counter([gt[0] for gt in ground_truths])\n",
    "\n",
    "        for key, val in amount_bboxes.items():\n",
    "            amount_bboxes[key] = torch.zeros(val)\n",
    "\n",
    "        detections.sort(key=lambda x: x[2], reverse=True)\n",
    "        TP = torch.zeros((len(detections)))\n",
    "        FP = torch.zeros((len(detections)))\n",
    "        total_true_bboxes = len(ground_truths)\n",
    "\n",
    "        if total_true_bboxes == 0:\n",
    "            continue\n",
    "\n",
    "        for detection_idx, detection in enumerate(detections):\n",
    "            ground_truth_img = [\n",
    "                bbox for bbox in ground_truths if bbox[0] == detection[0]\n",
    "            ]\n",
    "\n",
    "            best_match = False\n",
    "\n",
    "            for idx, gt in enumerate(ground_truth_img):\n",
    "                if is_center_inside_bbox(detection[3:5], gt[2:]):\n",
    "                    best_match = True\n",
    "                    best_gt_idx = idx\n",
    "                    break\n",
    "\n",
    "            if best_match:\n",
    "                if amount_bboxes[detection[0]][best_gt_idx] == 0:\n",
    "                    TP[detection_idx] = 1\n",
    "                    amount_bboxes[detection[0]][best_gt_idx] = 1\n",
    "                else:\n",
    "                    FP[detection_idx] = 1\n",
    "            else:\n",
    "                FP[detection_idx] = 1\n",
    "\n",
    "        TP_cumsum = torch.cumsum(TP, dim=0)\n",
    "        FP_cumsum = torch.cumsum(FP, dim=0)\n",
    "        recalls = TP_cumsum / (total_true_bboxes + epsilon)\n",
    "        precisions = torch.divide(TP_cumsum, (TP_cumsum + FP_cumsum + epsilon))\n",
    "        precisions = torch.cat((torch.tensor([1]), precisions))\n",
    "        recalls = torch.cat((torch.tensor([0]), recalls))\n",
    "        average_precisions.append(torch.trapz(precisions, recalls))\n",
    "\n",
    "    return sum(average_precisions) / len(average_precisions)\n",
    "\n"
   ]
  },
  {
   "cell_type": "markdown",
   "metadata": {},
   "source": [
    "## NMS"
   ]
  },
  {
   "cell_type": "code",
   "execution_count": 5,
   "metadata": {},
   "outputs": [],
   "source": [
    "def non_max_suppression(centers):\n",
    "\n",
    "    assert type(centers) == list\n",
    "    # centers = [center for center in centers if center[1]> threshold]\n",
    "    centers = sorted(centers, key=lambda x: x[1], reverse=True)\n",
    "    centers_after_nms = []\n",
    "\n",
    "    while centers:\n",
    "        current_center = centers.pop(0)\n",
    "        centers_after_nms.append(current_center)\n",
    "        break\n",
    "\n",
    "    return centers_after_nms\n"
   ]
  },
  {
   "cell_type": "markdown",
   "metadata": {},
   "source": [
    "## Get and convert centers"
   ]
  },
  {
   "cell_type": "code",
   "execution_count": 6,
   "metadata": {},
   "outputs": [],
   "source": [
    "def get_bboxes(\n",
    "    loader,\n",
    "    model,\n",
    "    device,\n",
    "):\n",
    "    all_pred_centers = []\n",
    "    all_true_centers = []\n",
    "    all_true_boxes = []\n",
    "\n",
    "    # make sure model is in eval before get bboxes\n",
    "    model.eval()\n",
    "    train_idx = 0\n",
    "\n",
    "    for batch_idx, (x, labels, boxes_list) in enumerate(loader):\n",
    "        x = x.to(device)\n",
    "        labels = labels.to(device)\n",
    "\n",
    "        with torch.no_grad():\n",
    "            predictions = model(x)\n",
    "\n",
    "\n",
    "        batch_size = x.shape[0]\n",
    "        true_centers = cellcenters_to_centers(labels) # type: ignore\n",
    "        pred_centers = cellcenters_to_centers(predictions) # type: ignore\n",
    "\n",
    "\n",
    "\n",
    "        for idx in range(batch_size):\n",
    "\n",
    "            boxes = boxes_list[idx].to(device)\n",
    "\n",
    "            nms_centers= non_max_suppression(\n",
    "                pred_centers[idx]\n",
    "            )\n",
    "\n",
    "            for center in nms_centers:\n",
    "                all_pred_centers.append([train_idx] + center)\n",
    "\n",
    "            # for center in pred_centers[idx]:\n",
    "            #     if center[1] > 0:\n",
    "            #         all_pred_centers.append([train_idx] + center)\n",
    "\n",
    "            for center in true_centers[idx]:\n",
    "                if center[1] > 0:\n",
    "                    all_true_centers.append([train_idx] + center)\n",
    "\n",
    "            for box in boxes:\n",
    "                all_true_boxes.append([train_idx] + box.tolist())\n",
    "\n",
    "            train_idx += 1\n",
    "\n",
    "    model.train()\n",
    "    return all_pred_centers, all_true_centers, all_true_boxes\n",
    "\n",
    "\n",
    "def convert_cellcenters(predictions, S=4, C=1):\n",
    "    \"\"\"\n",
    "    Converts predictions from the model to centers\n",
    "    \"\"\"\n",
    "    predictions = predictions.to(\"cpu\")\n",
    "    batch_size = predictions.shape[0]\n",
    "    predictions = predictions.reshape(batch_size, S, S, C + 6)\n",
    "\n",
    "    centers1 = predictions[..., C + 1:C + 3]\n",
    "    centers2 = predictions[..., C + 4:C + 6]\n",
    "\n",
    "    scores = torch.cat(\n",
    "        (predictions[..., C].unsqueeze(0), predictions[..., C + 3].unsqueeze(0)), dim=0\n",
    "    )\n",
    "    best_center = scores.argmax(0).unsqueeze(-1)\n",
    "\n",
    "    best_centers = centers1 * (1 - best_center) + best_center * centers2\n",
    "\n",
    "    # This results in a tensor with shape (batch_size, 7, 7, 1) where each element represents the index of a grid cell.\n",
    "    cell_indices = torch.arange(S).repeat(batch_size, S, 1).unsqueeze(-1)\n",
    "    x = 1 / S * (best_centers[..., :1] + cell_indices)\n",
    "    # Permute because is used here to swap these indices to match the (x, y) convention used in the best_boxes tensor.\n",
    "    # [0,1,2]->[0,0,0]\n",
    "    # [0,1,2]->[1,1,1]\n",
    "    # [0,1,2]->[2,2,2]\n",
    "    y = 1 / S * (best_centers[..., 1:2] + cell_indices.permute(0, 2, 1, 3))\n",
    "    converted_centers = torch.cat((x, y), dim=-1)\n",
    "    predicted_class = predictions[..., :C].argmax(-1).unsqueeze(-1)\n",
    "    best_confidence = torch.max(predictions[..., C], predictions[..., C + 3]).unsqueeze(\n",
    "        -1\n",
    "    )\n",
    "\n",
    "    converted_preds = torch.cat(\n",
    "        (predicted_class, best_confidence, converted_centers), dim=-1\n",
    "    )\n",
    "\n",
    "    return converted_preds\n",
    "\n",
    "def cellcenters_to_centers(out, S=4):\n",
    "    converted_pred = convert_cellcenters(out).reshape(out.shape[0], S * S, -1)\n",
    "    converted_pred[..., 0] = converted_pred[..., 0].long()\n",
    "    all_centers = []\n",
    "\n",
    "    for ex_idx in range(out.shape[0]):\n",
    "        centers = []\n",
    "        for center_idx in range(S * S):\n",
    "            centers.append([x.item() for x in converted_pred[ex_idx, center_idx, :]])\n",
    "        all_centers.append(centers)\n",
    "\n",
    "    return all_centers"
   ]
  },
  {
   "cell_type": "markdown",
   "metadata": {},
   "source": [
    "\n",
    "# Create Loader of Dataset"
   ]
  },
  {
   "cell_type": "code",
   "execution_count": 7,
   "metadata": {},
   "outputs": [],
   "source": [
    "class Compose(object):\n",
    "    def __init__(self, transforms):\n",
    "        self.transforms = transforms\n",
    "\n",
    "    def __call__(self, img, centers):\n",
    "        for t in self.transforms:\n",
    "            img, centers = t(img), centers\n",
    "\n",
    "        return img, centers\n",
    "\n",
    "\n",
    "transform = Compose([transforms.Resize((88, 88)), transforms.ToTensor()])"
   ]
  },
  {
   "cell_type": "code",
   "execution_count": 8,
   "metadata": {},
   "outputs": [],
   "source": [
    "class DiorDataset(torch.utils.data.Dataset):\n",
    "    def __init__(self, root_dir, S=4, B=2, C=1, transform=None, train=True):\n",
    "        self.root_dir = root_dir\n",
    "        self.transform = transform\n",
    "        self.S = S\n",
    "        self.B = B\n",
    "        self.C = C\n",
    "        self.train = train\n",
    "\n",
    "        # Determine the directory of the images and labels\n",
    "        if self.train:\n",
    "            self.img_dir = os.path.join(self.root_dir, 'images/train')\n",
    "            self.label_dir = os.path.join(self.root_dir, 'labels/train')\n",
    "        else:\n",
    "            self.img_dir = os.path.join(self.root_dir, 'images/test')\n",
    "            self.label_dir = os.path.join(self.root_dir, 'labels/test')\n",
    "\n",
    "        self.img_ids = os.listdir(self.img_dir)\n",
    "\n",
    "    def __len__(self):\n",
    "        return len(self.img_ids)\n",
    "\n",
    "    def __getitem__(self, index):\n",
    "        img_id = self.img_ids[index].split('.')[0]\n",
    "        centers = []\n",
    "        boxes = []\n",
    "        # Load image\n",
    "        img_path = os.path.join(self.img_dir, img_id + '.jpg')\n",
    "        image = Image.open(img_path)\n",
    "        image = image.convert(\"L\")\n",
    "\n",
    "        # Load labels\n",
    "        label_path = os.path.join(self.label_dir, img_id + '.txt')\n",
    "        with open(label_path, 'r') as f:\n",
    "            for line in f.readlines():\n",
    "                class_label, x, y, width, height = map(float, line.strip().split())\n",
    "                centers.append([class_label, x, y])\n",
    "                boxes.append([class_label, x, y, width, height])\n",
    "\n",
    "        if len(boxes) > 3:\n",
    "            boxes = boxes[:3]\n",
    "            centers = centers[:3]\n",
    "\n",
    "        boxes = torch.tensor(boxes)\n",
    "        centers = torch.tensor(centers)\n",
    "        if self.transform:\n",
    "            image, centers = self.transform(image, centers)\n",
    "        # Convert To Cells\n",
    "        label_matrix = torch.zeros((self.S, self.S, self.C + 3 * self.B))\n",
    "        for center in centers:\n",
    "            class_label, x, y = center\n",
    "            class_label = int(class_label)\n",
    "            i, j = int(self.S * y), int(self.S * x)\n",
    "            x_cell, y_cell = self.S * x - j, self.S * y - i\n",
    "\n",
    "            if label_matrix[i, j, self.C] == 0:\n",
    "                label_matrix[i, j, self.C] = 1\n",
    "\n",
    "                center_coordinates = torch.tensor(\n",
    "                    [x_cell, y_cell]\n",
    "                )\n",
    "\n",
    "                label_matrix[i, j, self.C + 1:self.C + 3] = center_coordinates\n",
    "                label_matrix[i, j, class_label] = 1\n",
    "\n",
    "        #print(f\"label_matrix shape: {label_matrix.shape}\")\n",
    "\n",
    "        return image, label_matrix , boxes"
   ]
  },
  {
   "cell_type": "markdown",
   "metadata": {},
   "source": [
    "# YOLO Loss"
   ]
  },
  {
   "cell_type": "code",
   "execution_count": 9,
   "metadata": {},
   "outputs": [],
   "source": [
    "class YoloLoss(nn.Module):\n",
    "    \"\"\"\n",
    "    Calculate the loss for yolo (v1) model\n",
    "    \"\"\"\n",
    "\n",
    "    def __init__(self, S=4, B=2, C=1):\n",
    "        super(YoloLoss, self).__init__()\n",
    "        self.mse = nn.MSELoss(reduction=\"sum\")\n",
    "\n",
    "        \"\"\"\n",
    "        S is split size of image (in paper 7),\n",
    "        B is number of boxes (in paper 2),\n",
    "        C is number of classes (in paper 20, in dataset 3),\n",
    "        \"\"\"\n",
    "        self.S = S\n",
    "        self.B = B\n",
    "        self.C = C\n",
    "\n",
    "        # These are from Yolo paper, signifying how much we should\n",
    "        # pay loss for no object (noobj) and the box coordinates (coord)\n",
    "        self.lambda_noobj = 0.5\n",
    "        self.lambda_coord = 5\n",
    "\n",
    "    def forward(self, predictions, target):\n",
    "        # predictions are shaped (BATCH_SIZE, S*S(C+B*3) when inputted\n",
    "        predictions = predictions.reshape(-1, self.S, self.S, self.C + self.B * 3)\n",
    "        # Calculate IoU for the two predicted bounding boxes with target bbox\n",
    "        iou_c1 = euclidean_distance(predictions[..., self.C + 1:self.C + 3], target[..., self.C + 1:self.C + 3])\n",
    "        iou_c2 = euclidean_distance(predictions[..., self.C + 4:self.C + 6], target[..., self.C + 1:self.C + 3])\n",
    "        ious = torch.cat([iou_c1.unsqueeze(0), iou_c2.unsqueeze(0)], dim=0)\n",
    "        # Take the box with highest IoU out of the two prediction\n",
    "        # Note that bestbox will be indices of 0, 1 for which bbox was best\n",
    "        iou_maxes, bestcenter = torch.max(ious, dim=0)\n",
    "        exists_center = target[..., self.C].unsqueeze(3)  # in paper this is Iobj_i\n",
    "\n",
    "        # ======================== #\n",
    "        #   FOR CENTER COORDINATES #\n",
    "        # ======================== #\n",
    "\n",
    "        # Set boxes with no object in them to 0. We only take out one of the two\n",
    "        # predictions, which is the one with highest Iou calculated previously.\n",
    "\n",
    "        center_predictions = exists_center * (\n",
    "            (\n",
    "                bestcenter * predictions[..., self.C + 4:self.C + 6]\n",
    "                + (1 - bestcenter) * predictions[..., self.C + 1:self.C + 3]\n",
    "            )\n",
    "        )\n",
    "        center_targets = exists_center * target[..., self.C + 1:self.C + 3]\n",
    "\n",
    "        center_loss = self.mse(\n",
    "            torch.flatten(center_predictions, end_dim=-2),\n",
    "            torch.flatten(center_targets, end_dim=-2),\n",
    "        )\n",
    "\n",
    "        # ==================== #\n",
    "        #   FOR OBJECT LOSS    #\n",
    "        # ==================== #\n",
    "\n",
    "        # pred_box is the confidence score for the bbox with highest IoU\n",
    "        pred_center = (\n",
    "            bestcenter * predictions[..., self.C + 3:self.C + 4] + (1 - bestcenter) * predictions[..., self.C:self.C + 1]\n",
    "        )\n",
    "\n",
    "        object_loss = self.mse(\n",
    "            torch.flatten(exists_center * pred_center),\n",
    "            torch.flatten(exists_center * target[..., self.C:self.C + 1]),\n",
    "        )\n",
    "\n",
    "        # ======================= #\n",
    "        #   FOR NO OBJECT LOSS    #\n",
    "        # ======================= #\n",
    "\n",
    "        no_object_loss = self.mse(\n",
    "            torch.flatten((1 - exists_center) * predictions[..., self.C:self.C + 1], start_dim=1),\n",
    "            torch.flatten((1 - exists_center) * target[..., self.C:self.C + 1], start_dim=1),\n",
    "        )\n",
    "\n",
    "        no_object_loss += self.mse(\n",
    "            torch.flatten((1 - exists_center) * predictions[..., self.C + 3:self.C + 4], start_dim=1),\n",
    "            torch.flatten((1 - exists_center) * target[..., self.C:self.C + 1], start_dim=1)\n",
    "        )\n",
    "\n",
    "        # ================== #\n",
    "        #   FOR CLASS LOSS   #\n",
    "        # ================== #\n",
    "\n",
    "        class_loss = self.mse(\n",
    "            torch.flatten(exists_center * predictions[..., :self.C], end_dim=-2,),\n",
    "            torch.flatten(exists_center * target[..., :self.C], end_dim=-2,),\n",
    "        )\n",
    "\n",
    "        loss = (\n",
    "            self.lambda_coord * center_loss  # first two rows in paper\n",
    "            + object_loss  # third row in paper\n",
    "            + self.lambda_noobj * no_object_loss  # forth row\n",
    "            + class_loss  # fifth row\n",
    "        )\n",
    "\n",
    "        return loss"
   ]
  },
  {
   "cell_type": "markdown",
   "metadata": {},
   "source": [
    "# Training"
   ]
  },
  {
   "cell_type": "code",
   "execution_count": 10,
   "metadata": {},
   "outputs": [
    {
     "name": "stdout",
     "output_type": "stream",
     "text": [
      "DEVICE:  cpu\n"
     ]
    }
   ],
   "source": [
    "LEARNING_RATE = 2e-5\n",
    "DEVICE = \"cuda\" if torch.cuda.is_available() else \"cpu\"\n",
    "print(\"DEVICE: \", DEVICE)\n",
    "BATCH_SIZE = 32 # 64 in original paper but resource exhausted error otherwise.\n",
    "WEIGHT_DECAY = 0\n",
    "EPOCHS = 25\n",
    "\n",
    "\n",
    "def train_fn(train_loader, model, optimizer, loss_fn):\n",
    "    loop = tqdm(train_loader, leave=True)\n",
    "    mean_loss = []\n",
    "\n",
    "    for batch_idx, (x, y,boxes) in enumerate(loop):\n",
    "        x = x.to(DEVICE)\n",
    "        y = y.to(DEVICE)\n",
    "        out = model(x)\n",
    "        loss = loss_fn(out, y)\n",
    "        mean_loss.append(loss.item())\n",
    "        optimizer.zero_grad()\n",
    "        loss.backward()\n",
    "        optimizer.step()\n",
    "\n",
    "        loop.set_postfix(loss = loss.item())\n",
    "\n",
    "    print(f\"Mean loss was {sum(mean_loss) / len(mean_loss)}\")"
   ]
  },
  {
   "cell_type": "code",
   "execution_count": 11,
   "metadata": {},
   "outputs": [],
   "source": [
    "def collate_fn(batch):\n",
    "    images = []\n",
    "    label_matrices = []\n",
    "    boxes_list = []\n",
    "    for item in batch:\n",
    "        images.append(item[0])\n",
    "        label_matrices.append(item[1])\n",
    "        boxes_list.append(item[2])\n",
    "    images = torch.stack(images)\n",
    "    label_matrices = torch.stack(label_matrices)\n",
    "    return images, label_matrices, boxes_list\n"
   ]
  },
  {
   "cell_type": "code",
   "execution_count": 12,
   "metadata": {},
   "outputs": [],
   "source": [
    "files_dir = '/home/buono/ObjDct_Repo/data/ShipDataset'\n",
    "loss_fn = YoloLoss()"
   ]
  },
  {
   "cell_type": "code",
   "execution_count": 13,
   "metadata": {},
   "outputs": [],
   "source": [
    "train_dataset = DiorDataset(\n",
    "    root_dir=files_dir,\n",
    "    transform=transform,\n",
    "    train=True\n",
    ")\n",
    "\n",
    "test_dataset = DiorDataset(\n",
    "    root_dir=files_dir,\n",
    "    transform=transform,\n",
    "    train=False\n",
    ")\n",
    "# Now you can create your DataLoaders\n",
    "train_loader = DataLoader(train_dataset, batch_size=BATCH_SIZE, shuffle=True, drop_last=False, collate_fn=collate_fn)\n",
    "test_loader = DataLoader(test_dataset, batch_size=BATCH_SIZE, shuffle=False, drop_last=False, collate_fn=collate_fn)"
   ]
  },
  {
   "cell_type": "code",
   "execution_count": null,
   "metadata": {},
   "outputs": [],
   "source": [
    "model = TinyissimoYOLO().to(DEVICE)\n",
    "optimizer = optim.Adam(\n",
    "    model.parameters(), lr=LEARNING_RATE, weight_decay=WEIGHT_DECAY\n",
    ")\n",
    "scheduler = optim.lr_scheduler.ReduceLROnPlateau(optimizer=optimizer, factor=0.1, patience=3, mode='max', verbose=True)\n",
    "for epoch in range(EPOCHS):\n",
    "    print(f\"Epoch {epoch + 1}/{EPOCHS}\")\n",
    "    train_fn(train_loader, model, optimizer, loss_fn)\n",
    "    # pred_boxes, target_boxes, real_boxes = get_bboxes(\n",
    "    #     train_loader, model, threshold=0.4, distance_threshold=0.1, device=DEVICE\n",
    "    # )\n",
    "    # mAP = mean_average_precision(pred_boxes, real_boxes)\n",
    "    # print(f\"mAP: {mAP}\")"
   ]
  },
  {
   "cell_type": "code",
   "execution_count": null,
   "metadata": {},
   "outputs": [],
   "source": [
    "torch.save(model.state_dict(), \"../../models/trained_models/LeNetYOLO.pth\")"
   ]
  },
  {
   "cell_type": "markdown",
   "metadata": {},
   "source": [
    "## Create other 2 models for ensemble"
   ]
  },
  {
   "cell_type": "code",
   "execution_count": null,
   "metadata": {},
   "outputs": [],
   "source": [
    "model_1 = TinyissimoYOLO().to(DEVICE)\n",
    "optimizer = optim.Adam(\n",
    "    model_1.parameters(), lr=LEARNING_RATE, weight_decay=WEIGHT_DECAY\n",
    ")\n",
    "scheduler = optim.lr_scheduler.ReduceLROnPlateau(optimizer=optimizer, factor=0.1, patience=3, mode='max', verbose=True)\n",
    "\n",
    "for epoch in range(EPOCHS):\n",
    "    print(f\"Epoch {epoch + 1}/{EPOCHS}\")\n",
    "    train_fn(train_loader, model_1, optimizer, loss_fn)\n",
    "    \n",
    "torch.save(model_1.state_dict(), \"../../models/trained_models/LeNetYOLO_1.pth\")"
   ]
  },
  {
   "cell_type": "code",
   "execution_count": null,
   "metadata": {},
   "outputs": [],
   "source": [
    "model_2 = TinyissimoYOLO().to(DEVICE)\n",
    "optimizer = optim.Adam(\n",
    "    model_2.parameters(), lr=LEARNING_RATE, weight_decay=WEIGHT_DECAY\n",
    ")\n",
    "scheduler = optim.lr_scheduler.ReduceLROnPlateau(optimizer=optimizer, factor=0.1, patience=3, mode='max', verbose=True)\n",
    "\n",
    "for epoch in range(EPOCHS):\n",
    "    print(f\"Epoch {epoch + 1}/{EPOCHS}\")\n",
    "    train_fn(train_loader, model_2, optimizer, loss_fn)\n",
    "    \n",
    "torch.save(model_2.state_dict(), \"../../models/trained_models/LeNetYOLO_2.pth\")"
   ]
  },
  {
   "cell_type": "markdown",
   "metadata": {},
   "source": [
    "# Ensemble"
   ]
  },
  {
   "cell_type": "markdown",
   "metadata": {},
   "source": [
    "## Load Models"
   ]
  },
  {
   "cell_type": "code",
   "execution_count": 14,
   "metadata": {},
   "outputs": [],
   "source": [
    "models = []\n",
    "model = TinyissimoYOLO()\n",
    "checkpoint = torch.load(\"../../models/trained_models/LeNetYOLO.pth\")\n",
    "model.load_state_dict(checkpoint)\n",
    "model.eval()\n",
    "models.append(model)\n",
    "\n",
    "model_1 = TinyissimoYOLO()\n",
    "checkpoint = torch.load(\"../../models/trained_models/LeNetYOLO_1.pth\")\n",
    "model_1.load_state_dict(checkpoint)\n",
    "model_1.eval()\n",
    "models.append(model_1)\n",
    "\n",
    "model_2 = TinyissimoYOLO()\n",
    "checkpoint = torch.load(\"../../models/trained_models/LeNetYOLO_2.pth\")\n",
    "model_2.load_state_dict(checkpoint)\n",
    "model_2.eval()\n",
    "models.append(model_2)\n"
   ]
  },
  {
   "cell_type": "markdown",
   "metadata": {},
   "source": [
    "## Create average predictions"
   ]
  },
  {
   "cell_type": "code",
   "execution_count": 15,
   "metadata": {},
   "outputs": [
    {
     "name": "stdout",
     "output_type": "stream",
     "text": [
      "mAP: 0.2573724091053009\n",
      "mAP: 0.33541443943977356\n",
      "mAP: 0.32933834195137024\n"
     ]
    }
   ],
   "source": [
    "pred_boxes_list = []\n",
    "with torch.no_grad():\n",
    "    pred_boxes_1, target_boxes, real_boxes_1 = get_bboxes(\n",
    "        test_loader, model, DEVICE\n",
    "    )\n",
    "    mAP = mean_average_precision(pred_boxes_1, real_boxes_1)\n",
    "    print(f\"mAP: {mAP}\")\n",
    "    pred_boxes_list.append(pred_boxes_1)\n",
    "\n",
    "    pred_boxes_2, target_boxes, real_boxes_2 = get_bboxes(\n",
    "        test_loader, model_1, DEVICE\n",
    "    )\n",
    "    mAP = mean_average_precision(pred_boxes_2, real_boxes_2)\n",
    "    print(f\"mAP: {mAP}\")\n",
    "    pred_boxes_list.append(pred_boxes_2)\n",
    "\n",
    "    pred_boxes_3, target_boxes, real_boxes_3 = get_bboxes(\n",
    "        test_loader, model_2, DEVICE\n",
    "    )\n",
    "    mAP = mean_average_precision(pred_boxes_3, real_boxes_3)\n",
    "    print(f\"mAP: {mAP}\")\n",
    "    pred_boxes_list.append(pred_boxes_3)\n"
   ]
  },
  {
   "cell_type": "code",
   "execution_count": 16,
   "metadata": {},
   "outputs": [
    {
     "data": {
      "text/plain": [
       "(3, 7946, 5)"
      ]
     },
     "execution_count": 16,
     "metadata": {},
     "output_type": "execute_result"
    }
   ],
   "source": [
    "pred_boxes_list = np.array(pred_boxes_list)\n",
    "pred_boxes_list.shape"
   ]
  },
  {
   "cell_type": "code",
   "execution_count": 17,
   "metadata": {},
   "outputs": [
    {
     "name": "stdout",
     "output_type": "stream",
     "text": [
      "(7946, 5)\n"
     ]
    }
   ],
   "source": [
    "def ensemble_center_predictions(predictions):\n",
    "    \"\"\"\n",
    "    Ensemble predictions from multiple models by averaging center coordinates and confidence scores.\n",
    "\n",
    "    Parameters:\n",
    "        predictions (numpy.ndarray): Array of shape (num_models, num_predictions, 5) containing\n",
    "                                     the predictions from each model. Each prediction is in the\n",
    "                                     format [predicted_class, best_confidence, x_center, y_center].\n",
    "        \n",
    "    Returns:\n",
    "        numpy.ndarray: Array of ensemble predictions.\n",
    "    \"\"\"\n",
    "    def average_predictions(predictions):\n",
    "        # Average center coordinates and confidence scores\n",
    "        class_ids = predictions[:, 0]\n",
    "        avg_confidences = np.mean(predictions[:, 1], axis=0)\n",
    "        avg_centers = np.mean(predictions[:, 2:], axis=0)\n",
    "        \n",
    "        return np.array([class_ids[0], avg_confidences, *avg_centers])\n",
    "    \n",
    "    all_predictions = []\n",
    "    \n",
    "    for i in range(predictions.shape[1]):  # Iterate over each prediction index\n",
    "        single_prediction = predictions[:, i, :]\n",
    "        ensembled_prediction = average_predictions(single_prediction)\n",
    "        all_predictions.append(ensembled_prediction)\n",
    "    \n",
    "    return np.array(all_predictions)\n",
    "\n",
    "# Example usage\n",
    "predictions = np.random.rand(2, 7946, 5)  # Example array with predictions\n",
    "ensembled_predictions = ensemble_center_predictions(predictions)\n",
    "print(ensembled_predictions.shape)\n"
   ]
  },
  {
   "cell_type": "code",
   "execution_count": 18,
   "metadata": {},
   "outputs": [
    {
     "name": "stdout",
     "output_type": "stream",
     "text": [
      "mAP: 0.32880884408950806\n"
     ]
    }
   ],
   "source": [
    "ensembled_predictions = ensemble_center_predictions(pred_boxes_list)\n",
    "mAP = mean_average_precision(ensembled_predictions, real_boxes_1)\n",
    "print(f\"mAP: {mAP}\")"
   ]
  },
  {
   "cell_type": "code",
   "execution_count": 19,
   "metadata": {},
   "outputs": [],
   "source": [
    "real_boxes_1 = np.array(real_boxes_1)\n",
    "real_boxes_2 = np.array(real_boxes_2)\n",
    "real_boxes_3 = np.array(real_boxes_3)\n"
   ]
  },
  {
   "cell_type": "markdown",
   "metadata": {},
   "source": [
    "# Testing"
   ]
  },
  {
   "cell_type": "code",
   "execution_count": null,
   "metadata": {},
   "outputs": [],
   "source": [
    "checkpoint = torch.load(\"../../models/trained_models/LeNetYOLO.pth\")\n",
    "# Load the state dictionary from the .pth file\n",
    "\n",
    "# Load the state dictionary into the model\n",
    "model.load_state_dict(checkpoint)\n",
    "\n",
    "# Ensure the model is in evaluation mode\n",
    "model.eval()\n",
    "\n",
    "\n",
    "with torch.no_grad():\n",
    "    pred_boxes, target_boxes, real_boxes = get_bboxes(\n",
    "        test_loader, model, DEVICE\n",
    "    )\n",
    "    mAP = mean_average_precision(pred_boxes, real_boxes)\n",
    "    print(f\"mAP: {mAP}\")\n"
   ]
  },
  {
   "cell_type": "code",
   "execution_count": null,
   "metadata": {},
   "outputs": [],
   "source": [
    "pred_boxes[:5]"
   ]
  },
  {
   "cell_type": "markdown",
   "metadata": {},
   "source": [
    "## Plot test results and statistics"
   ]
  },
  {
   "cell_type": "code",
   "execution_count": null,
   "metadata": {},
   "outputs": [],
   "source": [
    "def plot_centers(idx, pred_centers, target_centers):\n",
    "    values = test_dataset[idx]\n",
    "    image = values[0]\n",
    "    image = image.permute(1, 2, 0).to(\"cpu\")\n",
    "\n",
    "    image = np.array(image)\n",
    "    height, width, _ = image.shape\n",
    "    p_centers = []\n",
    "    t_centers = []\n",
    "    for center in pred_centers:\n",
    "        if center[0] == idx:\n",
    "            p_centers.append(center[1:])\n",
    "\n",
    "    for center in target_centers:\n",
    "        if center[0] == idx:\n",
    "            t_centers.append(center[1:])\n",
    "\n",
    "\n",
    "    fig, ax = plt.subplots()\n",
    "    ax.imshow(image)\n",
    "    for center in p_centers:\n",
    "        rect = patches.Rectangle(\n",
    "            (center[2] * width , center[3] * height),\n",
    "            1,\n",
    "            1,\n",
    "            linewidth=5,\n",
    "            edgecolor=\"r\",\n",
    "            facecolor=\"none\",\n",
    "        )\n",
    "        ax.add_patch(rect)\n",
    "    # Create a Rectangle patch\n",
    "    for boxes in t_centers:\n",
    "        class_label = int(boxes[0])\n",
    "        box = boxes[1:]\n",
    "        assert len(box) == 4, \"Got more values than in x, y, w, h, in a box!\"\n",
    "        upper_left_x = box[0] - box[2] / 2\n",
    "        upper_left_y = box[1] - box[3] / 2\n",
    "        rect = patches.Rectangle(\n",
    "            (upper_left_x * width, upper_left_y * height),\n",
    "            box[2] * width,\n",
    "            box[3] * height,\n",
    "            linewidth=1,\n",
    "            edgecolor=\"r\",\n",
    "            facecolor=\"none\",\n",
    "        )\n",
    "        # Add the patch to the Axes\n",
    "        ax.add_patch(rect)\n",
    "\n",
    "        # Add class label text\n",
    "        ax.text(upper_left_x * width, upper_left_y * height, str(class_label), color='r', fontsize=10, verticalalignment='bottom')\n",
    "\n",
    "\n",
    "    plt.show()\n",
    "\n",
    "plot_centers(4, ensembled_predictions, real_boxes)"
   ]
  },
  {
   "cell_type": "code",
   "execution_count": 24,
   "metadata": {},
   "outputs": [
    {
     "data": {
      "text/plain": [
       "([<matplotlib.axis.XTick at 0x720342f4bad0>,\n",
       "  <matplotlib.axis.XTick at 0x720342f49430>,\n",
       "  <matplotlib.axis.XTick at 0x720342f49910>,\n",
       "  <matplotlib.axis.XTick at 0x72034251e4b0>,\n",
       "  <matplotlib.axis.XTick at 0x72034258fce0>],\n",
       " [Text(0.0, 0, 'Very Small'),\n",
       "  Text(0.1, 0, 'Small'),\n",
       "  Text(0.15, 0, 'Medium'),\n",
       "  Text(0.2, 0, 'Large'),\n",
       "  Text(0.25, 0, 'Very Large')])"
      ]
     },
     "execution_count": 24,
     "metadata": {},
     "output_type": "execute_result"
    },
    {
     "data": {
      "image/png": "[encoded data removed]",
      "text/plain": [
       "<Figure size 1200x600 with 1 Axes>"
      ]
     },
     "metadata": {},
     "output_type": "display_data"
    }
   ],
   "source": [
    "bounding_boxes = np.array(real_boxes_1)[:,2:]\n",
    "bounding_boxes\n",
    "\n",
    "areas = np.sqrt([width * height for (x_center, y_center, width, height) in bounding_boxes])\n",
    "\n",
    "# Raggruppamento delle bounding box per dimensione\n",
    "bins = [0, 0.1, 0.15, 0.2, 0.25]\n",
    "labels = ['Very Small', 'Small', 'Medium', 'Large', 'Very Large']\n",
    "box_sizes = np.digitize(areas, bins=bins, right=True)\n",
    "\n",
    "# Creazione dell'istogramma delle dimensioni delle bounding box\n",
    "plt.figure(figsize=(12, 6))\n",
    "plt.subplot(1, 2, 1)\n",
    "plt.hist(areas, bins=bins, edgecolor='black')\n",
    "plt.title('Histogram of Bounding Box Sizes')\n",
    "plt.xlabel('Bounding Box Area')\n",
    "plt.ylabel('Frequency')\n",
    "plt.xticks(ticks=bins, labels=labels, rotation=45)\n"
   ]
  },
  {
   "cell_type": "markdown",
   "metadata": {},
   "source": [
    "## Ensemble Distances"
   ]
  },
  {
   "cell_type": "code",
   "execution_count": 25,
   "metadata": {},
   "outputs": [
    {
     "data": {
      "image/png": "[encoded data removed]",
      "text/plain": [
       "<Figure size 640x480 with 1 Axes>"
      ]
     },
     "metadata": {},
     "output_type": "display_data"
    }
   ],
   "source": [
    "# Calcolo delle distanze minime\n",
    "distances = []\n",
    "\n",
    "#for (idx_p,_,_, x_p, y_p), (idx_b,_, x_center, y_center, width, height) in zip(pred_boxes, real_boxes):\n",
    "for idx_p, _ ,_ ,x_p, y_p in ensembled_predictions:\n",
    "  for idx_b,_, x_center, y_center, width, height in real_boxes_1:\n",
    "    if idx_p == idx_b:\n",
    "      x_left = x_center - width / 2\n",
    "      x_right = x_center + width / 2\n",
    "      y_top = y_center - height / 2\n",
    "      y_bottom = y_center + height / 2\n",
    "\n",
    "      dist_left = abs(x_p - x_left) if x_p < x_left else float('inf')\n",
    "      dist_right = abs(x_p - x_right) if x_p > x_right else float('inf')\n",
    "      dist_top = abs(y_p - y_top) if y_p < y_top else float('inf')\n",
    "      dist_bottom = abs(y_p - y_bottom) if y_p > y_bottom else float('inf')\n",
    "\n",
    "      # Se il punto è all'interno della bounding box, la distanza è zero\n",
    "      if x_left <= x_p <= x_right and y_top <= y_p <= y_bottom:\n",
    "          min_distance = 0\n",
    "      else:\n",
    "          min_distance = min(dist_left, dist_right, dist_top, dist_bottom)\n",
    "\n",
    "      distances.append(min_distance)\n",
    "\n",
    "plt.hist(distances, edgecolor='black')\n",
    "plt.xlabel('Distance')\n",
    "plt.ylabel('Frequency')\n",
    "plt.title('Histogram of Distances Over Bounding Boxes')\n",
    "plt.show()\n"
   ]
  },
  {
   "cell_type": "code",
   "execution_count": 26,
   "metadata": {},
   "outputs": [
    {
     "data": {
      "image/png": "[encoded data removed]",
      "text/plain": [
       "<Figure size 640x480 with 1 Axes>"
      ]
     },
     "metadata": {},
     "output_type": "display_data"
    }
   ],
   "source": [
    "# Calcolo della distanza media per ciascun gruppo di dimensioni\n",
    "distance_means = []\n",
    "for i in range(len(bins) - 1):\n",
    "    group_distances = [dist for dist, size in zip(distances, box_sizes) if size == i + 1]\n",
    "    if group_distances:\n",
    "        distance_means.append(np.mean(group_distances))\n",
    "    else:\n",
    "        distance_means.append(0)\n",
    "\n",
    "labels = ['Very Small', 'Small', 'Medium', 'Large']\n",
    "# Creazione del grafico delle distanze medie per categoria di dimensione\n",
    "plt.subplot(1, 2, 2)\n",
    "plt.bar(labels, distance_means, color='orange', edgecolor='black')\n",
    "plt.title('Average Distance by Bounding Box Size')\n",
    "plt.xlabel('Bounding Box Size Category')\n",
    "plt.ylabel('Average Distance')\n",
    "\n",
    "plt.tight_layout()\n",
    "plt.show()"
   ]
  },
  {
   "cell_type": "markdown",
   "metadata": {},
   "source": [
    "# 3 networks"
   ]
  },
  {
   "cell_type": "code",
   "execution_count": 27,
   "metadata": {},
   "outputs": [
    {
     "data": {
      "image/png": "[encoded data removed]",
      "text/plain": [
       "<Figure size 640x480 with 1 Axes>"
      ]
     },
     "metadata": {},
     "output_type": "display_data"
    }
   ],
   "source": [
    "# Calcolo delle distanze minime\n",
    "distances_1 = []\n",
    "\n",
    "#for (idx_p,_,_, x_p, y_p), (idx_b,_, x_center, y_center, width, height) in zip(pred_boxes, real_boxes):\n",
    "for idx_p, _ ,_ ,x_p, y_p in pred_boxes_1:\n",
    "  for idx_b,_, x_center, y_center, width, height in real_boxes_1:\n",
    "    if idx_p == idx_b:\n",
    "      x_left = x_center - width / 2\n",
    "      x_right = x_center + width / 2\n",
    "      y_top = y_center - height / 2\n",
    "      y_bottom = y_center + height / 2\n",
    "\n",
    "      dist_left = abs(x_p - x_left) if x_p < x_left else float('inf')\n",
    "      dist_right = abs(x_p - x_right) if x_p > x_right else float('inf')\n",
    "      dist_top = abs(y_p - y_top) if y_p < y_top else float('inf')\n",
    "      dist_bottom = abs(y_p - y_bottom) if y_p > y_bottom else float('inf')\n",
    "\n",
    "      # Se il punto è all'interno della bounding box, la distanza è zero\n",
    "      if x_left <= x_p <= x_right and y_top <= y_p <= y_bottom:\n",
    "          min_distance = 0\n",
    "      else:\n",
    "          min_distance = min(dist_left, dist_right, dist_top, dist_bottom)\n",
    "\n",
    "      distances_1.append(min_distance)\n",
    "\n",
    "plt.hist(distances_1, edgecolor='black')\n",
    "plt.xlabel('Distance')\n",
    "plt.ylabel('Frequency')\n",
    "plt.title('Histogram of Distances Over Bounding Boxes')\n",
    "plt.show()\n"
   ]
  },
  {
   "cell_type": "code",
   "execution_count": 28,
   "metadata": {},
   "outputs": [
    {
     "data": {
      "image/png": "[encoded data removed]",
      "text/plain": [
       "<Figure size 640x480 with 1 Axes>"
      ]
     },
     "metadata": {},
     "output_type": "display_data"
    }
   ],
   "source": [
    "# Calcolo delle distanze minime\n",
    "distances_2 = []\n",
    "\n",
    "#for (idx_p,_,_, x_p, y_p), (idx_b,_, x_center, y_center, width, height) in zip(pred_boxes, real_boxes):\n",
    "for idx_p, _ ,_ ,x_p, y_p in pred_boxes_2:\n",
    "  for idx_b,_, x_center, y_center, width, height in real_boxes_2:\n",
    "    if idx_p == idx_b:\n",
    "      x_left = x_center - width / 2\n",
    "      x_right = x_center + width / 2\n",
    "      y_top = y_center - height / 2\n",
    "      y_bottom = y_center + height / 2\n",
    "\n",
    "      dist_left = abs(x_p - x_left) if x_p < x_left else float('inf')\n",
    "      dist_right = abs(x_p - x_right) if x_p > x_right else float('inf')\n",
    "      dist_top = abs(y_p - y_top) if y_p < y_top else float('inf')\n",
    "      dist_bottom = abs(y_p - y_bottom) if y_p > y_bottom else float('inf')\n",
    "\n",
    "      # Se il punto è all'interno della bounding box, la distanza è zero\n",
    "      if x_left <= x_p <= x_right and y_top <= y_p <= y_bottom:\n",
    "          min_distance = 0\n",
    "      else:\n",
    "          min_distance = min(dist_left, dist_right, dist_top, dist_bottom)\n",
    "\n",
    "      distances_2.append(min_distance)\n",
    "\n",
    "plt.hist(distances_2, edgecolor='black')\n",
    "plt.xlabel('Distance')\n",
    "plt.ylabel('Frequency')\n",
    "plt.title('Histogram of Distances Over Bounding Boxes')\n",
    "plt.show()"
   ]
  },
  {
   "cell_type": "code",
   "execution_count": 29,
   "metadata": {},
   "outputs": [
    {
     "data": {
      "image/png": "[encoded data removed]",
      "text/plain": [
       "<Figure size 640x480 with 1 Axes>"
      ]
     },
     "metadata": {},
     "output_type": "display_data"
    }
   ],
   "source": [
    "# Calcolo delle distanze minime\n",
    "distances_3 = []\n",
    "\n",
    "#for (idx_p,_,_, x_p, y_p), (idx_b,_, x_center, y_center, width, height) in zip(pred_boxes, real_boxes):\n",
    "for idx_p, _ ,_ ,x_p, y_p in pred_boxes_3:\n",
    "  for idx_b,_, x_center, y_center, width, height in real_boxes_3:\n",
    "    if idx_p == idx_b:\n",
    "      x_left = x_center - width / 2\n",
    "      x_right = x_center + width / 2\n",
    "      y_top = y_center - height / 2\n",
    "      y_bottom = y_center + height / 2\n",
    "\n",
    "      dist_left = abs(x_p - x_left) if x_p < x_left else float('inf')\n",
    "      dist_right = abs(x_p - x_right) if x_p > x_right else float('inf')\n",
    "      dist_top = abs(y_p - y_top) if y_p < y_top else float('inf')\n",
    "      dist_bottom = abs(y_p - y_bottom) if y_p > y_bottom else float('inf')\n",
    "\n",
    "      # Se il punto è all'interno della bounding box, la distanza è zero\n",
    "      if x_left <= x_p <= x_right and y_top <= y_p <= y_bottom:\n",
    "          min_distance = 0\n",
    "      else:\n",
    "          min_distance = min(dist_left, dist_right, dist_top, dist_bottom)\n",
    "\n",
    "      distances_3.append(min_distance)\n",
    "\n",
    "plt.hist(distances_3, edgecolor='black')\n",
    "plt.xlabel('Distance')\n",
    "plt.ylabel('Frequency')\n",
    "plt.title('Histogram of Distances Over Bounding Boxes')\n",
    "plt.show()"
   ]
  },
  {
   "cell_type": "code",
   "execution_count": 30,
   "metadata": {},
   "outputs": [],
   "source": [
    "# Calcolo della distanza media per ciascun gruppo di dimensioni\n",
    "distance_means = []\n",
    "for i in range(len(bins) - 1):\n",
    "    group_distances = [dist for dist, size in zip(distances, box_sizes) if size == i + 1]\n",
    "    if group_distances:\n",
    "        distance_means.append(np.mean(group_distances))\n",
    "    else:\n",
    "        distance_means.append(0)"
   ]
  },
  {
   "cell_type": "code",
   "execution_count": 31,
   "metadata": {},
   "outputs": [],
   "source": [
    "# Calcolo della distanza media per ciascun gruppo di dimensioni\n",
    "distance_means_1 = []\n",
    "for i in range(len(bins) - 1):\n",
    "    group_distances = [dist for dist, size in zip(distances_1, box_sizes) if size == i + 1]\n",
    "    if group_distances:\n",
    "        distance_means_1.append(np.mean(group_distances))\n",
    "    else:\n",
    "        distance_means_1.append(0)"
   ]
  },
  {
   "cell_type": "code",
   "execution_count": 32,
   "metadata": {},
   "outputs": [],
   "source": [
    "# Calcolo della distanza media per ciascun gruppo di dimensioni\n",
    "distance_means_2 = []\n",
    "for i in range(len(bins) - 1):\n",
    "    group_distances = [dist for dist, size in zip(distances_2, box_sizes) if size == i + 1]\n",
    "    if group_distances:\n",
    "        distance_means_2.append(np.mean(group_distances))\n",
    "    else:\n",
    "        distance_means_2.append(0)"
   ]
  },
  {
   "cell_type": "code",
   "execution_count": 33,
   "metadata": {},
   "outputs": [],
   "source": [
    "# Calcolo della distanza media per ciascun gruppo di dimensioni\n",
    "distance_means_3 = []\n",
    "for i in range(len(bins) - 1):\n",
    "    group_distances = [dist for dist, size in zip(distances_3, box_sizes) if size == i + 1]\n",
    "    if group_distances:\n",
    "        distance_means_3.append(np.mean(group_distances))\n",
    "    else:\n",
    "        distance_means_3.append(0)"
   ]
  },
  {
   "cell_type": "code",
   "execution_count": 34,
   "metadata": {},
   "outputs": [
    {
     "data": {
      "image/png": "[encoded data removed]",
      "text/plain": [
       "<Figure size 640x480 with 1 Axes>"
      ]
     },
     "metadata": {},
     "output_type": "display_data"
    }
   ],
   "source": [
    "# Creiamo una lista di etichette per le categorie di dimensioni\n",
    "labels = ['Very Small', 'Small', 'Medium', 'Large']\n",
    "\n",
    "# Configuriamo il numero di gruppi e il numero di barre per gruppo\n",
    "x = np.arange(len(labels))\n",
    "width = 0.2  # Larghezza delle barre\n",
    "\n",
    "fig, ax = plt.subplots()\n",
    "\n",
    "# Aggiungiamo le barre per ogni set di distance_means\n",
    "rects1 = ax.bar(x - 1.5 * width, distance_means_1, width, label='1st Model', color='red')\n",
    "rects2 = ax.bar(x - 0.5 * width, distance_means_2, width, label='2nd Model', color='blue')\n",
    "rects3 = ax.bar(x + 0.5 * width, distance_means_3, width, label='3rd Model', color='pink')\n",
    "rects4 = ax.bar(x + 1.5 * width, distance_means, width, label='Ensemble', color='purple')\n",
    "\n",
    "# Aggiungiamo le etichette, il titolo e la legenda\n",
    "ax.set_xlabel('Bounding Box Size Category')\n",
    "ax.set_ylabel('Average Distance')\n",
    "ax.set_title('Average Distance by Bounding Box Size')\n",
    "ax.set_xticks(x)\n",
    "ax.set_xticklabels(labels)\n",
    "ax.legend()\n",
    "\n",
    "# Aggiungiamo una disposizione più compatta\n",
    "fig.tight_layout()\n",
    "\n",
    "plt.show()"
   ]
  }
 ],
 "metadata": {
  "kernelspec": {
   "display_name": ".venv",
   "language": "python",
   "name": "python3"
  },
  "language_info": {
   "codemirror_mode": {
    "name": "ipython",
    "version": 3
   },
   "file_extension": ".py",
   "mimetype": "text/x-python",
   "name": "python",
   "nbconvert_exporter": "python",
   "pygments_lexer": "ipython3",
   "version": "3.12.3"
  }
 },
 "nbformat": 4,
 "nbformat_minor": 2
}
