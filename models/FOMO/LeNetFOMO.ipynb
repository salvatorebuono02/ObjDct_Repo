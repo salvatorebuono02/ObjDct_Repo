{
 "cells": [
  {
   "cell_type": "code",
   "execution_count": 1,
   "metadata": {},
   "outputs": [
    {
     "name": "stderr",
     "output_type": "stream",
     "text": [
      "/home/buono/ObjDct_Repo/venv/lib/python3.10/site-packages/tqdm/auto.py:21: TqdmWarning: IProgress not found. Please update jupyter and ipywidgets. See https://ipywidgets.readthedocs.io/en/stable/user_install.html\n",
      "  from .autonotebook import tqdm as notebook_tqdm\n"
     ]
    }
   ],
   "source": [
    "import os\n",
    "import numpy as np\n",
    "from tqdm.auto import tqdm\n",
    "from collections import Counter\n",
    "import matplotlib.pyplot as plt\n",
    "import matplotlib.patches as patches\n",
    "# import cv2\n",
    "import torch\n",
    "import torch.nn as nn\n",
    "import torch.onnx\n",
    "from torch.utils.data import DataLoader\n",
    "import torchvision.transforms as transforms\n",
    "from PIL import Image\n",
    "import torch.optim as optim\n",
    "from torchinfo import summary\n",
    "\n",
    "import lightning as L\n",
    "from lightning.pytorch.callbacks.early_stopping import EarlyStopping\n",
    "from lightning.pytorch.callbacks import ModelCheckpoint\n",
    "from lightning.pytorch.callbacks import LearningRateMonitor"
   ]
  },
  {
   "cell_type": "code",
   "execution_count": 2,
   "metadata": {},
   "outputs": [
    {
     "name": "stdout",
     "output_type": "stream",
     "text": [
      "DEVICE:  cpu\n"
     ]
    }
   ],
   "source": [
    "LEARNING_RATE = 2e-5\n",
    "DEVICE = \"cuda\" if torch.cuda.is_available() else \"cpu\"\n",
    "print(\"DEVICE: \", DEVICE)\n",
    "BATCH_SIZE = 32 # 64 in original paper but resource exhausted error otherwise.\n",
    "WEIGHT_DECAY = 0\n",
    "EPOCHS = 25"
   ]
  },
  {
   "cell_type": "markdown",
   "metadata": {},
   "source": [
    "# Utility Functions"
   ]
  },
  {
   "cell_type": "markdown",
   "metadata": {},
   "source": [
    "## Euclidean Distance between centers"
   ]
  },
  {
   "cell_type": "code",
   "execution_count": 3,
   "metadata": {},
   "outputs": [],
   "source": [
    "def euclidean_distance(center_preds, center_labels):\n",
    "    \"\"\"\n",
    "    Calculate euclidean distance\n",
    "    Parameters:\n",
    "        center_preds: predictions of centers (BATCH_SIZE, 2)\n",
    "        center_labels: target of centers of shape (BATCH_SIZE, 2)\n",
    "    Returns:\n",
    "        distance: euclidean distance for all examples\n",
    "    \"\"\"\n",
    "\n",
    "    x1 = center_preds[..., 0:1]\n",
    "    y1 = center_preds[..., 1:2]\n",
    "    x2 = center_labels[..., 0:1]\n",
    "    y2 = center_labels[..., 1:2]\n",
    "\n",
    "    distance = torch.sqrt((x2 - x1)**2 + (y2 - y1)**2)\n",
    "\n",
    "    return distance"
   ]
  },
  {
   "cell_type": "markdown",
   "metadata": {},
   "source": [
    "## mAP"
   ]
  },
  {
   "cell_type": "code",
   "execution_count": 4,
   "metadata": {},
   "outputs": [],
   "source": [
    "def is_center_inside_bbox(center, bbox):\n",
    "    \"\"\"\n",
    "    Check if a center (x, y) is inside a bounding box (x, y, w, h).\n",
    "    Parameters:\n",
    "        center (tuple): The (x, y) coordinates of the center.\n",
    "        bbox (tuple): The (x, y, w, h) coordinates of the bounding box.\n",
    "    Returns:\n",
    "        bool: True if the center is inside the bounding box, False otherwise.\n",
    "    \"\"\"\n",
    "    center_x, center_y = center\n",
    "    bbox_x, bbox_y, bbox_w, bbox_h = bbox\n",
    "\n",
    "    bbox_x_min = bbox_x - bbox_w / 2\n",
    "    bbox_x_max = bbox_x + bbox_w / 2\n",
    "    bbox_y_min = bbox_y - bbox_h / 2\n",
    "    bbox_y_max = bbox_y + bbox_h / 2\n",
    "\n",
    "    return bbox_x_min <= center_x <= bbox_x_max and bbox_y_min <= center_y <= bbox_y_max\n",
    "\n",
    "\n",
    "def mean_average_precision(\n",
    "    pred_boxes, true_boxes, num_classes=1\n",
    "):\n",
    "    \"\"\"\n",
    "    Calculates mean average precision\n",
    "    Parameters:\n",
    "        pred_boxes (list): list of lists containing all bboxes with each bbox\n",
    "        specified as [train_idx, class_prediction, prob_score, x_center, y_center]\n",
    "        true_boxes (list): Similar as pred_boxes except all the correct ones\n",
    "        specified as [train_idx, class_label, x, y, w, h]\n",
    "        num_classes (int): number of classes\n",
    "    Returns:\n",
    "        float: mAP value across all classes\n",
    "    \"\"\"\n",
    "    average_precisions = []\n",
    "    epsilon = 1e-6\n",
    "\n",
    "    for c in range(num_classes):\n",
    "        detections = []\n",
    "        ground_truths = []\n",
    "\n",
    "        for detection in pred_boxes:\n",
    "            if detection[1] == c:\n",
    "                detections.append(detection)\n",
    "\n",
    "        for true_box in true_boxes:\n",
    "            if true_box[1] == c:\n",
    "                ground_truths.append(true_box)\n",
    "\n",
    "        amount_bboxes = Counter([gt[0] for gt in ground_truths])\n",
    "\n",
    "        for key, val in amount_bboxes.items():\n",
    "            amount_bboxes[key] = torch.zeros(val)\n",
    "\n",
    "        detections.sort(key=lambda x: x[2], reverse=True)\n",
    "        TP = torch.zeros((len(detections)))\n",
    "        FP = torch.zeros((len(detections)))\n",
    "        total_true_bboxes = len(ground_truths)\n",
    "\n",
    "        if total_true_bboxes == 0:\n",
    "            continue\n",
    "\n",
    "        for detection_idx, detection in enumerate(detections):\n",
    "            ground_truth_img = [\n",
    "                bbox for bbox in ground_truths if bbox[0] == detection[0]\n",
    "            ]\n",
    "\n",
    "            best_match = False\n",
    "\n",
    "            for idx, gt in enumerate(ground_truth_img):\n",
    "                if is_center_inside_bbox(detection[3:5], gt[2:]):\n",
    "                    best_match = True\n",
    "                    best_gt_idx = idx\n",
    "                    break\n",
    "\n",
    "            if best_match:\n",
    "                if amount_bboxes[detection[0]][best_gt_idx] == 0:\n",
    "                    TP[detection_idx] = 1\n",
    "                    amount_bboxes[detection[0]][best_gt_idx] = 1\n",
    "                else:\n",
    "                    FP[detection_idx] = 1\n",
    "            else:\n",
    "                FP[detection_idx] = 1\n",
    "\n",
    "        TP_cumsum = torch.cumsum(TP, dim=0)\n",
    "        FP_cumsum = torch.cumsum(FP, dim=0)\n",
    "        recalls = TP_cumsum / (total_true_bboxes + epsilon)\n",
    "        precisions = torch.divide(TP_cumsum, (TP_cumsum + FP_cumsum + epsilon))\n",
    "        precisions = torch.cat((torch.tensor([1]), precisions))\n",
    "        recalls = torch.cat((torch.tensor([0]), recalls))\n",
    "        average_precisions.append(torch.trapz(precisions, recalls))\n",
    "\n",
    "    return sum(average_precisions) / len(average_precisions)\n",
    "\n"
   ]
  },
  {
   "cell_type": "markdown",
   "metadata": {},
   "source": [
    "## NMS"
   ]
  },
  {
   "cell_type": "code",
   "execution_count": 5,
   "metadata": {},
   "outputs": [],
   "source": [
    "def non_max_suppression(centers):\n",
    "\n",
    "    assert type(centers) == list\n",
    "    # centers = [center for center in centers if center[1]> threshold]\n",
    "    centers = sorted(centers, key=lambda x: x[1], reverse=True)\n",
    "    centers_after_nms = []\n",
    "\n",
    "    while centers:\n",
    "        current_center = centers.pop(0)\n",
    "        centers_after_nms.append(current_center)\n",
    "        break\n",
    "\n",
    "    return centers_after_nms\n"
   ]
  },
  {
   "cell_type": "markdown",
   "metadata": {},
   "source": [
    "## Get and convert centers"
   ]
  },
  {
   "cell_type": "code",
   "execution_count": 6,
   "metadata": {},
   "outputs": [],
   "source": [
    "def get_bboxes(\n",
    "    loader,\n",
    "    model,\n",
    "    device,\n",
    "):\n",
    "    all_pred_centers = []\n",
    "    all_true_centers = []\n",
    "    all_true_boxes = []\n",
    "\n",
    "    # make sure model is in eval before get bboxes\n",
    "    model.eval()\n",
    "    train_idx = 0\n",
    "\n",
    "    for batch_idx, (x, labels, boxes_list) in enumerate(loader):\n",
    "        x = x.to(device)\n",
    "        labels = labels.to(device)\n",
    "\n",
    "        with torch.no_grad():\n",
    "            predictions = model(x)\n",
    "\n",
    "\n",
    "        batch_size = x.shape[0]\n",
    "        true_centers = cellcenters_to_centers(labels) # type: ignore\n",
    "        pred_centers = cellcenters_to_centers(predictions) # type: ignore\n",
    "\n",
    "\n",
    "\n",
    "        for idx in range(batch_size):\n",
    "\n",
    "            boxes = boxes_list[idx].to(device)\n",
    "\n",
    "            nms_centers= non_max_suppression(\n",
    "                pred_centers[idx]\n",
    "            )\n",
    "\n",
    "            for center in nms_centers:\n",
    "                all_pred_centers.append([train_idx] + center)\n",
    "\n",
    "            # for center in pred_centers[idx]:\n",
    "            #     if center[1] > 0:\n",
    "            #         all_pred_centers.append([train_idx] + center)\n",
    "\n",
    "            for center in true_centers[idx]:\n",
    "                if center[1] > 0:\n",
    "                    all_true_centers.append([train_idx] + center)\n",
    "\n",
    "            for box in boxes:\n",
    "                all_true_boxes.append([train_idx] + box.tolist())\n",
    "\n",
    "            train_idx += 1\n",
    "\n",
    "    model.train()\n",
    "    return all_pred_centers, all_true_centers, all_true_boxes\n",
    "\n",
    "\n",
    "def convert_cellcenters(predictions, S=4, C=1):\n",
    "    \"\"\"\n",
    "    Converts predictions from the model to centers\n",
    "    \"\"\"\n",
    "    predictions = predictions.to(\"cpu\")\n",
    "    batch_size = predictions.shape[0]\n",
    "    predictions = predictions.reshape(batch_size, S, S, C + 6)\n",
    "\n",
    "    centers1 = predictions[..., C + 1:C + 3]\n",
    "    centers2 = predictions[..., C + 4:C + 6]\n",
    "\n",
    "    scores = torch.cat(\n",
    "        (predictions[..., C].unsqueeze(0), predictions[..., C + 3].unsqueeze(0)), dim=0\n",
    "    )\n",
    "    best_center = scores.argmax(0).unsqueeze(-1)\n",
    "\n",
    "    best_centers = centers1 * (1 - best_center) + best_center * centers2\n",
    "\n",
    "    # This results in a tensor with shape (batch_size, 7, 7, 1) where each element represents the index of a grid cell.\n",
    "    cell_indices = torch.arange(S).repeat(batch_size, S, 1).unsqueeze(-1)\n",
    "    x = 1 / S * (best_centers[..., :1] + cell_indices)\n",
    "    # Permute because is used here to swap these indices to match the (x, y) convention used in the best_boxes tensor.\n",
    "    # [0,1,2]->[0,0,0]\n",
    "    # [0,1,2]->[1,1,1]\n",
    "    # [0,1,2]->[2,2,2]\n",
    "    y = 1 / S * (best_centers[..., 1:2] + cell_indices.permute(0, 2, 1, 3))\n",
    "    converted_centers = torch.cat((x, y), dim=-1)\n",
    "    predicted_class = predictions[..., :C].argmax(-1).unsqueeze(-1)\n",
    "    best_confidence = torch.max(predictions[..., C], predictions[..., C + 3]).unsqueeze(\n",
    "        -1\n",
    "    )\n",
    "\n",
    "    converted_preds = torch.cat(\n",
    "        (predicted_class, best_confidence, converted_centers), dim=-1\n",
    "    )\n",
    "\n",
    "    return converted_preds\n",
    "\n",
    "def cellcenters_to_centers(out, S=4):\n",
    "    converted_pred = convert_cellcenters(out).reshape(out.shape[0], S * S, -1)\n",
    "    converted_pred[..., 0] = converted_pred[..., 0].long()\n",
    "    all_centers = []\n",
    "\n",
    "    for ex_idx in range(out.shape[0]):\n",
    "        centers = []\n",
    "        for center_idx in range(S * S):\n",
    "            centers.append([x.item() for x in converted_pred[ex_idx, center_idx, :]])\n",
    "        all_centers.append(centers)\n",
    "\n",
    "    return all_centers"
   ]
  },
  {
   "cell_type": "markdown",
   "metadata": {},
   "source": [
    "# YOLO Loss"
   ]
  },
  {
   "cell_type": "code",
   "execution_count": 7,
   "metadata": {},
   "outputs": [],
   "source": [
    "class YoloLoss(nn.Module):\n",
    "    \"\"\"\n",
    "    Calculate the loss for yolo (v1) model\n",
    "    \"\"\"\n",
    "\n",
    "    def __init__(self, S=4, B=2, C=1):\n",
    "        super(YoloLoss, self).__init__()\n",
    "        self.mse = nn.MSELoss(reduction=\"sum\")\n",
    "\n",
    "        \"\"\"\n",
    "        S is split size of image (in paper 7),\n",
    "        B is number of boxes (in paper 2),\n",
    "        C is number of classes (in paper 20, in dataset 3),\n",
    "        \"\"\"\n",
    "        self.S = S\n",
    "        self.B = B\n",
    "        self.C = C\n",
    "\n",
    "        # These are from Yolo paper, signifying how much we should\n",
    "        # pay loss for no object (noobj) and the box coordinates (coord)\n",
    "        self.lambda_noobj = 0.5\n",
    "        self.lambda_coord = 5\n",
    "\n",
    "    def forward(self, predictions, target):\n",
    "        # predictions are shaped (BATCH_SIZE, S*S(C+B*3) when inputted\n",
    "        predictions = predictions.reshape(-1, self.S, self.S, self.C + self.B * 3)\n",
    "        # Calculate IoU for the two predicted bounding boxes with target bbox\n",
    "        iou_c1 = euclidean_distance(predictions[..., self.C + 1:self.C + 3], target[..., self.C + 1:self.C + 3])\n",
    "        iou_c2 = euclidean_distance(predictions[..., self.C + 4:self.C + 6], target[..., self.C + 1:self.C + 3])\n",
    "        ious = torch.cat([iou_c1.unsqueeze(0), iou_c2.unsqueeze(0)], dim=0)\n",
    "        # Take the box with highest IoU out of the two prediction\n",
    "        # Note that bestbox will be indices of 0, 1 for which bbox was best\n",
    "        iou_maxes, bestcenter = torch.max(ious, dim=0)\n",
    "        exists_center = target[..., self.C].unsqueeze(3)  # in paper this is Iobj_i\n",
    "\n",
    "        # ======================== #\n",
    "        #   FOR CENTER COORDINATES #\n",
    "        # ======================== #\n",
    "\n",
    "        # Set boxes with no object in them to 0. We only take out one of the two\n",
    "        # predictions, which is the one with highest Iou calculated previously.\n",
    "\n",
    "        center_predictions = exists_center * (\n",
    "            (\n",
    "                bestcenter * predictions[..., self.C + 4:self.C + 6]\n",
    "                + (1 - bestcenter) * predictions[..., self.C + 1:self.C + 3]\n",
    "            )\n",
    "        )\n",
    "        center_targets = exists_center * target[..., self.C + 1:self.C + 3]\n",
    "\n",
    "        center_loss = self.mse(\n",
    "            torch.flatten(center_predictions, end_dim=-2),\n",
    "            torch.flatten(center_targets, end_dim=-2),\n",
    "        )\n",
    "\n",
    "        # ==================== #\n",
    "        #   FOR OBJECT LOSS    #\n",
    "        # ==================== #\n",
    "\n",
    "        # pred_box is the confidence score for the bbox with highest IoU\n",
    "        pred_center = (\n",
    "            bestcenter * predictions[..., self.C + 3:self.C + 4] + (1 - bestcenter) * predictions[..., self.C:self.C + 1]\n",
    "        )\n",
    "\n",
    "        object_loss = self.mse(\n",
    "            torch.flatten(exists_center * pred_center),\n",
    "            torch.flatten(exists_center * target[..., self.C:self.C + 1]),\n",
    "        )\n",
    "\n",
    "        # ======================= #\n",
    "        #   FOR NO OBJECT LOSS    #\n",
    "        # ======================= #\n",
    "\n",
    "        no_object_loss = self.mse(\n",
    "            torch.flatten((1 - exists_center) * predictions[..., self.C:self.C + 1], start_dim=1),\n",
    "            torch.flatten((1 - exists_center) * target[..., self.C:self.C + 1], start_dim=1),\n",
    "        )\n",
    "\n",
    "        no_object_loss += self.mse(\n",
    "            torch.flatten((1 - exists_center) * predictions[..., self.C + 3:self.C + 4], start_dim=1),\n",
    "            torch.flatten((1 - exists_center) * target[..., self.C:self.C + 1], start_dim=1)\n",
    "        )\n",
    "\n",
    "        # ================== #\n",
    "        #   FOR CLASS LOSS   #\n",
    "        # ================== #\n",
    "\n",
    "        class_loss = self.mse(\n",
    "            torch.flatten(exists_center * predictions[..., :self.C], end_dim=-2,),\n",
    "            torch.flatten(exists_center * target[..., :self.C], end_dim=-2,),\n",
    "        )\n",
    "\n",
    "        loss = (\n",
    "            self.lambda_coord * center_loss  # first two rows in paper\n",
    "            + object_loss  # third row in paper\n",
    "            + self.lambda_noobj * no_object_loss  # forth row\n",
    "            + class_loss  # fifth row\n",
    "        )\n",
    "\n",
    "        return loss"
   ]
  },
  {
   "cell_type": "markdown",
   "metadata": {},
   "source": [
    "# Define Model"
   ]
  },
  {
   "cell_type": "code",
   "execution_count": 8,
   "metadata": {},
   "outputs": [
    {
     "data": {
      "text/plain": [
       "==========================================================================================\n",
       "Layer (type:depth-idx)                   Output Shape              Param #\n",
       "==========================================================================================\n",
       "TinyissimoYOLO                           [1, 112]                  --\n",
       "├─Sequential: 1-1                        [1, 4, 21, 21]            --\n",
       "│    └─Conv2d: 2-1                       [1, 4, 42, 42]            104\n",
       "│    └─LinearActivation: 2-2             [1, 4, 42, 42]            --\n",
       "│    └─AvgPool2d: 2-3                    [1, 4, 21, 21]            --\n",
       "├─Sequential: 1-2                        [1, 12, 4, 4]             --\n",
       "│    └─Conv2d: 2-4                       [1, 12, 9, 9]             1,212\n",
       "│    └─LinearActivation: 2-5             [1, 12, 9, 9]             --\n",
       "│    └─AvgPool2d: 2-6                    [1, 12, 4, 4]             --\n",
       "├─Sequential: 1-3                        [1, 112]                  --\n",
       "│    └─Flatten: 2-7                      [1, 192]                  --\n",
       "│    └─Linear: 2-8                       [1, 256]                  49,408\n",
       "│    └─LinearActivation: 2-9             [1, 256]                  --\n",
       "│    └─Linear: 2-10                      [1, 112]                  28,784\n",
       "==========================================================================================\n",
       "Total params: 79,508\n",
       "Trainable params: 79,508\n",
       "Non-trainable params: 0\n",
       "Total mult-adds (M): 0.36\n",
       "==========================================================================================\n",
       "Input size (MB): 0.03\n",
       "Forward/backward pass size (MB): 0.07\n",
       "Params size (MB): 0.32\n",
       "Estimated Total Size (MB): 0.42\n",
       "=========================================================================================="
      ]
     },
     "execution_count": 8,
     "metadata": {},
     "output_type": "execute_result"
    }
   ],
   "source": [
    "class LinearActivation(nn.Module):\n",
    "    def __init__(self):\n",
    "        super().__init__()\n",
    "\n",
    "    def forward(self, t):\n",
    "        return torch.pow(t, 1) + torch.pow(t,2)\n",
    "\n",
    "class TinyissimoYOLO(L.LightningModule):\n",
    "    def __init__(self, B=2, num_classes=1, S=4):\n",
    "        super().__init__()\n",
    "\n",
    "        self.loss_fn = YoloLoss()\n",
    "\n",
    "        self.layer1 = nn.Sequential(\n",
    "            nn.Conv2d(1, 4, kernel_size=5, stride=2),\n",
    "            LinearActivation(),\n",
    "            nn.AvgPool2d(kernel_size=2, stride=2)\n",
    "        )\n",
    "\n",
    "        self.layer2 = nn.Sequential(\n",
    "            nn.Conv2d(4, 12, kernel_size=5, stride=2),\n",
    "            LinearActivation(),\n",
    "            nn.AvgPool2d(kernel_size=2, stride=2)\n",
    "        )\n",
    "\n",
    "        self.fclayers = nn.Sequential(\n",
    "            nn.Flatten(),\n",
    "            nn.Linear(12*4*4, 256),\n",
    "            LinearActivation(),\n",
    "            nn.Linear(256, S*S*(num_classes + 3 * B)),\n",
    "        )\n",
    "\n",
    "\n",
    "    def forward(self, x):\n",
    "        x = self.layer1(x)\n",
    "        x = self.layer2(x)\n",
    "        # print(x.shape)\n",
    "        x = self.fclayers(x)\n",
    "\n",
    "        return x\n",
    "    \n",
    "    def training_step(self, batch, batch_idx):\n",
    "        x, y, boxes = batch\n",
    "        out = self(x)\n",
    "        loss = self.loss_fn(out, y)\n",
    "        self.log('train_loss', loss)\n",
    "        return loss\n",
    "    \n",
    "    \n",
    "    def validation_step(self, batch, batch_idx):\n",
    "        x, y, boxes = batch\n",
    "        out = self(x)\n",
    "        loss = self.loss_fn(out, y)\n",
    "        self.log('val_loss', loss)\n",
    "        return loss\n",
    "        \n",
    "\n",
    "    def configure_optimizers(self):\n",
    "        return torch.optim.Adam(self.parameters(), lr=LEARNING_RATE, weight_decay=WEIGHT_DECAY)\n",
    "\n",
    "\n",
    "model = TinyissimoYOLO()\n",
    "\n",
    "summary(model, input_size=(1, 1, 88, 88))"
   ]
  },
  {
   "cell_type": "markdown",
   "metadata": {},
   "source": [
    "\n",
    "# Create Loader of Dataset"
   ]
  },
  {
   "cell_type": "code",
   "execution_count": 9,
   "metadata": {},
   "outputs": [],
   "source": [
    "class Compose(object):\n",
    "    def __init__(self, transforms):\n",
    "        self.transforms = transforms\n",
    "\n",
    "    def __call__(self, img, centers):\n",
    "        for t in self.transforms:\n",
    "            img, centers = t(img), centers\n",
    "\n",
    "        return img, centers\n",
    "\n",
    "\n",
    "transform = Compose([transforms.Resize((88, 88)), transforms.ToTensor()])"
   ]
  },
  {
   "cell_type": "code",
   "execution_count": 10,
   "metadata": {},
   "outputs": [],
   "source": [
    "class DiorDataset(torch.utils.data.Dataset):\n",
    "    def __init__(self, root_dir, S=4, B=2, C=1, transform=None, train=True):\n",
    "        self.root_dir = root_dir\n",
    "        self.transform = transform\n",
    "        self.S = S\n",
    "        self.B = B\n",
    "        self.C = C\n",
    "        self.train = train\n",
    "\n",
    "        # Determine the directory of the images and labels\n",
    "        if self.train:\n",
    "            self.img_dir = os.path.join(self.root_dir, 'images/train')\n",
    "            self.label_dir = os.path.join(self.root_dir, 'labels/train')\n",
    "        else:\n",
    "            self.img_dir = os.path.join(self.root_dir, 'images/test')\n",
    "            self.label_dir = os.path.join(self.root_dir, 'labels/test')\n",
    "\n",
    "        self.img_ids = os.listdir(self.img_dir)\n",
    "\n",
    "    def __len__(self):\n",
    "        return len(self.img_ids)\n",
    "\n",
    "    def __getitem__(self, index):\n",
    "        img_id = self.img_ids[index].split('.')[0]\n",
    "        centers = []\n",
    "        boxes = []\n",
    "        # Load image\n",
    "        img_path = os.path.join(self.img_dir, img_id + '.jpg')\n",
    "        image = Image.open(img_path)\n",
    "        image = image.convert(\"L\")\n",
    "\n",
    "        # Load labels\n",
    "        label_path = os.path.join(self.label_dir, img_id + '.txt')\n",
    "        with open(label_path, 'r') as f:\n",
    "            for line in f.readlines():\n",
    "                class_label, x, y, width, height = map(float, line.strip().split())\n",
    "                centers.append([class_label, x, y])\n",
    "                boxes.append([class_label, x, y, width, height])\n",
    "\n",
    "        if len(boxes) > 3:\n",
    "            boxes = boxes[:3]\n",
    "            centers = centers[:3]\n",
    "\n",
    "        boxes = torch.tensor(boxes)\n",
    "        centers = torch.tensor(centers)\n",
    "        if self.transform:\n",
    "            image, centers = self.transform(image, centers)\n",
    "        # Convert To Cells\n",
    "        label_matrix = torch.zeros((self.S, self.S, self.C + 3 * self.B))\n",
    "        for center in centers:\n",
    "            class_label, x, y = center\n",
    "            class_label = int(class_label)\n",
    "            i, j = int(self.S * y), int(self.S * x)\n",
    "            x_cell, y_cell = self.S * x - j, self.S * y - i\n",
    "\n",
    "            if label_matrix[i, j, self.C] == 0:\n",
    "                label_matrix[i, j, self.C] = 1\n",
    "\n",
    "                center_coordinates = torch.tensor(\n",
    "                    [x_cell, y_cell]\n",
    "                )\n",
    "\n",
    "                label_matrix[i, j, self.C + 1:self.C + 3] = center_coordinates\n",
    "                label_matrix[i, j, class_label] = 1\n",
    "\n",
    "        #print(f\"label_matrix shape: {label_matrix.shape}\")\n",
    "\n",
    "        return image, label_matrix , boxes"
   ]
  },
  {
   "cell_type": "code",
   "execution_count": 11,
   "metadata": {},
   "outputs": [],
   "source": [
    "def collate_fn(batch):\n",
    "    images = []\n",
    "    label_matrices = []\n",
    "    boxes_list = []\n",
    "    for item in batch:\n",
    "        images.append(item[0])\n",
    "        label_matrices.append(item[1])\n",
    "        boxes_list.append(item[2])\n",
    "    images = torch.stack(images)\n",
    "    label_matrices = torch.stack(label_matrices)\n",
    "    return images, label_matrices, boxes_list\n"
   ]
  },
  {
   "cell_type": "code",
   "execution_count": 12,
   "metadata": {},
   "outputs": [],
   "source": [
    "files_dir = '/home/buono/ObjDct_Repo/data/ShipDataset'\n",
    "loss_fn = YoloLoss()"
   ]
  },
  {
   "cell_type": "code",
   "execution_count": 13,
   "metadata": {},
   "outputs": [],
   "source": [
    "from torch.utils.data import random_split\n",
    "\n",
    "train_dataset = DiorDataset(\n",
    "    root_dir=files_dir,\n",
    "    transform=transform,\n",
    "    train=True\n",
    ")\n",
    "\n",
    "\n",
    "# Define the length of the training set and validation set\n",
    "train_len = int(0.8 * len(train_dataset))\n",
    "val_len = len(train_dataset) - train_len\n",
    "\n",
    "# Split the dataset\n",
    "train_dataset, validation_dataset = random_split(train_dataset, [train_len, val_len])\n",
    "\n",
    "\n",
    "# Now you can create your DataLoaders\n",
    "train_loader = DataLoader(train_dataset, batch_size=BATCH_SIZE, shuffle=True, drop_last=False, collate_fn=collate_fn)\n",
    "val_loader = DataLoader(validation_dataset, batch_size=BATCH_SIZE, shuffle=False, drop_last=False, collate_fn=collate_fn)\n"
   ]
  },
  {
   "cell_type": "code",
   "execution_count": 14,
   "metadata": {},
   "outputs": [],
   "source": [
    "test_dataset = DiorDataset(\n",
    "    root_dir=files_dir,\n",
    "    transform=transform,\n",
    "    train=False\n",
    ")\n",
    "test_loader = DataLoader(test_dataset, batch_size=BATCH_SIZE, shuffle=False, drop_last=False, collate_fn=collate_fn)"
   ]
  },
  {
   "cell_type": "code",
   "execution_count": 15,
   "metadata": {},
   "outputs": [
    {
     "data": {
      "text/plain": [
       "(25426, 6357, 7946)"
      ]
     },
     "execution_count": 15,
     "metadata": {},
     "output_type": "execute_result"
    }
   ],
   "source": [
    "len(train_dataset), len(validation_dataset), len(test_dataset)"
   ]
  },
  {
   "cell_type": "markdown",
   "metadata": {},
   "source": [
    "# Training"
   ]
  },
  {
   "cell_type": "code",
   "execution_count": null,
   "metadata": {},
   "outputs": [],
   "source": [
    "model = TinyissimoYOLO()\n",
    "\n",
    "checkpoint_callback = ModelCheckpoint(save_top_k=1, \n",
    "                                      monitor=\"val_loss\", \n",
    "                                      mode=\"min\")\n",
    "lr_monitor_callback = LearningRateMonitor(logging_interval='epoch')\n",
    "\n",
    "trainer = L.Trainer(accelerator=DEVICE, \n",
    "                    callbacks=[checkpoint_callback, lr_monitor_callback], \n",
    "                    max_epochs=EPOCHS, \n",
    "                    enable_progress_bar=True, \n",
    "                    enable_model_summary=True)"
   ]
  },
  {
   "cell_type": "code",
   "execution_count": null,
   "metadata": {},
   "outputs": [],
   "source": [
    "os.makedirs(\"lightning_logs\", exist_ok=True)"
   ]
  },
  {
   "cell_type": "code",
   "execution_count": null,
   "metadata": {},
   "outputs": [],
   "source": [
    "trainer.fit(model=model, train_dataloaders=train_loader, val_dataloaders=val_loader)"
   ]
  },
  {
   "cell_type": "markdown",
   "metadata": {},
   "source": [
    "# Testing"
   ]
  },
  {
   "cell_type": "code",
   "execution_count": null,
   "metadata": {},
   "outputs": [],
   "source": [
    "model = TinyissimoYOLO.load_from_checkpoint(checkpoint_callback.best_model_path)\n",
    "model.eval()"
   ]
  },
  {
   "cell_type": "code",
   "execution_count": null,
   "metadata": {},
   "outputs": [],
   "source": [
    "with torch.no_grad():\n",
    "    pred_boxes, target_boxes, real_boxes = get_bboxes(\n",
    "        test_loader, model, DEVICE\n",
    "    )\n",
    "    mAP = mean_average_precision(pred_boxes, real_boxes)\n",
    "    print(f\"mAP: {mAP}\")"
   ]
  },
  {
   "cell_type": "code",
   "execution_count": null,
   "metadata": {},
   "outputs": [],
   "source": [
    "torch.save(model.state_dict(), \"../../models/trained_models/LeNetYOLO.pth\")"
   ]
  },
  {
   "cell_type": "markdown",
   "metadata": {},
   "source": [
    "## Create other 2 models for ensemble"
   ]
  },
  {
   "cell_type": "code",
   "execution_count": null,
   "metadata": {},
   "outputs": [],
   "source": [
    "model_1 = TinyissimoYOLO()\n",
    "trainer.fit(model=model_1, train_dataloaders=train_loader, val_dataloaders=val_loader)"
   ]
  },
  {
   "cell_type": "code",
   "execution_count": null,
   "metadata": {},
   "outputs": [],
   "source": [
    "model_1.eval()\n",
    "with torch.no_grad():\n",
    "    pred_boxes, target_boxes, real_boxes = get_bboxes(\n",
    "        test_loader, model_1, DEVICE\n",
    "    )\n",
    "    mAP = mean_average_precision(pred_boxes, real_boxes)\n",
    "    print(f\"mAP: {mAP}\")\n",
    "torch.save(model_1.state_dict(), \"../../models/trained_models/LeNetYOLO_1.pth\")"
   ]
  },
  {
   "cell_type": "code",
   "execution_count": null,
   "metadata": {},
   "outputs": [],
   "source": [
    "model_2 = TinyissimoYOLO()\n",
    "trainer.fit(model=model_2, train_dataloaders=train_loader, val_dataloaders=val_loader)"
   ]
  },
  {
   "cell_type": "code",
   "execution_count": null,
   "metadata": {},
   "outputs": [],
   "source": [
    "model_2.eval()\n",
    "with torch.no_grad():\n",
    "    pred_boxes, target_boxes, real_boxes = get_bboxes(\n",
    "        test_loader, model_2, DEVICE\n",
    "    )\n",
    "    mAP = mean_average_precision(pred_boxes, real_boxes)\n",
    "    print(f\"mAP: {mAP}\")\n",
    "torch.save(model_2.state_dict(), \"../../models/trained_models/LeNetYOLO_2.pth\")"
   ]
  },
  {
   "cell_type": "markdown",
   "metadata": {},
   "source": [
    "# Ensemble"
   ]
  },
  {
   "cell_type": "markdown",
   "metadata": {},
   "source": [
    "## Load Models"
   ]
  },
  {
   "cell_type": "code",
   "execution_count": 16,
   "metadata": {},
   "outputs": [],
   "source": [
    "models = []\n",
    "model = TinyissimoYOLO()\n",
    "checkpoint = torch.load(\"../../models/trained_models/LeNetYOLO.pth\")\n",
    "model.load_state_dict(checkpoint)\n",
    "model.eval()\n",
    "models.append(model)\n",
    "\n",
    "model_1 = TinyissimoYOLO()\n",
    "checkpoint = torch.load(\"../../models/trained_models/LeNetYOLO_1.pth\")\n",
    "model_1.load_state_dict(checkpoint)\n",
    "model_1.eval()\n",
    "models.append(model_1)\n",
    "\n",
    "model_2 = TinyissimoYOLO()\n",
    "checkpoint = torch.load(\"../../models/trained_models/LeNetYOLO_2.pth\")\n",
    "model_2.load_state_dict(checkpoint)\n",
    "model_2.eval()\n",
    "models.append(model_2)"
   ]
  },
  {
   "cell_type": "markdown",
   "metadata": {},
   "source": [
    "## Create average predictions"
   ]
  },
  {
   "cell_type": "code",
   "execution_count": 17,
   "metadata": {},
   "outputs": [
    {
     "name": "stdout",
     "output_type": "stream",
     "text": [
      "mAP: 0.22950465977191925\n",
      "mAP: 0.25170090794563293\n",
      "mAP: 0.3062932789325714\n"
     ]
    }
   ],
   "source": [
    "pred_boxes_list = []\n",
    "with torch.no_grad():\n",
    "    pred_boxes_1, target_boxes, real_boxes_1 = get_bboxes(\n",
    "        test_loader, model, DEVICE\n",
    "    )\n",
    "    mAP = mean_average_precision(pred_boxes_1, real_boxes_1)\n",
    "    print(f\"mAP: {mAP}\")\n",
    "    pred_boxes_list.append(pred_boxes_1)\n",
    "\n",
    "    pred_boxes_2, target_boxes, real_boxes_2 = get_bboxes(\n",
    "        test_loader, model_1, DEVICE\n",
    "    )\n",
    "    mAP = mean_average_precision(pred_boxes_2, real_boxes_2)\n",
    "    print(f\"mAP: {mAP}\")\n",
    "    pred_boxes_list.append(pred_boxes_2)\n",
    "\n",
    "    pred_boxes_3, target_boxes, real_boxes_3 = get_bboxes(\n",
    "        test_loader, model_2, DEVICE\n",
    "    )\n",
    "    mAP = mean_average_precision(pred_boxes_3, real_boxes_3)\n",
    "    print(f\"mAP: {mAP}\")\n",
    "    pred_boxes_list.append(pred_boxes_3)\n"
   ]
  },
  {
   "cell_type": "code",
   "execution_count": 18,
   "metadata": {},
   "outputs": [
    {
     "data": {
      "text/plain": [
       "(3, 7946, 5)"
      ]
     },
     "execution_count": 18,
     "metadata": {},
     "output_type": "execute_result"
    }
   ],
   "source": [
    "pred_boxes_list = np.array(pred_boxes_list)\n",
    "pred_boxes_list.shape"
   ]
  },
  {
   "cell_type": "code",
   "execution_count": 19,
   "metadata": {},
   "outputs": [
    {
     "name": "stdout",
     "output_type": "stream",
     "text": [
      "(7946, 5)\n"
     ]
    }
   ],
   "source": [
    "def ensemble_center_predictions_weighted(predictions):\n",
    "    \"\"\"\n",
    "    Ensemble predictions from multiple models by averaging center coordinates and confidence scores\n",
    "    with specific weights for each model.\n",
    "\n",
    "    Parameters:\n",
    "        predictions (numpy.ndarray): Array of shape (num_models, num_predictions, 5) containing\n",
    "                                     the predictions from each model. Each prediction is in the\n",
    "                                     format [predicted_class, best_confidence, x_center, y_center].\n",
    "        \n",
    "    Returns:\n",
    "        numpy.ndarray: Array of ensemble predictions with weights applied.\n",
    "    \"\"\"\n",
    "    # Define weights for each model\n",
    "    weights = np.array([0.325, 0.331, 0.343])\n",
    "    \n",
    "    def average_predictions_weighted(predictions):\n",
    "        # Apply weights to confidence scores and center coordinates\n",
    "        weighted_confidences = np.average(predictions[:, 1], axis=0, weights=weights)\n",
    "        weighted_centers = np.average(predictions[:, 2:], axis=0, weights=weights)\n",
    "        \n",
    "        # Assuming class_ids are the same for all models, take the class_id from the first model\n",
    "        class_id = predictions[0, 0]\n",
    "        \n",
    "        return np.array([class_id, weighted_confidences, *weighted_centers])\n",
    "    \n",
    "    all_predictions = []\n",
    "    \n",
    "    for i in range(predictions.shape[1]):  # Iterate over each prediction index\n",
    "        single_prediction = predictions[:, i, :]\n",
    "        ensembled_prediction = average_predictions_weighted(single_prediction)\n",
    "        all_predictions.append(ensembled_prediction)\n",
    "    \n",
    "    return np.array(all_predictions)\n",
    "\n",
    "# Example usage\n",
    "predictions = np.random.rand(3, 7946, 5)  # Example array with predictions\n",
    "ensembled_predictions = ensemble_center_predictions_weighted(predictions)\n",
    "print(ensembled_predictions.shape)\n"
   ]
  },
  {
   "cell_type": "code",
   "execution_count": 20,
   "metadata": {},
   "outputs": [
    {
     "name": "stdout",
     "output_type": "stream",
     "text": [
      "mAP: 0.2974923849105835\n"
     ]
    }
   ],
   "source": [
    "ensembled_predictions = ensemble_center_predictions_weighted(pred_boxes_list)\n",
    "mAP = mean_average_precision(ensembled_predictions, real_boxes_1)\n",
    "print(f\"mAP: {mAP}\")"
   ]
  },
  {
   "cell_type": "code",
   "execution_count": 21,
   "metadata": {},
   "outputs": [],
   "source": [
    "real_boxes_1 = np.array(real_boxes_1)\n",
    "real_boxes_2 = np.array(real_boxes_2)\n",
    "real_boxes_3 = np.array(real_boxes_3)\n"
   ]
  },
  {
   "cell_type": "code",
   "execution_count": 23,
   "metadata": {},
   "outputs": [
    {
     "name": "stdout",
     "output_type": "stream",
     "text": [
      "[[ 0.00000000e+00  0.00000000e+00 -9.51171875e-01 -4.29687500e-02\n",
      "  -6.64062500e-02 -5.46875000e-02]\n",
      " [ 0.00000000e+00  0.00000000e+00 -5.68359375e-01 -1.99218750e-01\n",
      "  -8.98437500e-02 -5.46875000e-02]\n",
      " [ 0.00000000e+00  0.00000000e+00 -7.46093750e-01 -2.36328125e-01\n",
      "  -1.01562500e-01 -6.64062500e-02]\n",
      " ...\n",
      " [-7.94400000e+03  0.00000000e+00 -3.82812500e-01 -4.66796875e-01\n",
      "  -7.03125000e-02 -1.36718750e-01]\n",
      " [-7.94400000e+03  0.00000000e+00 -4.70703125e-01 -4.70703125e-01\n",
      "  -6.64062500e-02 -1.21093750e-01]\n",
      " [-7.94500000e+03  0.00000000e+00 -8.55468750e-01 -1.19140625e-01\n",
      "  -7.81250000e-02 -8.98437500e-02]]\n"
     ]
    }
   ],
   "source": [
    "# Check se ci sono differenze tra i valori delle bounding boxes reali (caso in cui qualche modello fa delle prediction su un modello e un altro no)\n",
    "print(real_boxes_1 - real_boxes_2- real_boxes_3)"
   ]
  },
  {
   "cell_type": "markdown",
   "metadata": {},
   "source": [
    "## Plot test results and statistics"
   ]
  },
  {
   "cell_type": "code",
   "execution_count": null,
   "metadata": {},
   "outputs": [],
   "source": [
    "def plot_centers(idx, pred_centers, target_centers):\n",
    "    values = test_dataset[idx]\n",
    "    image = values[0]\n",
    "    image = image.permute(1, 2, 0).to(\"cpu\")\n",
    "\n",
    "    image = np.array(image)\n",
    "    height, width, _ = image.shape\n",
    "    p_centers = []\n",
    "    t_centers = []\n",
    "    for center in pred_centers:\n",
    "        if center[0] == idx:\n",
    "            p_centers.append(center[1:])\n",
    "\n",
    "    for center in target_centers:\n",
    "        if center[0] == idx:\n",
    "            t_centers.append(center[1:])\n",
    "\n",
    "\n",
    "    fig, ax = plt.subplots()\n",
    "    ax.imshow(image)\n",
    "    for center in p_centers:\n",
    "        rect = patches.Rectangle(\n",
    "            (center[2] * width , center[3] * height),\n",
    "            1,\n",
    "            1,\n",
    "            linewidth=5,\n",
    "            edgecolor=\"r\",\n",
    "            facecolor=\"none\",\n",
    "        )\n",
    "        ax.add_patch(rect)\n",
    "    # Create a Rectangle patch\n",
    "    for boxes in t_centers:\n",
    "        class_label = int(boxes[0])\n",
    "        box = boxes[1:]\n",
    "        assert len(box) == 4, \"Got more values than in x, y, w, h, in a box!\"\n",
    "        upper_left_x = box[0] - box[2] / 2\n",
    "        upper_left_y = box[1] - box[3] / 2\n",
    "        rect = patches.Rectangle(\n",
    "            (upper_left_x * width, upper_left_y * height),\n",
    "            box[2] * width,\n",
    "            box[3] * height,\n",
    "            linewidth=1,\n",
    "            edgecolor=\"r\",\n",
    "            facecolor=\"none\",\n",
    "        )\n",
    "        # Add the patch to the Axes\n",
    "        ax.add_patch(rect)\n",
    "\n",
    "        # Add class label text\n",
    "        ax.text(upper_left_x * width, upper_left_y * height, str(class_label), color='r', fontsize=10, verticalalignment='bottom')\n",
    "\n",
    "\n",
    "    plt.show()\n",
    "\n",
    "plot_centers(4, ensembled_predictions, real_boxes_1)"
   ]
  },
  {
   "cell_type": "code",
   "execution_count": 24,
   "metadata": {},
   "outputs": [],
   "source": [
    "bounding_boxes = np.array(real_boxes_1)[:,2:]\n",
    "bounding_boxes\n",
    "\n",
    "areas = np.sqrt([width * height for (x_center, y_center, width, height) in bounding_boxes])\n",
    "\n",
    "# Raggruppamento delle bounding box per dimensione\n",
    "bins = [0, 0.1, 0.15, 0.2, 0.25]\n",
    "labels = ['Very Small', 'Small', 'Medium', 'Large', 'Very Large']\n",
    "box_sizes = np.digitize(areas, bins=bins, right=True)\n",
    "\n",
    "# # Creazione dell'istogramma delle dimensioni delle bounding box\n",
    "# plt.figure(figsize=(12, 6))\n",
    "# plt.subplot(1, 2, 1)\n",
    "# plt.hist(areas, bins=bins, edgecolor='black')\n",
    "# plt.title('Histogram of Bounding Box Sizes')\n",
    "# plt.xlabel('Bounding Box Area')\n",
    "# plt.ylabel('Frequency')\n",
    "# plt.xticks(ticks=bins, labels=labels, rotation=45)\n"
   ]
  },
  {
   "cell_type": "markdown",
   "metadata": {},
   "source": [
    "## Ensemble Distances"
   ]
  },
  {
   "cell_type": "code",
   "execution_count": 25,
   "metadata": {},
   "outputs": [],
   "source": [
    "# Calcolo delle distanze minime\n",
    "distances = []\n",
    "\n",
    "#for (idx_p,_,_, x_p, y_p), (idx_b,_, x_center, y_center, width, height) in zip(pred_boxes, real_boxes):\n",
    "for idx_p, _ ,_ ,x_p, y_p in ensembled_predictions:\n",
    "  for idx_b,_, x_center, y_center, width, height in real_boxes_1:\n",
    "    if idx_p == idx_b:\n",
    "      x_left = x_center - width / 2\n",
    "      x_right = x_center + width / 2\n",
    "      y_top = y_center - height / 2\n",
    "      y_bottom = y_center + height / 2\n",
    "\n",
    "      dist_left = abs(x_p - x_left) if x_p < x_left else float('inf')\n",
    "      dist_right = abs(x_p - x_right) if x_p > x_right else float('inf')\n",
    "      dist_top = abs(y_p - y_top) if y_p < y_top else float('inf')\n",
    "      dist_bottom = abs(y_p - y_bottom) if y_p > y_bottom else float('inf')\n",
    "\n",
    "      # Se il punto è all'interno della bounding box, la distanza è zero\n",
    "      if x_left <= x_p <= x_right and y_top <= y_p <= y_bottom:\n",
    "          min_distance = 0\n",
    "      else:\n",
    "          min_distance = min(dist_left, dist_right, dist_top, dist_bottom)\n",
    "\n",
    "      distances.append(min_distance)\n",
    "\n",
    "# plt.hist(distances, edgecolor='black')\n",
    "# plt.xlabel('Distance')\n",
    "# plt.ylabel('Frequency')\n",
    "# plt.title('Histogram of Distances Over Bounding Boxes')\n",
    "# plt.show()\n"
   ]
  },
  {
   "cell_type": "code",
   "execution_count": 26,
   "metadata": {},
   "outputs": [],
   "source": [
    "# Calcolo della distanza media per ciascun gruppo di dimensioni\n",
    "distance_means = []\n",
    "for i in range(len(bins) - 1):\n",
    "    group_distances = [dist for dist, size in zip(distances, box_sizes) if size == i + 1]\n",
    "    if group_distances:\n",
    "        distance_means.append(np.mean(group_distances))\n",
    "    else:\n",
    "        distance_means.append(0)\n",
    "\n",
    "labels = ['Very Small', 'Small', 'Medium', 'Large']\n",
    "# # Creazione del grafico delle distanze medie per categoria di dimensione\n",
    "# plt.subplot(1, 2, 2)\n",
    "# plt.bar(labels, distance_means, color='orange', edgecolor='black')\n",
    "# plt.title('Average Distance by Bounding Box Size')\n",
    "# plt.xlabel('Bounding Box Size Category')\n",
    "# plt.ylabel('Average Distance')\n",
    "\n",
    "# plt.tight_layout()\n",
    "# plt.show()"
   ]
  },
  {
   "cell_type": "markdown",
   "metadata": {},
   "source": [
    "# 3 networks"
   ]
  },
  {
   "cell_type": "code",
   "execution_count": 28,
   "metadata": {},
   "outputs": [],
   "source": [
    "# Calcolo delle distanze minime\n",
    "distances_1 = []\n",
    "\n",
    "#for (idx_p,_,_, x_p, y_p), (idx_b,_, x_center, y_center, width, height) in zip(pred_boxes, real_boxes):\n",
    "for idx_p, _ ,_ ,x_p, y_p in pred_boxes_1:\n",
    "  for idx_b,_, x_center, y_center, width, height in real_boxes_1:\n",
    "    if idx_p == idx_b:\n",
    "      x_left = x_center - width / 2\n",
    "      x_right = x_center + width / 2\n",
    "      y_top = y_center - height / 2\n",
    "      y_bottom = y_center + height / 2\n",
    "\n",
    "      dist_left = abs(x_p - x_left) if x_p < x_left else float('inf')\n",
    "      dist_right = abs(x_p - x_right) if x_p > x_right else float('inf')\n",
    "      dist_top = abs(y_p - y_top) if y_p < y_top else float('inf')\n",
    "      dist_bottom = abs(y_p - y_bottom) if y_p > y_bottom else float('inf')\n",
    "\n",
    "      # Se il punto è all'interno della bounding box, la distanza è zero\n",
    "      if x_left <= x_p <= x_right and y_top <= y_p <= y_bottom:\n",
    "          min_distance = 0\n",
    "      else:\n",
    "          min_distance = min(dist_left, dist_right, dist_top, dist_bottom)\n",
    "\n",
    "      distances_1.append(min_distance)\n",
    "\n",
    "# plt.hist(distances_1, edgecolor='black')\n",
    "# plt.xlabel('Distance')\n",
    "# plt.ylabel('Frequency')\n",
    "# plt.title('Histogram of Distances Over Bounding Boxes')\n",
    "# plt.show()\n"
   ]
  },
  {
   "cell_type": "code",
   "execution_count": 29,
   "metadata": {},
   "outputs": [],
   "source": [
    "# Calcolo delle distanze minime\n",
    "distances_2 = []\n",
    "\n",
    "#for (idx_p,_,_, x_p, y_p), (idx_b,_, x_center, y_center, width, height) in zip(pred_boxes, real_boxes):\n",
    "for idx_p, _ ,_ ,x_p, y_p in pred_boxes_2:\n",
    "  for idx_b,_, x_center, y_center, width, height in real_boxes_2:\n",
    "    if idx_p == idx_b:\n",
    "      x_left = x_center - width / 2\n",
    "      x_right = x_center + width / 2\n",
    "      y_top = y_center - height / 2\n",
    "      y_bottom = y_center + height / 2\n",
    "\n",
    "      dist_left = abs(x_p - x_left) if x_p < x_left else float('inf')\n",
    "      dist_right = abs(x_p - x_right) if x_p > x_right else float('inf')\n",
    "      dist_top = abs(y_p - y_top) if y_p < y_top else float('inf')\n",
    "      dist_bottom = abs(y_p - y_bottom) if y_p > y_bottom else float('inf')\n",
    "\n",
    "      # Se il punto è all'interno della bounding box, la distanza è zero\n",
    "      if x_left <= x_p <= x_right and y_top <= y_p <= y_bottom:\n",
    "          min_distance = 0\n",
    "      else:\n",
    "          min_distance = min(dist_left, dist_right, dist_top, dist_bottom)\n",
    "\n",
    "      distances_2.append(min_distance)\n",
    "\n",
    "# plt.hist(distances_2, edgecolor='black')\n",
    "# plt.xlabel('Distance')\n",
    "# plt.ylabel('Frequency')\n",
    "# plt.title('Histogram of Distances Over Bounding Boxes')\n",
    "# plt.show()"
   ]
  },
  {
   "cell_type": "code",
   "execution_count": 30,
   "metadata": {},
   "outputs": [],
   "source": [
    "# Calcolo delle distanze minime\n",
    "distances_3 = []\n",
    "\n",
    "#for (idx_p,_,_, x_p, y_p), (idx_b,_, x_center, y_center, width, height) in zip(pred_boxes, real_boxes):\n",
    "for idx_p, _ ,_ ,x_p, y_p in pred_boxes_3:\n",
    "  for idx_b,_, x_center, y_center, width, height in real_boxes_3:\n",
    "    if idx_p == idx_b:\n",
    "      x_left = x_center - width / 2\n",
    "      x_right = x_center + width / 2\n",
    "      y_top = y_center - height / 2\n",
    "      y_bottom = y_center + height / 2\n",
    "\n",
    "      dist_left = abs(x_p - x_left) if x_p < x_left else float('inf')\n",
    "      dist_right = abs(x_p - x_right) if x_p > x_right else float('inf')\n",
    "      dist_top = abs(y_p - y_top) if y_p < y_top else float('inf')\n",
    "      dist_bottom = abs(y_p - y_bottom) if y_p > y_bottom else float('inf')\n",
    "\n",
    "      # Se il punto è all'interno della bounding box, la distanza è zero\n",
    "      if x_left <= x_p <= x_right and y_top <= y_p <= y_bottom:\n",
    "          min_distance = 0\n",
    "      else:\n",
    "          min_distance = min(dist_left, dist_right, dist_top, dist_bottom)\n",
    "\n",
    "      distances_3.append(min_distance)\n",
    "\n",
    "# plt.hist(distances_3, edgecolor='black')\n",
    "# plt.xlabel('Distance')\n",
    "# plt.ylabel('Frequency')\n",
    "# plt.title('Histogram of Distances Over Bounding Boxes')\n",
    "# plt.show()"
   ]
  },
  {
   "cell_type": "code",
   "execution_count": 31,
   "metadata": {},
   "outputs": [],
   "source": [
    "# Calcolo della distanza media per ciascun gruppo di dimensioni\n",
    "distance_means = []\n",
    "for i in range(len(bins) - 1):\n",
    "    group_distances = [dist for dist, size in zip(distances, box_sizes) if size == i + 1]\n",
    "    if group_distances:\n",
    "        distance_means.append(np.mean(group_distances))\n",
    "    else:\n",
    "        distance_means.append(0)"
   ]
  },
  {
   "cell_type": "code",
   "execution_count": 32,
   "metadata": {},
   "outputs": [],
   "source": [
    "# Calcolo della distanza media per ciascun gruppo di dimensioni\n",
    "distance_means_1 = []\n",
    "for i in range(len(bins) - 1):\n",
    "    group_distances = [dist for dist, size in zip(distances_1, box_sizes) if size == i + 1]\n",
    "    if group_distances:\n",
    "        distance_means_1.append(np.mean(group_distances))\n",
    "    else:\n",
    "        distance_means_1.append(0)"
   ]
  },
  {
   "cell_type": "code",
   "execution_count": 33,
   "metadata": {},
   "outputs": [],
   "source": [
    "# Calcolo della distanza media per ciascun gruppo di dimensioni\n",
    "distance_means_2 = []\n",
    "for i in range(len(bins) - 1):\n",
    "    group_distances = [dist for dist, size in zip(distances_2, box_sizes) if size == i + 1]\n",
    "    if group_distances:\n",
    "        distance_means_2.append(np.mean(group_distances))\n",
    "    else:\n",
    "        distance_means_2.append(0)"
   ]
  },
  {
   "cell_type": "code",
   "execution_count": 34,
   "metadata": {},
   "outputs": [],
   "source": [
    "# Calcolo della distanza media per ciascun gruppo di dimensioni\n",
    "distance_means_3 = []\n",
    "for i in range(len(bins) - 1):\n",
    "    group_distances = [dist for dist, size in zip(distances_3, box_sizes) if size == i + 1]\n",
    "    if group_distances:\n",
    "        distance_means_3.append(np.mean(group_distances))\n",
    "    else:\n",
    "        distance_means_3.append(0)"
   ]
  },
  {
   "cell_type": "code",
   "execution_count": 37,
   "metadata": {},
   "outputs": [
    {
     "data": {
      "image/png": "[encoded data removed]",
      "text/plain": [
       "<Figure size 640x480 with 1 Axes>"
      ]
     },
     "metadata": {},
     "output_type": "display_data"
    }
   ],
   "source": [
    "# Creiamo una lista di etichette per le categorie di dimensioni\n",
    "labels = ['Very Small', 'Small', 'Medium', 'Large']\n",
    "\n",
    "# Configuriamo il numero di gruppi e il numero di barre per gruppo\n",
    "x = np.arange(len(labels))\n",
    "width = 0.1  # Larghezza delle barre\n",
    "\n",
    "fig, ax = plt.subplots()\n",
    "\n",
    "# Aggiungiamo le barre per ogni set di distance_means\n",
    "rects1 = ax.bar(x - 2 * width, distance_means_1, width, label='1st Model', color='red')\n",
    "rects2 = ax.bar(x - 1 * width, distance_means_2, width, label='2nd Model', color='blue')\n",
    "rects3 = ax.bar(x - 0 * width, distance_means_3, width, label='3rd Model', color='pink')\n",
    "rects4 = ax.bar(x + 1 * width, distance_means, width, label='Ensemble', color='black')\n",
    "\n",
    "# Aggiungiamo le etichette, il titolo e la legenda\n",
    "ax.set_xlabel('Bounding Box Size Category')\n",
    "ax.set_ylabel('Average Distance')\n",
    "ax.set_title('Average Distance by Bounding Box Size')\n",
    "ax.set_xticks(x)\n",
    "ax.set_xticklabels(labels)\n",
    "ax.legend()\n",
    "\n",
    "# Aggiungiamo una disposizione più compatta\n",
    "fig.tight_layout()\n",
    "\n",
    "plt.show()"
   ]
  },
  {
   "cell_type": "markdown",
   "metadata": {},
   "source": [
    "# HE"
   ]
  },
  {
   "cell_type": "markdown",
   "metadata": {},
   "source": [
    "## Save model in ONNX format"
   ]
  },
  {
   "cell_type": "code",
   "execution_count": null,
   "metadata": {},
   "outputs": [],
   "source": [
    "sample = torch.rand(1, 1, 88, 88).to(DEVICE)\n",
    "model.eval()\n",
    "output = model(sample)\n",
    "print(output.shape)"
   ]
  },
  {
   "cell_type": "code",
   "execution_count": null,
   "metadata": {},
   "outputs": [],
   "source": [
    "model_1.eval()\n",
    "output_1 = model_1(sample)\n",
    "print(output_1.shape)"
   ]
  },
  {
   "cell_type": "code",
   "execution_count": null,
   "metadata": {},
   "outputs": [],
   "source": [
    "model_2.eval()\n",
    "output_2 = model_2(sample)\n",
    "print(output_2.shape)"
   ]
  },
  {
   "cell_type": "code",
   "execution_count": null,
   "metadata": {},
   "outputs": [],
   "source": [
    "# Set the path to save the ONNX model\n",
    "onnx_model_path = \"../trained_models/LeNetYOLO.onnx\"\n",
    "\n",
    "# Export the model to ONNX format\n",
    "torch.onnx.export(model, sample, onnx_model_path)"
   ]
  },
  {
   "cell_type": "code",
   "execution_count": null,
   "metadata": {},
   "outputs": [],
   "source": [
    "# Set the path to save the ONNX model\n",
    "onnx_model_path = \"../trained_models/LeNetYOLO_1.onnx\"\n",
    "\n",
    "# Export the model to ONNX format\n",
    "torch.onnx.export(model_1, sample, onnx_model_path)"
   ]
  },
  {
   "cell_type": "code",
   "execution_count": null,
   "metadata": {},
   "outputs": [],
   "source": [
    "onnx_model_path = \"../trained_models/LeNetYOLO_2.onnx\"\n",
    "\n",
    "# Export the model to ONNX format\n",
    "torch.onnx.export(model_2, sample, onnx_model_path)"
   ]
  },
  {
   "cell_type": "markdown",
   "metadata": {},
   "source": [
    "## Setup pyhelayers"
   ]
  },
  {
   "cell_type": "code",
   "execution_count": 22,
   "metadata": {},
   "outputs": [],
   "source": [
    "import pyhelayers\n",
    "import sys\n",
    "sys.path.append('../../modules')  # Adds the modules directory to sys.path\n",
    "\n",
    "import utilshe"
   ]
  },
  {
   "cell_type": "code",
   "execution_count": 23,
   "metadata": {},
   "outputs": [
    {
     "name": "stdout",
     "output_type": "stream",
     "text": [
      "(7936, 1, 88, 88)\n",
      "(7936, 4, 4, 7)\n"
     ]
    }
   ],
   "source": [
    "# Preparazione dei dati\n",
    "test_img_list = []\n",
    "test_label_list = []\n",
    "for values in test_dataset:\n",
    "    image = values[0]\n",
    "    label = values[1]\n",
    "    test_img_list.append(image)\n",
    "    test_label_list.append(label)\n",
    "    if len(test_img_list) == 7936:\n",
    "        break\n",
    "\n",
    "test_img_array = np.array(test_img_list)\n",
    "test_label_array = np.array(test_label_list)\n",
    "\n",
    "print(test_img_array.shape)\n",
    "print(test_label_array.shape)"
   ]
  },
  {
   "cell_type": "code",
   "execution_count": 24,
   "metadata": {},
   "outputs": [
    {
     "name": "stdout",
     "output_type": "stream",
     "text": [
      "Misc. initializations\n"
     ]
    }
   ],
   "source": [
    "# Inizializzazioni varie\n",
    "utilshe.verify_memory()\n",
    "\n",
    "print('Misc. initializations')"
   ]
  },
  {
   "cell_type": "markdown",
   "metadata": {},
   "source": [
    "# Function which encrypt model"
   ]
  },
  {
   "cell_type": "code",
   "execution_count": 32,
   "metadata": {},
   "outputs": [],
   "source": [
    "def encrypt_model(model):\n",
    "    \"\"\"\n",
    "    Model is a string of type : ../trained_models/LeNetYOLO.onnx\n",
    "    \"\"\"\n",
    "    context = pyhelayers.DefaultContext()\n",
    "    # Modello 1\n",
    "    nnp = pyhelayers.NeuralNetPlain()\n",
    "    hyper_params = pyhelayers.PlainModelHyperParams()\n",
    "    nnp.init_from_files(hyper_params, [model])\n",
    "    he_run_req = pyhelayers.HeRunRequirements()\n",
    "    he_run_req.set_he_context_options([pyhelayers.DefaultContext()])\n",
    "    he_run_req.optimize_for_batch_size(32)\n",
    "    profile = pyhelayers.HeModel.compile(nnp, he_run_req)\n",
    "    batch_size = profile.get_optimal_batch_size()\n",
    "    profile.get_he_config_requirement()\n",
    "    context = pyhelayers.HeModel.create_context(profile)\n",
    "    profile = pyhelayers.HeModel.compile(nnp, he_run_req)\n",
    "    batch_size = profile.get_optimal_batch_size()\n",
    "    context.get_scheme_name()\n",
    "    nn = pyhelayers.NeuralNet(context)\n",
    "    nn.encode_encrypt(nnp, profile)\n",
    "    \n",
    "    tot_predictions = []\n",
    "\n",
    "    for i in range(0,int(test_img_array.shape[0]/batch_size) - 1):\n",
    "        print(f\"Batch {i}\")\n",
    "        plain_samples, labels = utilshe.extract_batch(test_img_array, test_label_array, batch_size, i)\n",
    "        iop = nn.create_io_processor()\n",
    "        samples = pyhelayers.EncryptedData(context)\n",
    "        iop.encode_encrypt_inputs_for_predict(samples, [plain_samples])\n",
    "        predictions = pyhelayers.EncryptedData(context)\n",
    "        nn.predict(predictions, samples)\n",
    "        plain_predictions = iop.decrypt_decode_output(predictions)\n",
    "        tot_predictions.append(plain_predictions)\n",
    "    \n",
    "    tot_predictions = np.array(tot_predictions)\n",
    "    tot_predictions = tot_predictions.reshape(-1, 5)\n",
    "\n",
    "    return tot_predictions\n"
   ]
  },
  {
   "cell_type": "code",
   "execution_count": 33,
   "metadata": {},
   "outputs": [
    {
     "ename": "",
     "evalue": "",
     "output_type": "error",
     "traceback": [
      "\u001b[1;31mCannot execute code, session has been disposed. Please try restarting the Kernel."
     ]
    },
    {
     "ename": "",
     "evalue": "",
     "output_type": "error",
     "traceback": [
      "\u001b[1;31mCannot execute code, session has been disposed. Please try restarting the Kernel. \n",
      "\u001b[1;31mView Jupyter <a href='command:jupyter.viewOutput'>log</a> for further details."
     ]
    }
   ],
   "source": [
    "pred_model_1 = encrypt_model(\"../trained_models/LeNetYOLO.onnx\")\n",
    "pred_model_1.shape"
   ]
  },
  {
   "cell_type": "code",
   "execution_count": null,
   "metadata": {},
   "outputs": [],
   "source": [
    "pred_model_2 = encrypt_model(\"../trained_models/LeNetYOLO_1.onnx\")\n",
    "pred_model_2.shape"
   ]
  },
  {
   "cell_type": "code",
   "execution_count": null,
   "metadata": {},
   "outputs": [],
   "source": [
    "pred_model_3 = encrypt_model(\"../trained_models/LeNetYOLO_2.onnx\")\n",
    "pred_model_3.shape"
   ]
  },
  {
   "cell_type": "markdown",
   "metadata": {},
   "source": [
    "## Cloud Configuration Example with first model"
   ]
  },
  {
   "cell_type": "code",
   "execution_count": 42,
   "metadata": {},
   "outputs": [
    {
     "name": "stdout",
     "output_type": "stream",
     "text": [
      "HE context 1 ready\n"
     ]
    }
   ],
   "source": [
    "context1 = pyhelayers.DefaultContext()\n",
    "print('HE context 1 ready')"
   ]
  },
  {
   "cell_type": "code",
   "execution_count": 43,
   "metadata": {},
   "outputs": [
    {
     "name": "stdout",
     "output_type": "stream",
     "text": [
      "Profile 1 ready. Batch size = 16\n"
     ]
    }
   ],
   "source": [
    "# Modello 1\n",
    "nnp1 = pyhelayers.NeuralNetPlain()\n",
    "hyper_params1 = pyhelayers.PlainModelHyperParams()\n",
    "nnp1.init_from_files(hyper_params1, [\"../trained_models/LeNetYOLO.onnx\"])\n",
    "he_run_req1 = pyhelayers.HeRunRequirements()\n",
    "he_run_req1.set_he_context_options([pyhelayers.DefaultContext()])\n",
    "he_run_req1.optimize_for_batch_size(16)\n",
    "\n",
    "profile1 = pyhelayers.HeModel.compile(nnp1, he_run_req1)\n",
    "batch_size1 = profile1.get_optimal_batch_size()\n",
    "print('Profile 1 ready. Batch size =', batch_size1)"
   ]
  },
  {
   "cell_type": "code",
   "execution_count": 76,
   "metadata": {},
   "outputs": [
    {
     "name": "stdout",
     "output_type": "stream",
     "text": [
      "HE context 1 initialized\n"
     ]
    }
   ],
   "source": [
    "profile1.get_he_config_requirement()\n",
    "context1 = pyhelayers.HeModel.create_context(profile1)\n",
    "print('HE context 1 initialized')"
   ]
  },
  {
   "cell_type": "code",
   "execution_count": 45,
   "metadata": {},
   "outputs": [
    {
     "name": "stdout",
     "output_type": "stream",
     "text": [
      "Encrypted network 1 ready\n"
     ]
    }
   ],
   "source": [
    "context1.get_scheme_name()\n",
    "nn1 = pyhelayers.NeuralNet(context1)\n",
    "nn1.encode_encrypt(nnp1, profile1)\n",
    "print('Encrypted network 1 ready')"
   ]
  },
  {
   "cell_type": "code",
   "execution_count": 46,
   "metadata": {},
   "outputs": [
    {
     "name": "stdout",
     "output_type": "stream",
     "text": [
      "Batch of size 16 loaded\n",
      "(16, 1, 88, 88)\n",
      "float32\n"
     ]
    }
   ],
   "source": [
    "# Estrazione del batch\n",
    "plain_samples, labels = utilshe.extract_batch(test_img_array, test_label_array, batch_size1, 0)\n",
    "\n",
    "print('Batch of size', batch_size1, 'loaded')\n",
    "print(plain_samples.shape)\n",
    "print(plain_samples.dtype)"
   ]
  },
  {
   "cell_type": "code",
   "execution_count": 47,
   "metadata": {},
   "outputs": [
    {
     "name": "stdout",
     "output_type": "stream",
     "text": [
      "Test data encrypted for model 1\n"
     ]
    }
   ],
   "source": [
    "# Crittografia dei dati di input per il modello 1\n",
    "iop1 = nn1.create_io_processor()\n",
    "samples1 = pyhelayers.EncryptedData(context1)\n",
    "iop1.encode_encrypt_inputs_for_predict(samples1, [plain_samples])\n",
    "print('Test data encrypted for model 1')"
   ]
  },
  {
   "cell_type": "code",
   "execution_count": 73,
   "metadata": {},
   "outputs": [],
   "source": [
    "samples1.save_to_file('samples1_encrypted_data')\n",
    "context1.save_secret_key_to_file('secret_key')"
   ]
  },
  {
   "cell_type": "code",
   "execution_count": 74,
   "metadata": {},
   "outputs": [],
   "source": [
    "def read_file_to_buffer(file_name):\n",
    "    try:\n",
    "        with open(file_name, 'rb') as file:\n",
    "            buf = file.read()\n",
    "        return buf\n",
    "    except FileNotFoundError:\n",
    "        print(f\"Il file {file_name} non esiste.\")\n",
    "        return None\n",
    "    except Exception as e:\n",
    "        print(f\"Si è verificato un errore: {e}\")\n",
    "        return None\n",
    "\n",
    "buf = read_file_to_buffer('samples1_encrypted_data')"
   ]
  },
  {
   "cell_type": "code",
   "execution_count": 77,
   "metadata": {},
   "outputs": [
    {
     "name": "stderr",
     "output_type": "stream",
     "text": [
      "Loading failed due to mismatching contexts.\n",
      "The input file belongs to context with id 740737406,\n",
      "while the context in memory has id -1.\n"
     ]
    },
    {
     "ename": "RuntimeError",
     "evalue": "loading failed due to mismatching contexts.",
     "output_type": "error",
     "traceback": [
      "\u001b[0;31m---------------------------------------------------------------------------\u001b[0m",
      "\u001b[0;31mRuntimeError\u001b[0m                              Traceback (most recent call last)",
      "Cell \u001b[0;32mIn[77], line 2\u001b[0m\n\u001b[1;32m      1\u001b[0m context1 \u001b[38;5;241m=\u001b[39m pyhelayers\u001b[38;5;241m.\u001b[39mDefaultContext()\n\u001b[0;32m----> 2\u001b[0m \u001b[43mcontext1\u001b[49m\u001b[38;5;241;43m.\u001b[39;49m\u001b[43mload_secret_key_from_file\u001b[49m\u001b[43m(\u001b[49m\u001b[38;5;124;43m'\u001b[39;49m\u001b[38;5;124;43msecret_key\u001b[39;49m\u001b[38;5;124;43m'\u001b[39;49m\u001b[43m)\u001b[49m\n",
      "\u001b[0;31mRuntimeError\u001b[0m: loading failed due to mismatching contexts."
     ]
    }
   ],
   "source": [
    "context1 = pyhelayers.DefaultContext()\n",
    "context1.load_secret_key_from_file('secret_key')"
   ]
  },
  {
   "cell_type": "code",
   "execution_count": null,
   "metadata": {},
   "outputs": [],
   "source": [
    "\n",
    "\n",
    "load_samples = pyhelayers.loadEncryptedData(context1,)"
   ]
  },
  {
   "cell_type": "code",
   "execution_count": 48,
   "metadata": {},
   "outputs": [
    {
     "name": "stdout",
     "output_type": "stream",
     "text": [
      "Duration of predict 1: 7.930 (s)\n",
      "Duration of predict per sample model 1: 0.496 (s)\n"
     ]
    }
   ],
   "source": [
    "# Inferenza crittografata per il modello 1\n",
    "utilshe.start_timer()\n",
    "predictions1 = pyhelayers.EncryptedData(context1)\n",
    "nn1.predict(predictions1, samples1)\n",
    "duration1 = utilshe.end_timer('predict 1')\n",
    "utilshe.report_duration('predict per sample model 1', duration1 / batch_size1)"
   ]
  },
  {
   "cell_type": "markdown",
   "metadata": {},
   "source": [
    "## Ensemble"
   ]
  },
  {
   "cell_type": "code",
   "execution_count": null,
   "metadata": {},
   "outputs": [],
   "source": [
    "def get_bboxes_after_HE(\n",
    "    predictions,\n",
    "    img,\n",
    "    labels,\n",
    "    device,\n",
    "):\n",
    "    all_pred_centers = []\n",
    "    all_true_centers = []\n",
    "\n",
    "    predictions = torch.tensor(predictions).to(device)\n",
    "    img = torch.tensor(img).to(device)\n",
    "    labels = torch.tensor(labels).to(device)\n",
    "    \n",
    "    batch_size = img.shape[0]\n",
    "    true_centers = cellcenters_to_centers(labels) # type: ignore\n",
    "    pred_centers = cellcenters_to_centers(predictions) # type: ignore\n",
    "\n",
    "    train_idx = 0\n",
    "\n",
    "    for idx in range(batch_size):\n",
    "\n",
    "        nms_centers= non_max_suppression(\n",
    "            pred_centers[idx]\n",
    "        )\n",
    "\n",
    "        for center in nms_centers:\n",
    "            all_pred_centers.append([train_idx] + center)\n",
    "\n",
    "        # for center in pred_centers[idx]:\n",
    "        #     if center[1] > 0:\n",
    "        #         all_pred_centers.append([train_idx] + center)\n",
    "\n",
    "        for center in true_centers[idx]:\n",
    "            if center[1] > 0:\n",
    "                all_true_centers.append([train_idx] + center)\n",
    "\n",
    "\n",
    "        train_idx += 1\n",
    "\n",
    "    return all_pred_centers, all_true_centers\n",
    "\n",
    "\n",
    "def convert_cellcenters(predictions, S=4, C=1):\n",
    "    \"\"\"\n",
    "    Converts predictions from the model to centers\n",
    "    \"\"\"\n",
    "    # predictions = predictions.to(\"cpu\")\n",
    "    batch_size = predictions.shape[0]\n",
    "    predictions = predictions.reshape(batch_size, S, S, C + 6)\n",
    "\n",
    "    centers1 = predictions[..., C + 1:C + 3]\n",
    "    centers2 = predictions[..., C + 4:C + 6]\n",
    "\n",
    "    scores = torch.cat(\n",
    "        (predictions[..., C].unsqueeze(0), predictions[..., C + 3].unsqueeze(0)), dim=0\n",
    "    )\n",
    "    best_center = scores.argmax(0).unsqueeze(-1)\n",
    "\n",
    "    best_centers = centers1 * (1 - best_center) + best_center * centers2\n",
    "\n",
    "    # This results in a tensor with shape (batch_size, 7, 7, 1) where each element represents the index of a grid cell.\n",
    "    cell_indices = torch.arange(S).repeat(batch_size, S, 1).unsqueeze(-1)\n",
    "    x = 1 / S * (best_centers[..., :1] + cell_indices)\n",
    "    # Permute because is used here to swap these indices to match the (x, y) convention used in the best_boxes tensor.\n",
    "    # [0,1,2]->[0,0,0]\n",
    "    # [0,1,2]->[1,1,1]\n",
    "    # [0,1,2]->[2,2,2]\n",
    "    y = 1 / S * (best_centers[..., 1:2] + cell_indices.permute(0, 2, 1, 3))\n",
    "    converted_centers = torch.cat((x, y), dim=-1)\n",
    "    predicted_class = predictions[..., :C].argmax(-1).unsqueeze(-1)\n",
    "    best_confidence = torch.max(predictions[..., C], predictions[..., C + 3]).unsqueeze(\n",
    "        -1\n",
    "    )\n",
    "\n",
    "    converted_preds = torch.cat(\n",
    "        (predicted_class, best_confidence, converted_centers), dim=-1\n",
    "    )\n",
    "\n",
    "    return converted_preds\n",
    "\n",
    "def cellcenters_to_centers(out, S=4):\n",
    "    converted_pred = convert_cellcenters(out).reshape(out.shape[0], S * S, -1)\n",
    "    converted_pred[..., 0] = converted_pred[..., 0].long()\n",
    "    all_centers = []\n",
    "\n",
    "    for ex_idx in range(out.shape[0]):\n",
    "        centers = []\n",
    "        for center_idx in range(S * S):\n",
    "            centers.append([x.item() for x in converted_pred[ex_idx, center_idx, :]])\n",
    "        all_centers.append(centers)\n",
    "\n",
    "    return all_centers"
   ]
  },
  {
   "cell_type": "code",
   "execution_count": null,
   "metadata": {},
   "outputs": [],
   "source": [
    "pred_centers_1, true_centers = get_bboxes_after_HE(plain_predictions_1, test_img_array, test_label_array, DEVICE)\n",
    "pred_centers_2, true_centers = get_bboxes_after_HE(plain_predictions_2, test_img_array, test_label_array, DEVICE)"
   ]
  },
  {
   "cell_type": "code",
   "execution_count": null,
   "metadata": {},
   "outputs": [],
   "source": [
    "pred_centers_1 = np.array(pred_centers_1)\n",
    "pred_centers_2 = np.array(pred_centers_2)\n",
    "\n",
    "pred_centers_1, pred_centers_2"
   ]
  },
  {
   "cell_type": "code",
   "execution_count": null,
   "metadata": {},
   "outputs": [],
   "source": [
    "ensemble = np.mean([pred_centers_1, pred_centers_2], axis=0)\n",
    "ensemble"
   ]
  },
  {
   "cell_type": "code",
   "execution_count": null,
   "metadata": {},
   "outputs": [],
   "source": [
    "pred_1=[]\n",
    "for sample in test_img_array:\n",
    "    tensor_sample = torch.tensor(sample).unsqueeze(0)\n",
    "    output_1 = model(tensor_sample)\n",
    "    output_1 = output_1.detach().numpy()\n",
    "    pred_1.append(output_1)\n",
    "pred_1 = np.array(pred_1)\n",
    "pred_1 = pred_1.reshape(1, 112)\n",
    "print(f\"plain prediction shape before HE: {pred_1.shape}\")\n"
   ]
  },
  {
   "cell_type": "code",
   "execution_count": null,
   "metadata": {},
   "outputs": [],
   "source": [
    "pred_2=[]\n",
    "for sample in test_img_array:\n",
    "    tensor_sample = torch.tensor(sample).unsqueeze(0)\n",
    "    output_2 = model(tensor_sample)\n",
    "    output_2 = output_2.detach().numpy()\n",
    "    pred_2.append(output_2)\n",
    "pred_2 = np.array(pred_2)\n",
    "pred_2 = pred_2.reshape(1, 112)\n",
    "print(f\"plain prediction shape before HE: {pred_2.shape}\")"
   ]
  },
  {
   "cell_type": "code",
   "execution_count": null,
   "metadata": {},
   "outputs": [],
   "source": [
    "pred_1 , true_centers = get_bboxes_after_HE(pred_1, test_img_array, test_label_array, DEVICE)\n",
    "pred_2 , true_centers = get_bboxes_after_HE(pred_2, test_img_array, test_label_array, DEVICE)\n",
    "pred_1 = np.array(pred_1)\n",
    "pred_2 = np.array(pred_2)\n",
    "\n",
    "ensemble = np.mean([pred_1, pred_2], axis=0)\n",
    "ensemble"
   ]
  }
 ],
 "metadata": {
  "kernelspec": {
   "display_name": ".venv",
   "language": "python",
   "name": "python3"
  },
  "language_info": {
   "codemirror_mode": {
    "name": "ipython",
    "version": 3
   },
   "file_extension": ".py",
   "mimetype": "text/x-python",
   "name": "python",
   "nbconvert_exporter": "python",
   "pygments_lexer": "ipython3",
   "version": "3.10.14"
  }
 },
 "nbformat": 4,
 "nbformat_minor": 2
}
